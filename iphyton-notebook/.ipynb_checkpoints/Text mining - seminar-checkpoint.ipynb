{
 "cells": [
  {
   "cell_type": "code",
   "execution_count": 1,
   "metadata": {
    "collapsed": true
   },
   "outputs": [],
   "source": [
    "import requests"
   ]
  },
  {
   "cell_type": "code",
   "execution_count": 6,
   "metadata": {
    "collapsed": true
   },
   "outputs": [],
   "source": [
    "response = requests.get('http://yandex.ru/')"
   ]
  },
  {
   "cell_type": "code",
   "execution_count": 7,
   "metadata": {
    "collapsed": false
   },
   "outputs": [
    {
     "data": {
      "text/plain": [
       "404"
      ]
     },
     "execution_count": 7,
     "metadata": {},
     "output_type": "execute_result"
    }
   ],
   "source": [
    "response.status_code"
   ]
  },
  {
   "cell_type": "code",
   "execution_count": 21,
   "metadata": {
    "collapsed": false
   },
   "outputs": [],
   "source": [
    "from bs4 import BeautifulSoup"
   ]
  },
  {
   "cell_type": "code",
   "execution_count": null,
   "metadata": {
    "collapsed": true
   },
   "outputs": [],
   "source": []
  },
  {
   "cell_type": "code",
   "execution_count": null,
   "metadata": {
    "collapsed": true
   },
   "outputs": [],
   "source": []
  },
  {
   "cell_type": "code",
   "execution_count": 13,
   "metadata": {
    "collapsed": true
   },
   "outputs": [],
   "source": [
    "response = requests.get('https://api.hh.ru/vacancies/1')"
   ]
  },
  {
   "cell_type": "code",
   "execution_count": 14,
   "metadata": {
    "collapsed": false
   },
   "outputs": [
    {
     "data": {
      "text/plain": [
       "u'{\"alternate_url\": \"https://hh.ru/vacancy/1\", \"code\": null, \"premium\": false, \"description\": \"SCOPE OF THE ROLE, \\\\r<br />\\\\n- Develop fuel Offer on all Retail channels, COCO channel, CODO channel, Jobber Channel, \\\\r<br />\\\\n- Understand Retail Fuel Market and identify opportunities for making the Company fuel  Offer distinctive vs competitors \\\\r<br />\\\\n- Put together economics to understand benefits of  possibilities of launching  new programme through retail channels (new product launch/additivation) \\\\r<br />\\\\n- Co-ordinate fuel marketing campaigns in liaison with Russia &amp; Ukraine \\\\r<br />\\\\n- Act  as the fuel standard keeper through the Company for all Retail channels \\\\r<br />\\\\n- Liaise with logistics as well as Refining when elaborating any fuel programme applicable in Retail and on a ongoing basis \\\\r<br />\\\\n- Ensure a quality check programme \\\\r<br />\\\\n- Liaise with marketing brand in marketing development Team to understand impact of brand decision on fuel Offer strategy in Retail \\\\r<br />\\\\n- In liaison with Offer &amp; Development Senior Manager, establish contact with Company  Global Team to seek for opportunities of development of new Fuel products in Company  Retail branded Network. \\\\r<br />\\\\n- Participate in/conduct market research/requirements  for all topics related to fuel offer at retail sites\\\\r<br />\\\\n- Support Offer &amp; Development Senior Manager on ad-hoc project \\\\r<br />\\\\n\\\\r<br />\\\\nEXPERIENCE/SKILLS/COMPETENCIES \\\\r<br />\\\\n- Retail experience and understanding of Retail business in Russia \\\\r<br />\\\\n- Ability to look at topics from a Marketing perspective/Customer driven \\\\r<br />\\\\n- Capabilities to have a strategic approach as well as understanding operational implications/implementations   \\\\r<br />\\\\n- Financial &amp; analytical skills \\\\r<br />\\\\n- Ability to liaise with others and establish Network \\\\r<br />\\\\n- Self starter, ability to work within a Team \\\\r<br />\\\\n- Both fluent in Russian &amp; English (spoken/written)\", \"schedule\": {\"id\": \"fullDay\", \"name\": \"\\u041f\\u043e\\u043b\\u043d\\u044b\\u0439 \\u0434\\u0435\\u043d\\u044c\"}, \"suitable_resumes_url\": null, \"site\": {\"id\": \"hh\", \"name\": \"hh.ru\"}, \"billing_type\": {\"id\": \"standard\", \"name\": \"\\u0421\\u0442\\u0430\\u043d\\u0434\\u0430\\u0440\\u0442\"}, \"published_at\": \"2004-08-10T10:31:25+0400\", \"test\": null, \"accept_handicapped\": false, \"experience\": {\"id\": \"between3And6\", \"name\": \"\\u041e\\u0442 3 \\u0434\\u043e 6 \\u043b\\u0435\\u0442\"}, \"address\": null, \"key_skills\": [], \"allow_messages\": true, \"employment\": {\"id\": \"full\", \"name\": \"\\u041f\\u043e\\u043b\\u043d\\u0430\\u044f \\u0437\\u0430\\u043d\\u044f\\u0442\\u043e\\u0441\\u0442\\u044c\"}, \"id\": \"1\", \"response_url\": null, \"salary\": null, \"archived\": true, \"name\": \"FUEL OFFER MANAGER\", \"contacts\": null, \"created_at\": \"2004-08-10T10:31:25+0400\", \"area\": {\"url\": \"https://api.hh.ru/areas/1\", \"id\": \"1\", \"name\": \"\\u041c\\u043e\\u0441\\u043a\\u0432\\u0430\"}, \"relations\": [], \"employer\": {\"logo_urls\": {\"90\": \"https://hhcdn.ru/employer-logo/309308.png\", \"original\": \"https://hhcdn.ru/employer-logo-original/232541.bmp\", \"240\": \"https://hhcdn.ru/employer-logo/382165.png\"}, \"vacancies_url\": \"https://api.hh.ru/vacancies?employer_id=2119\", \"name\": \"\\u041f\\u0440\\u043e\\u0433\\u0440\\u0430\\u043c\\u043c\\u0430 \\u041f\\u0435\\u0440\\u0441\\u043e\\u043d\\u0430\\u043b-\\u0421\\u0435\\u0440\\u0432\\u0438\\u0441\", \"url\": \"https://api.hh.ru/employers/2119\", \"alternate_url\": \"https://hh.ru/employer/2119\", \"id\": \"2119\"}, \"response_letter_required\": false, \"apply_alternate_url\": \"https://hh.ru/applicant/vacancy_response?vacancyId=1\", \"negotiations_url\": null, \"department\": null, \"branded_description\": null, \"hidden\": false, \"type\": {\"id\": \"open\", \"name\": \"\\u041e\\u0442\\u043a\\u0440\\u044b\\u0442\\u0430\\u044f\"}, \"specializations\": [{\"profarea_id\": \"17\", \"profarea_name\": \"\\u041f\\u0440\\u043e\\u0434\\u0430\\u0436\\u0438\", \"id\": \"17.59\", \"name\": \"\\u0413\\u0421\\u041c, \\u043d\\u0435\\u0444\\u0442\\u044c, \\u0431\\u0435\\u043d\\u0437\\u0438\\u043d\"}, {\"profarea_id\": \"17\", \"profarea_name\": \"\\u041f\\u0440\\u043e\\u0434\\u0430\\u0436\\u0438\", \"id\": \"17.256\", \"name\": \"\\u0420\\u043e\\u0437\\u043d\\u0438\\u0447\\u043d\\u0430\\u044f \\u0442\\u043e\\u0440\\u0433\\u043e\\u0432\\u043b\\u044f\"}, {\"profarea_id\": \"17\", \"profarea_name\": \"\\u041f\\u0440\\u043e\\u0434\\u0430\\u0436\\u0438\", \"id\": \"17.324\", \"name\": \"\\u0423\\u043f\\u0440\\u0430\\u0432\\u043b\\u0435\\u043d\\u0438\\u0435 \\u043f\\u0440\\u043e\\u0434\\u0430\\u0436\\u0430\\u043c\\u0438\"}, {\"profarea_id\": \"3\", \"profarea_name\": \"\\u041c\\u0430\\u0440\\u043a\\u0435\\u0442\\u0438\\u043d\\u0433, \\u0440\\u0435\\u043a\\u043b\\u0430\\u043c\\u0430, PR\", \"id\": \"3.305\", \"name\": \"\\u0422\\u043e\\u0440\\u0433\\u043e\\u0432\\u044b\\u0439 \\u043c\\u0430\\u0440\\u043a\\u0435\\u0442\\u0438\\u043d\\u0433(Trade marketing)\"}, {\"profarea_id\": \"3\", \"profarea_name\": \"\\u041c\\u0430\\u0440\\u043a\\u0435\\u0442\\u0438\\u043d\\u0433, \\u0440\\u0435\\u043a\\u043b\\u0430\\u043c\\u0430, PR\", \"id\": \"3.150\", \"name\": \"\\u041c\\u0435\\u043d\\u0435\\u0434\\u0436\\u043c\\u0435\\u043d\\u0442 \\u043f\\u0440\\u043e\\u0434\\u0443\\u043a\\u0442\\u0430 (Product manager)\"}, {\"profarea_id\": \"3\", \"profarea_name\": \"\\u041c\\u0430\\u0440\\u043a\\u0435\\u0442\\u0438\\u043d\\u0433, \\u0440\\u0435\\u043a\\u043b\\u0430\\u043c\\u0430, PR\", \"id\": \"3.40\", \"name\": \"\\u0411\\u0440\\u0435\\u043d\\u0434-\\u043c\\u0435\\u043d\\u0435\\u0434\\u0436\\u043c\\u0435\\u043d\\u0442\"}]}'"
      ]
     },
     "execution_count": 14,
     "metadata": {},
     "output_type": "execute_result"
    }
   ],
   "source": [
    "response.text"
   ]
  },
  {
   "cell_type": "code",
   "execution_count": 17,
   "metadata": {
    "collapsed": false
   },
   "outputs": [],
   "source": [
    "data = response.json()"
   ]
  },
  {
   "cell_type": "code",
   "execution_count": 19,
   "metadata": {
    "collapsed": false
   },
   "outputs": [
    {
     "data": {
      "text/plain": [
       "u'SCOPE OF THE ROLE, \\r<br />\\n- Develop fuel Offer on all Retail channels, COCO channel, CODO channel, Jobber Channel, \\r<br />\\n- Understand Retail Fuel Market and identify opportunities for making the Company fuel  Offer distinctive vs competitors \\r<br />\\n- Put together economics to understand benefits of  possibilities of launching  new programme through retail channels (new product launch/additivation) \\r<br />\\n- Co-ordinate fuel marketing campaigns in liaison with Russia &amp; Ukraine \\r<br />\\n- Act  as the fuel standard keeper through the Company for all Retail channels \\r<br />\\n- Liaise with logistics as well as Refining when elaborating any fuel programme applicable in Retail and on a ongoing basis \\r<br />\\n- Ensure a quality check programme \\r<br />\\n- Liaise with marketing brand in marketing development Team to understand impact of brand decision on fuel Offer strategy in Retail \\r<br />\\n- In liaison with Offer &amp; Development Senior Manager, establish contact with Company  Global Team to seek for opportunities of development of new Fuel products in Company  Retail branded Network. \\r<br />\\n- Participate in/conduct market research/requirements  for all topics related to fuel offer at retail sites\\r<br />\\n- Support Offer &amp; Development Senior Manager on ad-hoc project \\r<br />\\n\\r<br />\\nEXPERIENCE/SKILLS/COMPETENCIES \\r<br />\\n- Retail experience and understanding of Retail business in Russia \\r<br />\\n- Ability to look at topics from a Marketing perspective/Customer driven \\r<br />\\n- Capabilities to have a strategic approach as well as understanding operational implications/implementations   \\r<br />\\n- Financial &amp; analytical skills \\r<br />\\n- Ability to liaise with others and establish Network \\r<br />\\n- Self starter, ability to work within a Team \\r<br />\\n- Both fluent in Russian &amp; English (spoken/written)'"
      ]
     },
     "execution_count": 19,
     "metadata": {},
     "output_type": "execute_result"
    }
   ],
   "source": [
    "data.get('description')"
   ]
  },
  {
   "cell_type": "code",
   "execution_count": 24,
   "metadata": {
    "collapsed": false
   },
   "outputs": [
    {
     "name": "stdout",
     "output_type": "stream",
     "text": [
      "SCOPE OF THE ROLE, \r\n",
      "- Develop fuel Offer on all Retail channels, COCO channel, CODO channel, Jobber Channel, \r\n",
      "- Understand Retail Fuel Market and identify opportunities for making the Company fuel  Offer distinctive vs competitors \r\n",
      "- Put together economics to understand benefits of  possibilities of launching  new programme through retail channels (new product launch/additivation) \r\n",
      "- Co-ordinate fuel marketing campaigns in liaison with Russia & Ukraine \r\n",
      "- Act  as the fuel standard keeper through the Company for all Retail channels \r\n",
      "- Liaise with logistics as well as Refining when elaborating any fuel programme applicable in Retail and on a ongoing basis \r\n",
      "- Ensure a quality check programme \r\n",
      "- Liaise with marketing brand in marketing development Team to understand impact of brand decision on fuel Offer strategy in Retail \r\n",
      "- In liaison with Offer & Development Senior Manager, establish contact with Company  Global Team to seek for opportunities of development of new Fuel products in Company  Retail branded Network. \r\n",
      "- Participate in/conduct market research/requirements  for all topics related to fuel offer at retail sites\r\n",
      "- Support Offer & Development Senior Manager on ad-hoc project \r\n",
      "\n",
      "EXPERIENCE/SKILLS/COMPETENCIES \r\n",
      "- Retail experience and understanding of Retail business in Russia \r\n",
      "- Ability to look at topics from a Marketing perspective/Customer driven \r\n",
      "- Capabilities to have a strategic approach as well as understanding operational implications/implementations   \r\n",
      "- Financial & analytical skills \r\n",
      "- Ability to liaise with others and establish Network \r\n",
      "- Self starter, ability to work within a Team \r\n",
      "- Both fluent in Russian & English (spoken/written)\n"
     ]
    }
   ],
   "source": [
    "print BeautifulSoup(data.get('description'), 'lxml').text"
   ]
  },
  {
   "cell_type": "code",
   "execution_count": 25,
   "metadata": {
    "collapsed": true
   },
   "outputs": [],
   "source": [
    "url1 = 'https://api.hh.ru/vacancies?specialization=17.256&per_page=100'"
   ]
  },
  {
   "cell_type": "code",
   "execution_count": 26,
   "metadata": {
    "collapsed": true
   },
   "outputs": [],
   "source": [
    "url2='https://api.hh.ru/vacancies?specialization=1.211&per_page=100'"
   ]
  },
  {
   "cell_type": "code",
   "execution_count": 27,
   "metadata": {
    "collapsed": false
   },
   "outputs": [
    {
     "data": {
      "text/plain": [
       "{u'address': {u'building': None,\n",
       "  u'city': None,\n",
       "  u'description': None,\n",
       "  u'id': u'383410',\n",
       "  u'lat': None,\n",
       "  u'lng': None,\n",
       "  u'metro': {u'lat': 55.761498,\n",
       "   u'line_id': u'7',\n",
       "   u'line_name': u'\\u0422\\u0430\\u0433\\u0430\\u043d\\u0441\\u043a\\u043e-\\u041a\\u0440\\u0430\\u0441\\u043d\\u043e\\u043f\\u0440\\u0435\\u0441\\u043d\\u0435\\u043d\\u0441\\u043a\\u0430\\u044f',\n",
       "   u'lng': 37.624423,\n",
       "   u'station_id': u'7.67',\n",
       "   u'station_name': u'\\u041a\\u0443\\u0437\\u043d\\u0435\\u0446\\u043a\\u0438\\u0439 \\u043c\\u043e\\u0441\\u0442'},\n",
       "  u'metro_stations': [{u'lat': 55.761498,\n",
       "    u'line_id': u'7',\n",
       "    u'line_name': u'\\u0422\\u0430\\u0433\\u0430\\u043d\\u0441\\u043a\\u043e-\\u041a\\u0440\\u0430\\u0441\\u043d\\u043e\\u043f\\u0440\\u0435\\u0441\\u043d\\u0435\\u043d\\u0441\\u043a\\u0430\\u044f',\n",
       "    u'lng': 37.624423,\n",
       "    u'station_id': u'7.67',\n",
       "    u'station_name': u'\\u041a\\u0443\\u0437\\u043d\\u0435\\u0446\\u043a\\u0438\\u0439 \\u043c\\u043e\\u0441\\u0442'}],\n",
       "  u'raw': u'\\u0422\\u0430\\u0433\\u0430\\u043d\\u0441\\u043a\\u043e-\\u041a\\u0440\\u0430\\u0441\\u043d\\u043e\\u043f\\u0440\\u0435\\u0441\\u043d\\u0435\\u043d\\u0441\\u043a\\u0430\\u044f \\u043b\\u0438\\u043d\\u0438\\u044f, \\u043c\\u0435\\u0442\\u0440\\u043e \\u041a\\u0443\\u0437\\u043d\\u0435\\u0446\\u043a\\u0438\\u0439 \\u041c\\u043e\\u0441\\u0442',\n",
       "  u'street': None},\n",
       " u'alternate_url': u'https://hh.ru/vacancy/16317377',\n",
       " u'apply_alternate_url': u'https://hh.ru/applicant/vacancy_response?vacancyId=16317377',\n",
       " u'archived': False,\n",
       " u'area': {u'id': u'1',\n",
       "  u'name': u'\\u041c\\u043e\\u0441\\u043a\\u0432\\u0430',\n",
       "  u'url': u'https://api.hh.ru/areas/1'},\n",
       " u'created_at': u'2016-03-28T20:12:46+0300',\n",
       " u'employer': {u'alternate_url': u'https://hh.ru/employer/1174125',\n",
       "  u'id': u'1174125',\n",
       "  u'logo_urls': {u'240': u'https://hhcdn.ru/employer-logo/1540359.jpeg',\n",
       "   u'90': u'https://hhcdn.ru/employer-logo/1540358.jpeg',\n",
       "   u'original': u'https://hhcdn.ru/employer-logo-original/274457.jpg'},\n",
       "  u'name': u'Ginza Project',\n",
       "  u'url': u'https://api.hh.ru/employers/1174125',\n",
       "  u'vacancies_url': u'https://api.hh.ru/vacancies?employer_id=1174125'},\n",
       " u'id': u'16317377',\n",
       " u'name': u'\\u041a\\u0430\\u0441\\u0441\\u0438\\u0440',\n",
       " u'premium': False,\n",
       " u'published_at': u'2016-03-28T20:12:46+0300',\n",
       " u'relations': [],\n",
       " u'response_letter_required': False,\n",
       " u'salary': None,\n",
       " u'snippet': {u'requirement': u'\\u0413\\u0440\\u0430\\u0436\\u0434\\u0430\\u043d\\u0441\\u0442\\u0432\\u043e \\u0420\\u0424. \\u0417\\u043d\\u0430\\u043d\\u0438\\u0435 \\u043f\\u0440\\u043e\\u0433\\u0440\\u0430\\u043c\\u043c\\u044b R-keeper. \\u041b\\u0438\\u0447\\u043d\\u044b\\u0435 \\u043a\\u0430\\u0447\\u0435\\u0441\\u0442\\u0432\\u0430: \\u0430\\u043a\\u043a\\u0443\\u0440\\u0430\\u0442\\u043d\\u043e\\u0441\\u0442\\u044c, \\u0432\\u044b\\u0441\\u043e\\u043a\\u0430\\u044f \\u0440\\u0430\\u0431\\u043e\\u0442\\u043e\\u0441\\u043f\\u043e\\u0441\\u043e\\u0431\\u043d\\u043e\\u0441\\u0442\\u044c, \\u0443\\u043c\\u0435\\u043d\\u0438\\u0435 \\u0440\\u0430\\u0431\\u043e\\u0442\\u0430\\u0442\\u044c \\u0432 \\u043a\\u043e\\u043b\\u043b\\u0435\\u043a\\u0442\\u0438\\u0432\\u0435.',\n",
       "  u'responsibility': u'\\u041e\\u0441\\u0443\\u0449\\u0435\\u0441\\u0442\\u0432\\u043b\\u0435\\u043d\\u0438\\u0435 \\u0434\\u0435\\u043d\\u0435\\u0436\\u043d\\u043e\\u0433\\u043e \\u0440\\u0430\\u0441\\u0447\\u0435\\u0442\\u0430. \\u041e\\u043f\\u0435\\u0440\\u0430\\u0446\\u0438\\u0438 \\u0441 \\u043d\\u0430\\u043b\\u0438\\u0447\\u043d\\u044b\\u043c\\u0438 \\u0434\\u0435\\u043d\\u0435\\u0436\\u043d\\u044b\\u043c\\u0438 \\u0441\\u0440\\u0435\\u0434\\u0441\\u0442\\u0432\\u0430\\u043c\\u0438 \\u0438 \\u043a\\u0440\\u0435\\u0434\\u0438\\u0442\\u043d\\u044b\\u043c\\u0438 \\u043a\\u0430\\u0440\\u0442\\u0430\\u043c\\u0438. \\u0421\\u043e\\u0441\\u0442\\u0430\\u0432\\u043b\\u0435\\u043d\\u0438\\u0435 \\u043a\\u0430\\u0441\\u0441\\u043e\\u0432\\u043e\\u0439 \\u043e\\u0442\\u0447\\u0435\\u0442\\u043d\\u043e\\u0441\\u0442\\u0438.'},\n",
       " u'type': {u'id': u'open',\n",
       "  u'name': u'\\u041e\\u0442\\u043a\\u0440\\u044b\\u0442\\u0430\\u044f'},\n",
       " u'url': u'https://api.hh.ru/vacancies/16317377?host=hh.ru'}"
      ]
     },
     "execution_count": 27,
     "metadata": {},
     "output_type": "execute_result"
    }
   ],
   "source": [
    "requests.get(url1).json()['items'][0]"
   ]
  },
  {
   "cell_type": "code",
   "execution_count": 34,
   "metadata": {
    "collapsed": false
   },
   "outputs": [],
   "source": [
    "urls = []\n",
    "for i in xrange(0,20):\n",
    "    urls += [x['url'] for x in requests.get(url1 + '&page=' + str(i)).json()['items']]"
   ]
  },
  {
   "cell_type": "code",
   "execution_count": 35,
   "metadata": {
    "collapsed": false
   },
   "outputs": [
    {
     "data": {
      "text/plain": [
       "2000"
      ]
     },
     "execution_count": 35,
     "metadata": {},
     "output_type": "execute_result"
    }
   ],
   "source": [
    "len(urls)"
   ]
  },
  {
   "cell_type": "code",
   "execution_count": 36,
   "metadata": {
    "collapsed": true
   },
   "outputs": [],
   "source": [
    "for i in xrange(0,20):\n",
    "    urls += [x['url'] for x in requests.get(url2 + '&page=' + str(i)).json()['items']]"
   ]
  },
  {
   "cell_type": "code",
   "execution_count": 37,
   "metadata": {
    "collapsed": false
   },
   "outputs": [
    {
     "data": {
      "text/plain": [
       "4000"
      ]
     },
     "execution_count": 37,
     "metadata": {},
     "output_type": "execute_result"
    }
   ],
   "source": [
    "len(urls)"
   ]
  },
  {
   "cell_type": "code",
   "execution_count": 44,
   "metadata": {
    "collapsed": false
   },
   "outputs": [
    {
     "name": "stdout",
     "output_type": "stream",
     "text": [
      "CPU times: user 8.82 ms, sys: 20.6 ms, total: 29.4 ms\n",
      "Wall time: 33.7 ms\n"
     ]
    }
   ],
   "source": [
    "%%time\n",
    "texts = open('1text-2.txt').read().split('\\n')"
   ]
  },
  {
   "cell_type": "code",
   "execution_count": 48,
   "metadata": {
    "collapsed": false
   },
   "outputs": [],
   "source": [
    "del texts[4000]"
   ]
  },
  {
   "cell_type": "code",
   "execution_count": 52,
   "metadata": {
    "collapsed": false
   },
   "outputs": [],
   "source": [
    "def func(url):\n",
    "    return url\n",
    "\n",
    "from multiprocessing import Pool as ThreadPool\n",
    "pool = ThreadPool(16)\n",
    "results = pool.map(func, urls)\n",
    "\n",
    "pool.close()"
   ]
  },
  {
   "cell_type": "code",
   "execution_count": 54,
   "metadata": {
    "collapsed": false
   },
   "outputs": [
    {
     "name": "stdout",
     "output_type": "stream",
     "text": [
      "Обязанности: 1. Работа с \"теплыми клиентами\" в торговом зале; 2. Работа в программе 1С; 3. Ведение заказов покупателя; 4. Заключение договоров с клиентами; 5. Поддержание порядка в торговом зале. Требования: 1. Опыт работы: приветствуется (но компания готова обучать и сотрудников без опыта); 2. Личные качества: ответственность, коммуникабельность, нацеленность на результат, стрессоустойчивость, обучаемость, инициативность, желание работать и зарабатывать. Условия: 1. Место работы: г.Кстово; 2. Оформление трудовых отношений: ТК РФ;3. Режим работы: 4 через 2; 4. Заработная плата: оклад 15 000 руб. + % = от 25 000 руб.; 5. Обучение; 6. Возможность карьерного роста.\n"
     ]
    }
   ],
   "source": [
    "print texts[1]"
   ]
  },
  {
   "cell_type": "code",
   "execution_count": 55,
   "metadata": {
    "collapsed": true
   },
   "outputs": [],
   "source": [
    "texts = open('1text-2.txt').read().split('\\n')"
   ]
  },
  {
   "cell_type": "code",
   "execution_count": 56,
   "metadata": {
    "collapsed": true
   },
   "outputs": [],
   "source": [
    "from sklearn.feature_extraction.text import CountVectorizer"
   ]
  },
  {
   "cell_type": "code",
   "execution_count": 58,
   "metadata": {
    "collapsed": false
   },
   "outputs": [],
   "source": [
    "count_vec = CountVectorizer()\n",
    "matrix_count = count_vec.fit_transform(texts).toarray()"
   ]
  },
  {
   "cell_type": "code",
   "execution_count": 59,
   "metadata": {
    "collapsed": false
   },
   "outputs": [
    {
     "data": {
      "text/plain": [
       "(4001, 27361)"
      ]
     },
     "execution_count": 59,
     "metadata": {},
     "output_type": "execute_result"
    }
   ],
   "source": [
    "matrix_count.shape"
   ]
  },
  {
   "cell_type": "code",
   "execution_count": 61,
   "metadata": {
    "collapsed": false
   },
   "outputs": [
    {
     "data": {
      "text/html": [
       "<div>\n",
       "<table border=\"1\" class=\"dataframe\">\n",
       "  <thead>\n",
       "    <tr style=\"text-align: right;\">\n",
       "      <th></th>\n",
       "      <th>0</th>\n",
       "      <th>1</th>\n",
       "      <th>2</th>\n",
       "      <th>3</th>\n",
       "      <th>4</th>\n",
       "      <th>5</th>\n",
       "      <th>6</th>\n",
       "      <th>7</th>\n",
       "      <th>8</th>\n",
       "      <th>9</th>\n",
       "      <th>...</th>\n",
       "      <th>27351</th>\n",
       "      <th>27352</th>\n",
       "      <th>27353</th>\n",
       "      <th>27354</th>\n",
       "      <th>27355</th>\n",
       "      <th>27356</th>\n",
       "      <th>27357</th>\n",
       "      <th>27358</th>\n",
       "      <th>27359</th>\n",
       "      <th>27360</th>\n",
       "    </tr>\n",
       "  </thead>\n",
       "  <tbody>\n",
       "    <tr>\n",
       "      <th>0</th>\n",
       "      <td>2</td>\n",
       "      <td>0</td>\n",
       "      <td>0</td>\n",
       "      <td>0</td>\n",
       "      <td>0</td>\n",
       "      <td>0</td>\n",
       "      <td>0</td>\n",
       "      <td>0</td>\n",
       "      <td>0</td>\n",
       "      <td>0</td>\n",
       "      <td>...</td>\n",
       "      <td>0</td>\n",
       "      <td>0</td>\n",
       "      <td>0</td>\n",
       "      <td>0</td>\n",
       "      <td>0</td>\n",
       "      <td>0</td>\n",
       "      <td>0</td>\n",
       "      <td>0</td>\n",
       "      <td>0</td>\n",
       "      <td>0</td>\n",
       "    </tr>\n",
       "    <tr>\n",
       "      <th>1</th>\n",
       "      <td>0</td>\n",
       "      <td>2</td>\n",
       "      <td>0</td>\n",
       "      <td>0</td>\n",
       "      <td>0</td>\n",
       "      <td>0</td>\n",
       "      <td>0</td>\n",
       "      <td>0</td>\n",
       "      <td>0</td>\n",
       "      <td>0</td>\n",
       "      <td>...</td>\n",
       "      <td>0</td>\n",
       "      <td>0</td>\n",
       "      <td>0</td>\n",
       "      <td>0</td>\n",
       "      <td>0</td>\n",
       "      <td>0</td>\n",
       "      <td>0</td>\n",
       "      <td>0</td>\n",
       "      <td>0</td>\n",
       "      <td>0</td>\n",
       "    </tr>\n",
       "    <tr>\n",
       "      <th>2</th>\n",
       "      <td>0</td>\n",
       "      <td>1</td>\n",
       "      <td>0</td>\n",
       "      <td>0</td>\n",
       "      <td>0</td>\n",
       "      <td>0</td>\n",
       "      <td>0</td>\n",
       "      <td>0</td>\n",
       "      <td>0</td>\n",
       "      <td>0</td>\n",
       "      <td>...</td>\n",
       "      <td>0</td>\n",
       "      <td>0</td>\n",
       "      <td>0</td>\n",
       "      <td>0</td>\n",
       "      <td>0</td>\n",
       "      <td>0</td>\n",
       "      <td>0</td>\n",
       "      <td>0</td>\n",
       "      <td>0</td>\n",
       "      <td>0</td>\n",
       "    </tr>\n",
       "    <tr>\n",
       "      <th>3</th>\n",
       "      <td>2</td>\n",
       "      <td>0</td>\n",
       "      <td>0</td>\n",
       "      <td>0</td>\n",
       "      <td>0</td>\n",
       "      <td>0</td>\n",
       "      <td>0</td>\n",
       "      <td>0</td>\n",
       "      <td>0</td>\n",
       "      <td>0</td>\n",
       "      <td>...</td>\n",
       "      <td>0</td>\n",
       "      <td>0</td>\n",
       "      <td>0</td>\n",
       "      <td>0</td>\n",
       "      <td>0</td>\n",
       "      <td>0</td>\n",
       "      <td>0</td>\n",
       "      <td>0</td>\n",
       "      <td>0</td>\n",
       "      <td>0</td>\n",
       "    </tr>\n",
       "    <tr>\n",
       "      <th>4</th>\n",
       "      <td>0</td>\n",
       "      <td>0</td>\n",
       "      <td>0</td>\n",
       "      <td>0</td>\n",
       "      <td>0</td>\n",
       "      <td>0</td>\n",
       "      <td>0</td>\n",
       "      <td>0</td>\n",
       "      <td>0</td>\n",
       "      <td>0</td>\n",
       "      <td>...</td>\n",
       "      <td>0</td>\n",
       "      <td>0</td>\n",
       "      <td>0</td>\n",
       "      <td>0</td>\n",
       "      <td>0</td>\n",
       "      <td>0</td>\n",
       "      <td>0</td>\n",
       "      <td>0</td>\n",
       "      <td>0</td>\n",
       "      <td>0</td>\n",
       "    </tr>\n",
       "  </tbody>\n",
       "</table>\n",
       "<p>5 rows × 27361 columns</p>\n",
       "</div>"
      ],
      "text/plain": [
       "   0      1      2      3      4      5      6      7      8      9      \\\n",
       "0      2      0      0      0      0      0      0      0      0      0   \n",
       "1      0      2      0      0      0      0      0      0      0      0   \n",
       "2      0      1      0      0      0      0      0      0      0      0   \n",
       "3      2      0      0      0      0      0      0      0      0      0   \n",
       "4      0      0      0      0      0      0      0      0      0      0   \n",
       "\n",
       "   ...    27351  27352  27353  27354  27355  27356  27357  27358  27359  27360  \n",
       "0  ...        0      0      0      0      0      0      0      0      0      0  \n",
       "1  ...        0      0      0      0      0      0      0      0      0      0  \n",
       "2  ...        0      0      0      0      0      0      0      0      0      0  \n",
       "3  ...        0      0      0      0      0      0      0      0      0      0  \n",
       "4  ...        0      0      0      0      0      0      0      0      0      0  \n",
       "\n",
       "[5 rows x 27361 columns]"
      ]
     },
     "execution_count": 61,
     "metadata": {},
     "output_type": "execute_result"
    }
   ],
   "source": [
    "import pandas as pd\n",
    "pd.DataFrame(matrix_count).head()"
   ]
  },
  {
   "cell_type": "code",
   "execution_count": 62,
   "metadata": {
    "collapsed": true
   },
   "outputs": [],
   "source": [
    "words = [i[0] for i in sorted(count_vec.vocabulary_.items(), key=lambda x: x[1])]"
   ]
  },
  {
   "cell_type": "code",
   "execution_count": 63,
   "metadata": {
    "collapsed": false
   },
   "outputs": [
    {
     "data": {
      "text/html": [
       "<div>\n",
       "<table border=\"1\" class=\"dataframe\">\n",
       "  <thead>\n",
       "    <tr style=\"text-align: right;\">\n",
       "      <th></th>\n",
       "      <th>00</th>\n",
       "      <th>000</th>\n",
       "      <th>0000</th>\n",
       "      <th>000р</th>\n",
       "      <th>000руб</th>\n",
       "      <th>00ч</th>\n",
       "      <th>01</th>\n",
       "      <th>02</th>\n",
       "      <th>06</th>\n",
       "      <th>0676352737</th>\n",
       "      <th>...</th>\n",
       "      <th>єктів</th>\n",
       "      <th>інтеграції</th>\n",
       "      <th>інформаційних</th>\n",
       "      <th>іншим</th>\n",
       "      <th>іншими</th>\n",
       "      <th>іншого</th>\n",
       "      <th>існуючих</th>\n",
       "      <th>існуючого</th>\n",
       "      <th>існуючої</th>\n",
       "      <th>іт</th>\n",
       "    </tr>\n",
       "  </thead>\n",
       "  <tbody>\n",
       "    <tr>\n",
       "      <th>0</th>\n",
       "      <td>2</td>\n",
       "      <td>0</td>\n",
       "      <td>0</td>\n",
       "      <td>0</td>\n",
       "      <td>0</td>\n",
       "      <td>0</td>\n",
       "      <td>0</td>\n",
       "      <td>0</td>\n",
       "      <td>0</td>\n",
       "      <td>0</td>\n",
       "      <td>...</td>\n",
       "      <td>0</td>\n",
       "      <td>0</td>\n",
       "      <td>0</td>\n",
       "      <td>0</td>\n",
       "      <td>0</td>\n",
       "      <td>0</td>\n",
       "      <td>0</td>\n",
       "      <td>0</td>\n",
       "      <td>0</td>\n",
       "      <td>0</td>\n",
       "    </tr>\n",
       "    <tr>\n",
       "      <th>1</th>\n",
       "      <td>0</td>\n",
       "      <td>2</td>\n",
       "      <td>0</td>\n",
       "      <td>0</td>\n",
       "      <td>0</td>\n",
       "      <td>0</td>\n",
       "      <td>0</td>\n",
       "      <td>0</td>\n",
       "      <td>0</td>\n",
       "      <td>0</td>\n",
       "      <td>...</td>\n",
       "      <td>0</td>\n",
       "      <td>0</td>\n",
       "      <td>0</td>\n",
       "      <td>0</td>\n",
       "      <td>0</td>\n",
       "      <td>0</td>\n",
       "      <td>0</td>\n",
       "      <td>0</td>\n",
       "      <td>0</td>\n",
       "      <td>0</td>\n",
       "    </tr>\n",
       "    <tr>\n",
       "      <th>2</th>\n",
       "      <td>0</td>\n",
       "      <td>1</td>\n",
       "      <td>0</td>\n",
       "      <td>0</td>\n",
       "      <td>0</td>\n",
       "      <td>0</td>\n",
       "      <td>0</td>\n",
       "      <td>0</td>\n",
       "      <td>0</td>\n",
       "      <td>0</td>\n",
       "      <td>...</td>\n",
       "      <td>0</td>\n",
       "      <td>0</td>\n",
       "      <td>0</td>\n",
       "      <td>0</td>\n",
       "      <td>0</td>\n",
       "      <td>0</td>\n",
       "      <td>0</td>\n",
       "      <td>0</td>\n",
       "      <td>0</td>\n",
       "      <td>0</td>\n",
       "    </tr>\n",
       "    <tr>\n",
       "      <th>3</th>\n",
       "      <td>2</td>\n",
       "      <td>0</td>\n",
       "      <td>0</td>\n",
       "      <td>0</td>\n",
       "      <td>0</td>\n",
       "      <td>0</td>\n",
       "      <td>0</td>\n",
       "      <td>0</td>\n",
       "      <td>0</td>\n",
       "      <td>0</td>\n",
       "      <td>...</td>\n",
       "      <td>0</td>\n",
       "      <td>0</td>\n",
       "      <td>0</td>\n",
       "      <td>0</td>\n",
       "      <td>0</td>\n",
       "      <td>0</td>\n",
       "      <td>0</td>\n",
       "      <td>0</td>\n",
       "      <td>0</td>\n",
       "      <td>0</td>\n",
       "    </tr>\n",
       "    <tr>\n",
       "      <th>4</th>\n",
       "      <td>0</td>\n",
       "      <td>0</td>\n",
       "      <td>0</td>\n",
       "      <td>0</td>\n",
       "      <td>0</td>\n",
       "      <td>0</td>\n",
       "      <td>0</td>\n",
       "      <td>0</td>\n",
       "      <td>0</td>\n",
       "      <td>0</td>\n",
       "      <td>...</td>\n",
       "      <td>0</td>\n",
       "      <td>0</td>\n",
       "      <td>0</td>\n",
       "      <td>0</td>\n",
       "      <td>0</td>\n",
       "      <td>0</td>\n",
       "      <td>0</td>\n",
       "      <td>0</td>\n",
       "      <td>0</td>\n",
       "      <td>0</td>\n",
       "    </tr>\n",
       "  </tbody>\n",
       "</table>\n",
       "<p>5 rows × 27361 columns</p>\n",
       "</div>"
      ],
      "text/plain": [
       "   00  000  0000  000р  000руб  00ч  01  02  06  0676352737 ...  єктів  \\\n",
       "0   2    0     0     0       0    0   0   0   0           0 ...      0   \n",
       "1   0    2     0     0       0    0   0   0   0           0 ...      0   \n",
       "2   0    1     0     0       0    0   0   0   0           0 ...      0   \n",
       "3   2    0     0     0       0    0   0   0   0           0 ...      0   \n",
       "4   0    0     0     0       0    0   0   0   0           0 ...      0   \n",
       "\n",
       "   інтеграції  інформаційних  іншим  іншими  іншого  існуючих  існуючого  \\\n",
       "0           0              0      0       0       0         0          0   \n",
       "1           0              0      0       0       0         0          0   \n",
       "2           0              0      0       0       0         0          0   \n",
       "3           0              0      0       0       0         0          0   \n",
       "4           0              0      0       0       0         0          0   \n",
       "\n",
       "   існуючої  іт  \n",
       "0         0   0  \n",
       "1         0   0  \n",
       "2         0   0  \n",
       "3         0   0  \n",
       "4         0   0  \n",
       "\n",
       "[5 rows x 27361 columns]"
      ]
     },
     "execution_count": 63,
     "metadata": {},
     "output_type": "execute_result"
    }
   ],
   "source": [
    "pd.DataFrame(matrix_count, columns=words).head()"
   ]
  },
  {
   "cell_type": "code",
   "execution_count": 64,
   "metadata": {
    "collapsed": false
   },
   "outputs": [
    {
     "data": {
      "text/plain": [
       "2"
      ]
     },
     "execution_count": 64,
     "metadata": {},
     "output_type": "execute_result"
    }
   ],
   "source": [
    "texts[1].count('000')"
   ]
  },
  {
   "cell_type": "code",
   "execution_count": 66,
   "metadata": {
    "collapsed": true
   },
   "outputs": [],
   "source": [
    "from sklearn.metrics.pairwise import cosine_similarity\n",
    "def cos_m(x, y):\n",
    "    return abs(cosine_similarity(x, y)[0][0])"
   ]
  },
  {
   "cell_type": "code",
   "execution_count": 69,
   "metadata": {
    "collapsed": false
   },
   "outputs": [
    {
     "name": "stderr",
     "output_type": "stream",
     "text": [
      "//anaconda/lib/python2.7/site-packages/sklearn/utils/validation.py:386: DeprecationWarning: Passing 1d arrays as data is deprecated in 0.17 and willraise ValueError in 0.19. Reshape your data either using X.reshape(-1, 1) if your data has a single feature or X.reshape(1, -1) if it contains a single sample.\n",
      "  DeprecationWarning)\n",
      "//anaconda/lib/python2.7/site-packages/sklearn/utils/validation.py:386: DeprecationWarning: Passing 1d arrays as data is deprecated in 0.17 and willraise ValueError in 0.19. Reshape your data either using X.reshape(-1, 1) if your data has a single feature or X.reshape(1, -1) if it contains a single sample.\n",
      "  DeprecationWarning)\n"
     ]
    },
    {
     "data": {
      "text/plain": [
       "1.0"
      ]
     },
     "execution_count": 69,
     "metadata": {},
     "output_type": "execute_result"
    }
   ],
   "source": [
    "cos_m([1, 0], [-1, 0])"
   ]
  },
  {
   "cell_type": "code",
   "execution_count": 72,
   "metadata": {
    "collapsed": false
   },
   "outputs": [
    {
     "name": "stderr",
     "output_type": "stream",
     "text": [
      "//anaconda/lib/python2.7/site-packages/sklearn/utils/validation.py:386: DeprecationWarning: Passing 1d arrays as data is deprecated in 0.17 and willraise ValueError in 0.19. Reshape your data either using X.reshape(-1, 1) if your data has a single feature or X.reshape(1, -1) if it contains a single sample.\n",
      "  DeprecationWarning)\n",
      "//anaconda/lib/python2.7/site-packages/sklearn/utils/validation.py:386: DeprecationWarning: Passing 1d arrays as data is deprecated in 0.17 and willraise ValueError in 0.19. Reshape your data either using X.reshape(-1, 1) if your data has a single feature or X.reshape(1, -1) if it contains a single sample.\n",
      "  DeprecationWarning)\n"
     ]
    },
    {
     "data": {
      "text/plain": [
       "1.0000000000000002"
      ]
     },
     "execution_count": 72,
     "metadata": {},
     "output_type": "execute_result"
    }
   ],
   "source": [
    "cos_m(matrix_count[0], matrix_count[1])"
   ]
  },
  {
   "cell_type": "code",
   "execution_count": 77,
   "metadata": {
    "collapsed": false
   },
   "outputs": [],
   "source": [
    "import warnings\n",
    "warnings.filterwarnings('ignore')\n",
    "y = []\n",
    "for i in matrix_count[1:]:\n",
    "    y.append(cos_m(matrix_count[0], i))"
   ]
  },
  {
   "cell_type": "code",
   "execution_count": 78,
   "metadata": {
    "collapsed": false
   },
   "outputs": [
    {
     "data": {
      "text/plain": [
       "0.47278131042553351"
      ]
     },
     "execution_count": 78,
     "metadata": {},
     "output_type": "execute_result"
    }
   ],
   "source": [
    "y[0]"
   ]
  },
  {
   "cell_type": "code",
   "execution_count": 81,
   "metadata": {
    "collapsed": false
   },
   "outputs": [
    {
     "ename": "ImportError",
     "evalue": "No module named seaborn",
     "output_type": "error",
     "traceback": [
      "\u001b[0;31m---------------------------------------------------------------------------\u001b[0m",
      "\u001b[0;31mImportError\u001b[0m                               Traceback (most recent call last)",
      "\u001b[0;32m<ipython-input-81-28bc02059c30>\u001b[0m in \u001b[0;36m<module>\u001b[0;34m()\u001b[0m\n\u001b[1;32m      1\u001b[0m \u001b[0mget_ipython\u001b[0m\u001b[0;34m(\u001b[0m\u001b[0;34m)\u001b[0m\u001b[0;34m.\u001b[0m\u001b[0mmagic\u001b[0m\u001b[0;34m(\u001b[0m\u001b[0;34mu'matplotlib inline'\u001b[0m\u001b[0;34m)\u001b[0m\u001b[0;34m\u001b[0m\u001b[0m\n\u001b[1;32m      2\u001b[0m \u001b[0;32mfrom\u001b[0m \u001b[0mmatplotlib\u001b[0m \u001b[0;32mimport\u001b[0m \u001b[0mpyplot\u001b[0m \u001b[0;32mas\u001b[0m \u001b[0mplt\u001b[0m\u001b[0;34m\u001b[0m\u001b[0m\n\u001b[0;32m----> 3\u001b[0;31m \u001b[0;32mimport\u001b[0m \u001b[0mseaborn\u001b[0m\u001b[0;34m\u001b[0m\u001b[0m\n\u001b[0m",
      "\u001b[0;31mImportError\u001b[0m: No module named seaborn"
     ]
    }
   ],
   "source": [
    "%matplotlib inline\n",
    "from matplotlib import pyplot as plt\n",
    "import seaborn"
   ]
  },
  {
   "cell_type": "code",
   "execution_count": null,
   "metadata": {
    "collapsed": true
   },
   "outputs": [],
   "source": [
    "plt.figure(figsize=(20,5))\n",
    "plt.plot(y)"
   ]
  },
  {
   "cell_type": "code",
   "execution_count": null,
   "metadata": {
    "collapsed": true
   },
   "outputs": [],
   "source": []
  },
  {
   "cell_type": "code",
   "execution_count": null,
   "metadata": {
    "collapsed": true
   },
   "outputs": [],
   "source": []
  },
  {
   "cell_type": "code",
   "execution_count": null,
   "metadata": {
    "collapsed": true
   },
   "outputs": [],
   "source": []
  },
  {
   "cell_type": "code",
   "execution_count": null,
   "metadata": {
    "collapsed": true
   },
   "outputs": [],
   "source": []
  },
  {
   "cell_type": "code",
   "execution_count": null,
   "metadata": {
    "collapsed": true
   },
   "outputs": [],
   "source": []
  },
  {
   "cell_type": "code",
   "execution_count": null,
   "metadata": {
    "collapsed": true
   },
   "outputs": [],
   "source": []
  },
  {
   "cell_type": "code",
   "execution_count": null,
   "metadata": {
    "collapsed": true
   },
   "outputs": [],
   "source": []
  },
  {
   "cell_type": "code",
   "execution_count": null,
   "metadata": {
    "collapsed": true
   },
   "outputs": [],
   "source": []
  },
  {
   "cell_type": "code",
   "execution_count": null,
   "metadata": {
    "collapsed": true
   },
   "outputs": [],
   "source": []
  },
  {
   "cell_type": "code",
   "execution_count": null,
   "metadata": {
    "collapsed": true
   },
   "outputs": [],
   "source": []
  },
  {
   "cell_type": "code",
   "execution_count": null,
   "metadata": {
    "collapsed": true
   },
   "outputs": [],
   "source": []
  },
  {
   "cell_type": "code",
   "execution_count": null,
   "metadata": {
    "collapsed": true
   },
   "outputs": [],
   "source": []
  },
  {
   "cell_type": "code",
   "execution_count": null,
   "metadata": {
    "collapsed": true
   },
   "outputs": [],
   "source": []
  },
  {
   "cell_type": "code",
   "execution_count": null,
   "metadata": {
    "collapsed": true
   },
   "outputs": [],
   "source": []
  },
  {
   "cell_type": "code",
   "execution_count": 50,
   "metadata": {
    "collapsed": true
   },
   "outputs": [],
   "source": []
  },
  {
   "cell_type": "code",
   "execution_count": null,
   "metadata": {
    "collapsed": true
   },
   "outputs": [],
   "source": []
  },
  {
   "cell_type": "code",
   "execution_count": null,
   "metadata": {
    "collapsed": true
   },
   "outputs": [],
   "source": []
  },
  {
   "cell_type": "code",
   "execution_count": null,
   "metadata": {
    "collapsed": true
   },
   "outputs": [],
   "source": []
  },
  {
   "cell_type": "code",
   "execution_count": null,
   "metadata": {
    "collapsed": true
   },
   "outputs": [],
   "source": []
  },
  {
   "cell_type": "code",
   "execution_count": null,
   "metadata": {
    "collapsed": true
   },
   "outputs": [],
   "source": []
  },
  {
   "cell_type": "code",
   "execution_count": null,
   "metadata": {
    "collapsed": true
   },
   "outputs": [],
   "source": []
  },
  {
   "cell_type": "code",
   "execution_count": null,
   "metadata": {
    "collapsed": true
   },
   "outputs": [],
   "source": []
  },
  {
   "cell_type": "code",
   "execution_count": null,
   "metadata": {
    "collapsed": true
   },
   "outputs": [],
   "source": []
  },
  {
   "cell_type": "code",
   "execution_count": null,
   "metadata": {
    "collapsed": true
   },
   "outputs": [],
   "source": []
  },
  {
   "cell_type": "code",
   "execution_count": null,
   "metadata": {
    "collapsed": true
   },
   "outputs": [],
   "source": []
  },
  {
   "cell_type": "code",
   "execution_count": null,
   "metadata": {
    "collapsed": true
   },
   "outputs": [],
   "source": []
  },
  {
   "cell_type": "code",
   "execution_count": null,
   "metadata": {
    "collapsed": true
   },
   "outputs": [],
   "source": []
  },
  {
   "cell_type": "code",
   "execution_count": null,
   "metadata": {
    "collapsed": true
   },
   "outputs": [],
   "source": []
  },
  {
   "cell_type": "code",
   "execution_count": null,
   "metadata": {
    "collapsed": true
   },
   "outputs": [],
   "source": []
  },
  {
   "cell_type": "code",
   "execution_count": null,
   "metadata": {
    "collapsed": true
   },
   "outputs": [],
   "source": []
  },
  {
   "cell_type": "code",
   "execution_count": null,
   "metadata": {
    "collapsed": true
   },
   "outputs": [],
   "source": []
  },
  {
   "cell_type": "code",
   "execution_count": null,
   "metadata": {
    "collapsed": true
   },
   "outputs": [],
   "source": []
  },
  {
   "cell_type": "code",
   "execution_count": null,
   "metadata": {
    "collapsed": true
   },
   "outputs": [],
   "source": []
  },
  {
   "cell_type": "code",
   "execution_count": null,
   "metadata": {
    "collapsed": true
   },
   "outputs": [],
   "source": []
  },
  {
   "cell_type": "code",
   "execution_count": null,
   "metadata": {
    "collapsed": true
   },
   "outputs": [],
   "source": []
  },
  {
   "cell_type": "code",
   "execution_count": null,
   "metadata": {
    "collapsed": true
   },
   "outputs": [],
   "source": []
  },
  {
   "cell_type": "code",
   "execution_count": null,
   "metadata": {
    "collapsed": true
   },
   "outputs": [],
   "source": []
  },
  {
   "cell_type": "code",
   "execution_count": null,
   "metadata": {
    "collapsed": true
   },
   "outputs": [],
   "source": []
  },
  {
   "cell_type": "code",
   "execution_count": null,
   "metadata": {
    "collapsed": true
   },
   "outputs": [],
   "source": []
  },
  {
   "cell_type": "code",
   "execution_count": null,
   "metadata": {
    "collapsed": true
   },
   "outputs": [],
   "source": []
  },
  {
   "cell_type": "code",
   "execution_count": null,
   "metadata": {
    "collapsed": true
   },
   "outputs": [],
   "source": []
  },
  {
   "cell_type": "code",
   "execution_count": null,
   "metadata": {
    "collapsed": true
   },
   "outputs": [],
   "source": []
  },
  {
   "cell_type": "code",
   "execution_count": null,
   "metadata": {
    "collapsed": true
   },
   "outputs": [],
   "source": []
  },
  {
   "cell_type": "code",
   "execution_count": null,
   "metadata": {
    "collapsed": true
   },
   "outputs": [],
   "source": []
  },
  {
   "cell_type": "code",
   "execution_count": 5,
   "metadata": {
    "collapsed": false
   },
   "outputs": [
    {
     "data": {
      "text/plain": [
       "200"
      ]
     },
     "execution_count": 5,
     "metadata": {},
     "output_type": "execute_result"
    }
   ],
   "source": []
  },
  {
   "cell_type": "code",
   "execution_count": null,
   "metadata": {
    "collapsed": true
   },
   "outputs": [],
   "source": []
  },
  {
   "cell_type": "code",
   "execution_count": null,
   "metadata": {
    "collapsed": true
   },
   "outputs": [],
   "source": []
  },
  {
   "cell_type": "code",
   "execution_count": null,
   "metadata": {
    "collapsed": true
   },
   "outputs": [],
   "source": []
  }
 ],
 "metadata": {
  "kernelspec": {
   "display_name": "Python 2",
   "language": "python",
   "name": "python2"
  },
  "language_info": {
   "codemirror_mode": {
    "name": "ipython",
    "version": 2
   },
   "file_extension": ".py",
   "mimetype": "text/x-python",
   "name": "python",
   "nbconvert_exporter": "python",
   "pygments_lexer": "ipython2",
   "version": "2.7.11"
  }
 },
 "nbformat": 4,
 "nbformat_minor": 0
}
