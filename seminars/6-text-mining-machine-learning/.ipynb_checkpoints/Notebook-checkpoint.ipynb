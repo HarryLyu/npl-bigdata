{
 "cells": [
  {
   "cell_type": "code",
   "execution_count": 2,
   "metadata": {
    "collapsed": false
   },
   "outputs": [
    {
     "name": "stdout",
     "output_type": "stream",
     "text": [
      "-rw-r--r--@ 1 igor  staff  4106921 Apr  4 19:11 pos_reviews.json\r\n"
     ]
    }
   ],
   "source": [
    "ll pos_reviews.json"
   ]
  },
  {
   "cell_type": "code",
   "execution_count": 3,
   "metadata": {
    "collapsed": true
   },
   "outputs": [],
   "source": [
    "import json\n",
    "\n",
    "with open('pos_reviews.json') as data_file:\n",
    "    data_pos = json.load(data_file)\n",
    "with open('neg_reviews.json') as data_file:\n",
    "    data_neg = json.load(data_file)"
   ]
  },
  {
   "cell_type": "code",
   "execution_count": 6,
   "metadata": {
    "collapsed": false
   },
   "outputs": [],
   "source": [
    "texts = data_pos.keys() + data_neg.keys()"
   ]
  },
  {
   "cell_type": "code",
   "execution_count": 9,
   "metadata": {
    "collapsed": false
   },
   "outputs": [],
   "source": [
    "target = [1] * 1000 + [0] * 1000"
   ]
  },
  {
   "cell_type": "code",
   "execution_count": 11,
   "metadata": {
    "collapsed": false
   },
   "outputs": [],
   "source": [
    "from sklearn.feature_extraction.text import CountVectorizer"
   ]
  },
  {
   "cell_type": "code",
   "execution_count": 12,
   "metadata": {
    "collapsed": true
   },
   "outputs": [],
   "source": [
    "cv = CountVectorizer()\n",
    "matrix = cv.fit_transform(texts)"
   ]
  },
  {
   "cell_type": "code",
   "execution_count": 13,
   "metadata": {
    "collapsed": false
   },
   "outputs": [
    {
     "data": {
      "text/plain": [
       "<2000x39659 sparse matrix of type '<type 'numpy.int64'>'\n",
       "\twith 666842 stored elements in Compressed Sparse Row format>"
      ]
     },
     "execution_count": 13,
     "metadata": {},
     "output_type": "execute_result"
    }
   ],
   "source": [
    "matrix"
   ]
  },
  {
   "cell_type": "code",
   "execution_count": 14,
   "metadata": {
    "collapsed": true
   },
   "outputs": [],
   "source": [
    "import pandas as pd"
   ]
  },
  {
   "cell_type": "code",
   "execution_count": 16,
   "metadata": {
    "collapsed": false
   },
   "outputs": [],
   "source": [
    "words = [x[0] for x in sorted(cv.vocabulary_.items(), key=lambda x: x[1])]"
   ]
  },
  {
   "cell_type": "code",
   "execution_count": 17,
   "metadata": {
    "collapsed": true
   },
   "outputs": [],
   "source": [
    "X = pd.DataFrame(matrix.toarray(), columns=words)"
   ]
  },
  {
   "cell_type": "code",
   "execution_count": 19,
   "metadata": {
    "collapsed": false
   },
   "outputs": [],
   "source": [
    "from sklearn.cross_validation import train_test_split"
   ]
  },
  {
   "cell_type": "code",
   "execution_count": 21,
   "metadata": {
    "collapsed": false
   },
   "outputs": [],
   "source": [
    "X_train, X_test, y_train, y_test = train_test_split(matrix, target, train_size=0.7, random_state=20160404)"
   ]
  },
  {
   "cell_type": "code",
   "execution_count": 36,
   "metadata": {
    "collapsed": false
   },
   "outputs": [],
   "source": [
    "from sklearn.linear_model import LogisticRegression\n",
    "lr = LogisticRegression()\n",
    "lr.fit(X_train, y_train)\n",
    "y_hat = lr.predict_proba(X_test)"
   ]
  },
  {
   "cell_type": "code",
   "execution_count": 40,
   "metadata": {
    "collapsed": false
   },
   "outputs": [],
   "source": [
    "from sklearn import metrics"
   ]
  },
  {
   "cell_type": "code",
   "execution_count": 42,
   "metadata": {
    "collapsed": false
   },
   "outputs": [],
   "source": [
    "precision, recall, _ = metrics.precision_recall_curve(y_test, y_hat[:, 1])"
   ]
  },
  {
   "cell_type": "code",
   "execution_count": 43,
   "metadata": {
    "collapsed": true
   },
   "outputs": [],
   "source": [
    "%matplotlib inline"
   ]
  },
  {
   "cell_type": "code",
   "execution_count": 53,
   "metadata": {
    "collapsed": false
   },
   "outputs": [
    {
     "data": {
      "text/plain": [
       "[<matplotlib.lines.Line2D at 0x1416548d0>]"
      ]
     },
     "execution_count": 53,
     "metadata": {},
     "output_type": "execute_result"
    },
    {
     "data": {
      "image/png": "[encoded data removed]",
      "text/plain": [
       "<matplotlib.figure.Figure at 0x1414b82d0>"
      ]
     },
     "metadata": {},
     "output_type": "display_data"
    }
   ],
   "source": [
    "import matplotlib.pyplot as plt\n",
    "plt.plot(precision, recall)"
   ]
  },
  {
   "cell_type": "code",
   "execution_count": 61,
   "metadata": {
    "collapsed": false
   },
   "outputs": [
    {
     "data": {
      "text/plain": [
       "[<matplotlib.lines.Line2D at 0x142272550>]"
      ]
     },
     "execution_count": 61,
     "metadata": {},
     "output_type": "execute_result"
    },
    {
     "data": {
      "image/png": "[encoded data removed]",
      "text/plain": [
       "<matplotlib.figure.Figure at 0x142127150>"
      ]
     },
     "metadata": {},
     "output_type": "display_data"
    }
   ],
   "source": [
    "fpr, tpr, _ = metrics.roc_curve(y_test, y_hat[:, 1])\n",
    "plt.plot(fpr, tpr)"
   ]
  },
  {
   "cell_type": "code",
   "execution_count": 60,
   "metadata": {
    "collapsed": false
   },
   "outputs": [],
   "source": [
    "lr1 = LogisticRegression(penalty='l1')\n",
    "lr1.fit(X_train, y_train)\n",
    "y_hat1 = lr1.predict_proba(X_test)\n"
   ]
  },
  {
   "cell_type": "code",
   "execution_count": 70,
   "metadata": {
    "collapsed": false
   },
   "outputs": [
    {
     "data": {
      "text/plain": [
       "<matplotlib.legend.Legend at 0x1432f8390>"
      ]
     },
     "execution_count": 70,
     "metadata": {},
     "output_type": "execute_result"
    },
    {
     "data": {
      "image/png": "[encoded data removed]",
      "text/plain": [
       "<matplotlib.figure.Figure at 0x1432f8450>"
      ]
     },
     "metadata": {},
     "output_type": "display_data"
    }
   ],
   "source": [
    "fpr, tpr, _ = metrics.roc_curve(y_test, y_hat[:, 1])\n",
    "plt.plot(fpr, tpr, label='l1')\n",
    "\n",
    "fpr, tpr, _ = metrics.roc_curve(y_test, y_hat1[:, 1])\n",
    "plt.plot(fpr, tpr, label='l2')\n",
    "plt.legend()"
   ]
  },
  {
   "cell_type": "code",
   "execution_count": null,
   "metadata": {
    "collapsed": true
   },
   "outputs": [],
   "source": []
  },
  {
   "cell_type": "code",
   "execution_count": 73,
   "metadata": {
    "collapsed": false
   },
   "outputs": [
    {
     "name": "stdout",
     "output_type": "stream",
     "text": [
      "l1 auc:  0.907018616282\n",
      "l2 auc:  0.886813003612\n"
     ]
    },
    {
     "data": {
      "text/plain": [
       "<matplotlib.legend.Legend at 0x143c5bf90>"
      ]
     },
     "execution_count": 73,
     "metadata": {},
     "output_type": "execute_result"
    },
    {
     "data": {
      "image/png": "[encoded data removed]",
      "text/plain": [
       "<matplotlib.figure.Figure at 0x14379dc10>"
      ]
     },
     "metadata": {},
     "output_type": "display_data"
    }
   ],
   "source": [
    "fpr, tpr, _ = metrics.roc_curve(y_test, y_hat[:, 1])\n",
    "plt.plot(fpr, tpr, label='l1')\n",
    "\n",
    "print 'l1 auc: ', metrics.auc(fpr, tpr)\n",
    "\n",
    "fpr, tpr, _ = metrics.roc_curve(y_test, y_hat1[:, 1])\n",
    "plt.plot(fpr, tpr, label='l2')\n",
    "\n",
    "print 'l2 auc: ', metrics.auc(fpr, tpr)\n",
    "\n",
    "plt.legend()"
   ]
  },
  {
   "cell_type": "code",
   "execution_count": 78,
   "metadata": {
    "collapsed": true
   },
   "outputs": [],
   "source": [
    "def report_cross_validation(grid_searcher, X_test, Y_test):\n",
    "    print 'train score is {:.5f}'.format(grid_searcher.best_score_)\n",
    "    print 'test score is {:.5f}'.format(grid_searcher.score(X_test, Y_test))\n",
    "    print 'best parameter set:'\n",
    "    for k in sorted(grid_searcher.best_params_):\n",
    "        print ' * {}={}'.format(k, grid_searcher.best_params_[k])\n",
    "\n",
    "def roc_curve(title, Y_test, predicted, label='?'):\n",
    "    fpr, tpr, th = metrics.roc_curve(Y_test, predicted[:,1])\n",
    "    plot.plot(fpr, tpr, label=label);\n",
    "    plot.xlabel('False Positive Rate'); plot.ylabel('True Positive Rate'); plot.title(title)\n",
    "    plot.legend(bbox_to_anchor=(1, 1), loc=2); plot.xlim([0.0, 1.0]); plot.ylim([0.0, 1]);\n",
    "    print 'Logistic Regression (', label, ') AUC = ', metrics.auc(fpr, tpr)\n",
    "\n",
    "\n",
    "def cross_valid(matrix_counts, target, test_size=0.3, random_state=0):\n",
    "    X_train, X_test, Y_train, Y_test = train_test_split(matrix_counts, target, test_size=0.3, random_state=0)\n",
    "    return (X_train, X_test, Y_train, Y_test)"
   ]
  },
  {
   "cell_type": "code",
   "execution_count": null,
   "metadata": {
    "collapsed": true
   },
   "outputs": [],
   "source": []
  },
  {
   "cell_type": "code",
   "execution_count": 80,
   "metadata": {
    "collapsed": false
   },
   "outputs": [
    {
     "name": "stdout",
     "output_type": "stream",
     "text": [
      "Logistic Regression ( L1 ) AUC =  0.907018616282\n",
      "Logistic Regression ( L2 ) AUC =  0.886813003612\n"
     ]
    },
    {
     "data": {
      "image/png": "[encoded data removed]",
      "text/plain": [
       "<matplotlib.figure.Figure at 0x1435da8d0>"
      ]
     },
     "metadata": {},
     "output_type": "display_data"
    }
   ],
   "source": [
    "roc_curve('ROC Curve', y_test, y_hat, 'L1')\n",
    "roc_curve('ROC Curve', y_test, y_hat1, 'L2')"
   ]
  },
  {
   "cell_type": "code",
   "execution_count": null,
   "metadata": {
    "collapsed": true
   },
   "outputs": [],
   "source": []
  },
  {
   "cell_type": "code",
   "execution_count": 81,
   "metadata": {
    "collapsed": true
   },
   "outputs": [],
   "source": [
    "c = [2**(x/10.0) for x in xrange(-100, 151, 25)]"
   ]
  },
  {
   "cell_type": "code",
   "execution_count": 82,
   "metadata": {
    "collapsed": false
   },
   "outputs": [
    {
     "data": {
      "text/plain": [
       "[0.0009765625,\n",
       " 0.005524271728019903,\n",
       " 0.03125,\n",
       " 0.1767766952966369,\n",
       " 1.0,\n",
       " 5.656854249492381,\n",
       " 32.0,\n",
       " 181.01933598375618,\n",
       " 1024.0,\n",
       " 5792.618751480198,\n",
       " 32768.0]"
      ]
     },
     "execution_count": 82,
     "metadata": {},
     "output_type": "execute_result"
    }
   ],
   "source": [
    "c"
   ]
  },
  {
   "cell_type": "code",
   "execution_count": 86,
   "metadata": {
    "collapsed": false
   },
   "outputs": [],
   "source": [
    "from sklearn.grid_search import GridSearchCV\n",
    "\n",
    "tree_grid_searcher = GridSearchCV(\n",
    "    estimator=LogisticRegression(),\n",
    "    param_grid={\n",
    "        'C': c,\n",
    "        'penalty': ['l1', 'l2']\n",
    "    },\n",
    "    scoring='roc_auc', cv=10\n",
    ").fit(X_train, y_train)"
   ]
  },
  {
   "cell_type": "code",
   "execution_count": 87,
   "metadata": {
    "collapsed": false
   },
   "outputs": [
    {
     "name": "stdout",
     "output_type": "stream",
     "text": [
      "train score is 0.91719\n",
      "test score is 0.90115\n",
      "best parameter set:\n",
      " * C=181.019335984\n",
      " * penalty=l1\n"
     ]
    }
   ],
   "source": [
    "report_cross_validation(tree_grid_searcher, X_test, y_test)"
   ]
  },
  {
   "cell_type": "code",
   "execution_count": null,
   "metadata": {
    "collapsed": true
   },
   "outputs": [],
   "source": []
  },
  {
   "cell_type": "code",
   "execution_count": 90,
   "metadata": {
    "collapsed": false,
    "scrolled": false
   },
   "outputs": [
    {
     "name": "stdout",
     "output_type": "stream",
     "text": [
      "another method max auc = 0.906800104978 with c =  0.176776695297 2^ -2.5\n"
     ]
    },
    {
     "data": {
      "image/png": "[encoded data removed]",
      "text/plain": [
       "<matplotlib.figure.Figure at 0x10cec75d0>"
      ]
     },
     "metadata": {},
     "output_type": "display_data"
    }
   ],
   "source": [
    "import matplotlib.pyplot as plot\n",
    "import numpy\n",
    "import math\n",
    "\n",
    "plot.figure(figsize=(15,10))\n",
    "\n",
    "l1_mean = numpy.array([x.mean_validation_score for x in tree_grid_searcher.grid_scores_ if x.parameters['penalty'] == 'l1'])\n",
    "l2_mean = numpy.array([x.mean_validation_score for x in tree_grid_searcher.grid_scores_ if x.parameters['penalty'] == 'l2'])\n",
    "l1_std = numpy.array([x.cv_validation_scores.std() for x in tree_grid_searcher.grid_scores_ if x.parameters['penalty'] == 'l1'])\n",
    "l2_std = numpy.array([x.cv_validation_scores.std() for x in tree_grid_searcher.grid_scores_ if x.parameters['penalty'] == 'l2'])\n",
    "print \"another method max auc =\", l2_mean.max(), \"with c = \", c[numpy.where(l2_mean==l2_mean.max())[0][0]], \"2^\", math.log(c[numpy.where(l2_mean==l2_mean.max())[0][0]], 2)\n",
    "plot.fill_between(c, l1_mean - l1_std, l1_mean + l1_std, color = 'steelblue', alpha = .4)\n",
    "plot.plot(c, l1_mean, label='Avg. AUC for L1')\n",
    "plot.xscale('log', basex=2); plot.legend(loc=4);\n",
    "plot.xlabel('C (regularization parameter)'); plot.ylabel('AUC'); \n",
    "plot.fill_between(c, l2_mean - l2_std, l2_mean + l2_std, color = 'springgreen', alpha = .4)\n",
    "plot.plot(c, l2_mean, label='Avg. AUC for L2')\n",
    "plot.xscale('log', basex=2); plot.legend(loc=4);\n",
    "plot.xlabel('C (regularization parameter)'); plot.ylabel('AUC'); "
   ]
  },
  {
   "cell_type": "code",
   "execution_count": null,
   "metadata": {
    "collapsed": true
   },
   "outputs": [],
   "source": []
  },
  {
   "cell_type": "code",
   "execution_count": 92,
   "metadata": {
    "collapsed": false
   },
   "outputs": [
    {
     "data": {
      "text/plain": [
       "array([[-0.00378205,  0.0412248 ,  0.        , ...,  0.00620649,\n",
       "         0.        , -0.00102374]])"
      ]
     },
     "execution_count": 92,
     "metadata": {},
     "output_type": "execute_result"
    }
   ],
   "source": [
    "lr.coef_"
   ]
  },
  {
   "cell_type": "code",
   "execution_count": 93,
   "metadata": {
    "collapsed": false
   },
   "outputs": [
    {
     "name": "stdout",
     "output_type": "stream",
     "text": [
      "\n",
      "TOP 10 pos\n",
      "seen, importance = 0.48211\n",
      "performances, importance = 0.35558\n",
      "great, importance = 0.35557\n",
      "well, importance = 0.33297\n",
      "fun, importance = 0.32915\n",
      "everything, importance = 0.31101\n",
      "today, importance = 0.30067\n",
      "definitely, importance = 0.29655\n",
      "memorable, importance = 0.29100\n",
      "bit, importance = 0.28926\n",
      "\n",
      "TOP 10 neg\n",
      "bad, importance = -0.80850\n",
      "only, importance = -0.57331\n",
      "unfortunately, importance = -0.52102\n",
      "worst, importance = -0.48043\n",
      "script, importance = -0.46277\n",
      "boring, importance = -0.44558\n",
      "looks, importance = -0.36835\n",
      "waste, importance = -0.36551\n",
      "awful, importance = -0.34832\n",
      "supposed, importance = -0.34545\n"
     ]
    }
   ],
   "source": [
    "print '\\n', 'TOP 10 pos'\n",
    "for idx in numpy.argsort(lr.coef_)[0][::-1][:10]: # последние 10 с максимальным коэфициентом\n",
    "    print '{}, importance = {:.5f}'.format(words[idx], lr.coef_[0][idx])\n",
    "    \n",
    "    \n",
    "print '\\n', 'TOP 10 neg'\n",
    "for idx in numpy.argsort(lr.coef_)[0][:10]: # последние 10 с минимальным коэфициентом\n",
    "    print '{}, importance = {:.5f}'.format(words[idx], lr.coef_[0][idx])"
   ]
  },
  {
   "cell_type": "code",
   "execution_count": 94,
   "metadata": {
    "collapsed": true
   },
   "outputs": [],
   "source": [
    "from sklearn.ensemble import RandomForestClassifier"
   ]
  },
  {
   "cell_type": "code",
   "execution_count": 99,
   "metadata": {
    "collapsed": true
   },
   "outputs": [],
   "source": [
    "rf = RandomForestClassifier(n_estimators=2000)\n",
    "rf.fit(X_train, y_train)\n",
    "y_hat_rf = rf.predict_proba(X_test)"
   ]
  },
  {
   "cell_type": "code",
   "execution_count": null,
   "metadata": {
    "collapsed": true
   },
   "outputs": [],
   "source": []
  },
  {
   "cell_type": "code",
   "execution_count": null,
   "metadata": {
    "collapsed": true
   },
   "outputs": [],
   "source": []
  },
  {
   "cell_type": "code",
   "execution_count": 100,
   "metadata": {
    "collapsed": false
   },
   "outputs": [
    {
     "name": "stdout",
     "output_type": "stream",
     "text": [
      "Logistic Regression ( L1 ) AUC =  0.907018616282\n",
      "Logistic Regression ( L2 ) AUC =  0.886813003612\n",
      "Logistic Regression ( RF ) AUC =  0.881428174493\n"
     ]
    },
    {
     "data": {
      "image/png": "[encoded data removed]",
      "text/plain": [
       "<matplotlib.figure.Figure at 0x1436fa490>"
      ]
     },
     "metadata": {},
     "output_type": "display_data"
    }
   ],
   "source": [
    "roc_curve('', y_test, y_hat, 'L1')\n",
    "roc_curve('', y_test, y_hat1, 'L2')\n",
    "roc_curve('ROC_curve', y_test, y_hat_rf, 'RF')"
   ]
  },
  {
   "cell_type": "code",
   "execution_count": 101,
   "metadata": {
    "collapsed": false
   },
   "outputs": [
    {
     "data": {
      "text/plain": [
       "array([  3.05795740e-05,   1.13661992e-04,   0.00000000e+00, ...,\n",
       "         1.32955782e-06,   0.00000000e+00,   1.28572478e-06])"
      ]
     },
     "execution_count": 101,
     "metadata": {},
     "output_type": "execute_result"
    }
   ],
   "source": [
    "rf.feature_importances_"
   ]
  },
  {
   "cell_type": "code",
   "execution_count": 103,
   "metadata": {
    "collapsed": false
   },
   "outputs": [
    {
     "data": {
      "text/plain": [
       "[(u'00', 3.0579573959082586e-05),\n",
       " (u'000', 0.00011366199200900312),\n",
       " (u'0009f', 0.0),\n",
       " (u'007', 2.8900253063926444e-05),\n",
       " (u'00s', 1.0745953380983961e-06),\n",
       " (u'03', 2.1986905430015322e-06),\n",
       " (u'04', 1.9082668847543086e-07),\n",
       " (u'05', 8.0940648604656641e-06),\n",
       " (u'05425', 2.6899900202294666e-06),\n",
       " (u'10', 0.00030559718467358882),\n",
       " (u'100', 8.8902140664460071e-05),\n",
       " (u'1000', 4.0456275498042856e-05),\n",
       " (u'10000', 1.3612554041839548e-06),\n",
       " (u'100m', 4.7316486702239711e-06),\n",
       " (u'101', 2.3358664820371662e-05),\n",
       " (u'102', 1.7499984452674812e-05),\n",
       " (u'103', 8.6706437911307469e-06),\n",
       " (u'104', 5.075779111601312e-06),\n",
       " (u'105', 1.2111221304833759e-05),\n",
       " (u'106', 1.0213635516754564e-05),\n",
       " (u'107', 1.7176842196832398e-05),\n",
       " (u'108', 1.2259308901892839e-06),\n",
       " (u'109', 2.3954655288928859e-06),\n",
       " (u'10b', 0.0),\n",
       " (u'10s', 1.2892403365563724e-06),\n",
       " (u'10th', 2.5165280877370062e-06),\n",
       " (u'11', 4.8724121068256057e-05),\n",
       " (u'110', 3.6500683679559035e-06),\n",
       " (u'111', 2.502011737658555e-06),\n",
       " (u'112', 1.3544891640866883e-06),\n",
       " (u'113', 1.5949601781097559e-06),\n",
       " (u'1138', 0.0),\n",
       " (u'114', 0.0),\n",
       " (u'115', 2.3635319272879101e-06),\n",
       " (u'117', 0.0),\n",
       " (u'118', 1.2698412698412699e-06),\n",
       " (u'11th', 0.0),\n",
       " (u'12', 0.00012353690004098506),\n",
       " (u'121', 3.0423528778617395e-06),\n",
       " (u'122', 0.0),\n",
       " (u'123', 0.0),\n",
       " (u'125', 6.3105607862972815e-06),\n",
       " (u'126', 8.8123580173255988e-06),\n",
       " (u'127', 0.0),\n",
       " (u'1272', 1.943146289510642e-06),\n",
       " (u'128', 3.8064344319854891e-06),\n",
       " (u'129', 1.2202864552507826e-06),\n",
       " (u'1298', 0.0),\n",
       " (u'12th', 9.9651218054823098e-06),\n",
       " (u'13', 0.00013049240965561313),\n",
       " (u'130', 1.5060521520083701e-05),\n",
       " (u'1305', 3.4893679553430783e-06),\n",
       " (u'131', 0.0),\n",
       " (u'132', 2.5595376461690375e-06),\n",
       " (u'133', 4.1786073814769453e-06),\n",
       " (u'135', 0.0),\n",
       " (u'137', 4.3922646555487261e-05),\n",
       " (u'138', 7.1527249838552782e-07),\n",
       " (u'139', 3.8553735183981142e-06),\n",
       " (u'13th', 6.5549805080800493e-05),\n",
       " (u'14', 6.6118348586938279e-05),\n",
       " (u'140', 0.0),\n",
       " (u'1400', 1.172948821264013e-06),\n",
       " (u'143', 1.5915976797292478e-06),\n",
       " (u'144', 0.0),\n",
       " (u'14th', 3.2797925387399288e-06),\n",
       " (u'15', 9.8706694508426856e-05),\n",
       " (u'150', 2.3408930443174696e-05),\n",
       " (u'1500s', 1.1655676882918777e-05),\n",
       " (u'150th', 2.8628029863554768e-06),\n",
       " (u'151', 2.7306508929379011e-06),\n",
       " (u'152', 0.0),\n",
       " (u'1521', 0.0),\n",
       " (u'153', 3.4883843998508943e-06),\n",
       " (u'155', 2.4200934530244282e-06),\n",
       " (u'1554', 5.490962339670637e-06),\n",
       " (u'157', 0.0),\n",
       " (u'1583', 0.0),\n",
       " (u'1590', 3.0227331644186934e-06),\n",
       " (u'15th', 8.0365111964417366e-06),\n",
       " (u'16', 4.2233217091351894e-05),\n",
       " (u'160', 4.7556157805108353e-06),\n",
       " (u'1600', 5.769990400797743e-06),\n",
       " (u'1600s', 0.0),\n",
       " (u'161', 0.0),\n",
       " (u'165', 0.0),\n",
       " (u'167', 0.0),\n",
       " (u'1692', 0.0),\n",
       " (u'16mm', 2.5270311877329209e-05),\n",
       " (u'16th', 0.0),\n",
       " (u'16x9', 7.641610338839656e-06),\n",
       " (u'17', 0.00012303966739102688),\n",
       " (u'170', 1.1520510604348043e-06),\n",
       " (u'1700s', 8.190358456098186e-06),\n",
       " (u'1709', 1.3095238095238096e-06),\n",
       " (u'172', 0.0),\n",
       " (u'175', 9.1980047207365062e-06),\n",
       " (u'1773', 0.0),\n",
       " (u'1791', 0.0),\n",
       " (u'1792', 0.0),\n",
       " (u'1793', 0.0),\n",
       " (u'1794', 1.1070255736824499e-06),\n",
       " (u'1799', 0.0),\n",
       " (u'17th', 1.1125943537616691e-05),\n",
       " (u'18', 5.7913464446696569e-05),\n",
       " (u'180', 1.1244084664330601e-05),\n",
       " (u'1800', 5.2198384779039156e-06),\n",
       " (u'1800s', 3.7543357560053226e-06),\n",
       " (u'1812', 1.0840772619140532e-05),\n",
       " (u'1830s', 0.0),\n",
       " (u'1839', 0.0),\n",
       " (u'1847', 1.3906527904802767e-06),\n",
       " (u'1862', 0.0),\n",
       " (u'1865', 0.0),\n",
       " (u'1869', 9.8554176409668861e-07),\n",
       " (u'1871', 1.4147868616771355e-05),\n",
       " (u'1885', 2.997284853294372e-06),\n",
       " (u'1888', 0.0),\n",
       " (u'189', 3.2959601093833225e-06),\n",
       " (u'1896', 0.0),\n",
       " (u'1898', 6.6731060555103163e-06),\n",
       " (u'1899', 6.1724875895015803e-06),\n",
       " (u'18s', 0.0),\n",
       " (u'18th', 8.9042435998259102e-06),\n",
       " (u'19', 3.2368132533703141e-05),\n",
       " (u'1900', 5.1961742558754143e-06),\n",
       " (u'1900s', 3.5055181979943997e-06),\n",
       " (u'1903', 3.1949065569163937e-06),\n",
       " (u'1908', 0.0),\n",
       " (u'1912', 2.409399238640974e-05),\n",
       " (u'1913', 3.5646912812524823e-06),\n",
       " (u'1914', 1.1610540256204515e-05),\n",
       " (u'1916', 2.36132164001992e-06),\n",
       " (u'1919', 4.3279570178768902e-06),\n",
       " (u'1920s', 1.3445817198352699e-06),\n",
       " (u'1922', 0.0),\n",
       " (u'1923', 1.3906613003501195e-06),\n",
       " (u'1925', 0.0),\n",
       " (u'1926', 2.1890559844204014e-06),\n",
       " (u'1928', 0.0),\n",
       " (u'1930', 1.8008394009147854e-06),\n",
       " (u'1930s', 5.9379859014584381e-06),\n",
       " (u'1932', 2.018543910386989e-05),\n",
       " (u'1933', 5.323532218336675e-06),\n",
       " (u'1934', 0.0),\n",
       " (u'1935', 1.7205619877879841e-06),\n",
       " (u'1937', 3.2504009420944802e-06),\n",
       " (u'1938', 1.0742699057097956e-06),\n",
       " (u'1939', 2.3123207215759412e-05),\n",
       " (u'1940', 1.5465813262416898e-05),\n",
       " (u'1940s', 0.0),\n",
       " (u'1941', 0.0),\n",
       " (u'1942', 5.0548854012750625e-06),\n",
       " (u'1943', 1.4141192033222259e-05),\n",
       " (u'1944', 0.0),\n",
       " (u'1945', 1.3265333194557543e-06),\n",
       " (u'1946', 0.0),\n",
       " (u'1947', 7.6148441997524662e-06),\n",
       " (u'1948', 8.5128591028942478e-06),\n",
       " (u'1949', 6.6568932101600057e-06),\n",
       " (u'1950', 2.1415624174830251e-05),\n",
       " (u'1950s', 3.6082532004016569e-05),\n",
       " (u'1951', 0.0),\n",
       " (u'1952', 3.3225186758342627e-06),\n",
       " (u'1953', 4.6691009585609656e-06),\n",
       " (u'1954', 1.5723507769455621e-05),\n",
       " (u'1955', 1.0839232273547173e-05),\n",
       " (u'1956', 0.0),\n",
       " (u'1957', 2.3675960396009323e-06),\n",
       " (u'1958', 3.1144131356061932e-06),\n",
       " (u'1959', 0.0),\n",
       " (u'1960', 7.0893006954162845e-05),\n",
       " (u'1960s', 7.6798038434057388e-05),\n",
       " (u'1961', 1.2891532054190171e-05),\n",
       " (u'1962', 1.9357420356816871e-05),\n",
       " (u'1963', 1.9634942222161959e-05),\n",
       " (u'1964', 1.3805151898878149e-05),\n",
       " (u'1965', 0.0),\n",
       " (u'1966', 1.6210326559848362e-05),\n",
       " (u'1967', 5.2157820342766587e-06),\n",
       " (u'1968', 1.0708897761488281e-05),\n",
       " (u'1969', 7.2628696987095912e-06),\n",
       " (u'1970', 4.4442982447099821e-05),\n",
       " (u'1970s', 4.1089536681202394e-05),\n",
       " (u'1971', 3.5036052005307783e-05),\n",
       " (u'1972', 7.7443314122233809e-06),\n",
       " (u'1973', 3.4564526014944496e-05),\n",
       " (u'1974', 8.3690302832987829e-06),\n",
       " (u'1975', 2.5291871698617181e-05),\n",
       " (u'1976', 2.4357216585555962e-05),\n",
       " (u'1977', 2.3871200482631915e-05),\n",
       " (u'1978', 3.9621805749899797e-05),\n",
       " (u'1979', 1.9147889512373696e-05),\n",
       " (u'1980', 3.4619384928128023e-05),\n",
       " (u'1980s', 2.91727163588811e-05),\n",
       " (u'1981', 3.9600126975198863e-05),\n",
       " (u'1982', 1.5742645063668519e-05),\n",
       " (u'1983', 2.2974358297702489e-05),\n",
       " (u'1984', 3.5575117066561832e-05),\n",
       " (u'1985', 3.7206693700868838e-05),\n",
       " (u'1986', 3.8192931866231589e-05),\n",
       " (u'1987', 3.441106965552729e-05),\n",
       " (u'1988', 4.9443233145130345e-05),\n",
       " (u'1989', 5.734789006162456e-05),\n",
       " (u'1990', 3.592644568856601e-05),\n",
       " (u'1990s', 3.2825190841981126e-05),\n",
       " (u'1991', 7.4724139795453965e-05),\n",
       " (u'1992', 3.7266997509032255e-05),\n",
       " (u'1993', 7.8599170035185541e-05),\n",
       " (u'1994', 5.6547902682719912e-05),\n",
       " (u'1995', 0.00010961834005015501),\n",
       " (u'1996', 0.00010364137011379063),\n",
       " (u'1997', 0.0001585570937557446),\n",
       " (u'1998', 0.00012867094388792753),\n",
       " (u'1998s', 1.0715072944134684e-06),\n",
       " (u'1999', 0.00019007567446904837),\n",
       " (u'19th', 3.9346874841071797e-05),\n",
       " (u'1hr', 6.5887623296233014e-06),\n",
       " (u'1st', 4.2991622259773066e-06),\n",
       " (u'20', 0.00015165580229783624),\n",
       " (u'200', 4.5326669185115841e-05),\n",
       " (u'2000', 4.4061704015074682e-05),\n",
       " (u'2001', 3.9279050023661077e-05),\n",
       " (u'2002', 8.4242263013212846e-07),\n",
       " (u'2007', 4.5105281659146963e-06),\n",
       " (u'2010', 0.0),\n",
       " (u'2013', 3.7801636481034038e-06),\n",
       " (u'2015', 5.3943944940996222e-06),\n",
       " (u'2017', 4.5727696965325371e-06),\n",
       " (u'2018', 2.9027997528913005e-06),\n",
       " (u'2020', 3.9402404463893746e-06),\n",
       " (u'2023', 3.9704291723795068e-06),\n",
       " (u'2024', 1.6116740844845786e-06),\n",
       " (u'2029', 1.1432514479483735e-06),\n",
       " (u'2036', 0.0),\n",
       " (u'2040', 0.0),\n",
       " (u'2050', 1.6375942565462441e-06),\n",
       " (u'2056', 0.0),\n",
       " (u'2058', 8.2527277824975852e-06),\n",
       " (u'206', 8.1920546204585659e-06),\n",
       " (u'2065', 7.0913469381977796e-06),\n",
       " (u'209', 1.4786342817403099e-05),\n",
       " (u'2099', 1.1144574230848006e-06),\n",
       " (u'20s', 3.6525199036324389e-06),\n",
       " (u'20somethings', 0.0),\n",
       " (u'20th', 3.3173891734814187e-05),\n",
       " (u'20thcentury', 0.0),\n",
       " (u'21', 2.7175321442865672e-05),\n",
       " (u'216', 6.6668843608498672e-07),\n",
       " (u'2176', 6.5547827753673084e-06),\n",
       " (u'21a', 2.9642431327165654e-06),\n",
       " (u'21st', 1.1322698181357242e-05),\n",
       " (u'22', 2.6638361074848225e-05),\n",
       " (u'2259', 0.0),\n",
       " (u'2293', 0.0),\n",
       " (u'23', 1.897364495972211e-05),\n",
       " (u'230', 0.0),\n",
       " (u'234', 0.0),\n",
       " (u'23rd', 8.8964635975048073e-06),\n",
       " (u'24', 5.1297227117377755e-05),\n",
       " (u'2400', 1.8833524165984106e-06),\n",
       " (u'2470', 1.402968175591009e-06),\n",
       " (u'24th', 5.5654798787093151e-06),\n",
       " (u'25', 4.1775393318431338e-05),\n",
       " (u'250', 9.5270953995697823e-07),\n",
       " (u'254', 1.332052084211341e-06),\n",
       " (u'25th', 1.268835533918349e-05),\n",
       " (u'26', 2.3064280279568016e-05),\n",
       " (u'2654', 1.9291858662959354e-06),\n",
       " (u'26min', 0.0),\n",
       " (u'26th', 1.0579095537829943e-05),\n",
       " (u'27', 3.5293467081582581e-05),\n",
       " (u'28', 9.5609825306625275e-06),\n",
       " (u'280', 1.567173128090891e-06),\n",
       " (u'289', 0.0),\n",
       " (u'28th', 0.0),\n",
       " (u'28up', 1.3757315660473978e-06),\n",
       " (u'29', 1.0683982030109862e-05),\n",
       " (u'2_', 1.3500025752149968e-06),\n",
       " (u'2am', 2.1667409098523786e-06),\n",
       " (u'2d', 0.0),\n",
       " (u'2hr', 4.2903308130041421e-06),\n",
       " (u'2nd', 2.4569723415113511e-06),\n",
       " (u'2th', 0.0),\n",
       " (u'30', 0.00018613629720901271),\n",
       " (u'300', 1.6049171038198719e-05),\n",
       " (u'3000', 6.4409512811004746e-05),\n",
       " (u'30ish', 0.0),\n",
       " (u'30m', 3.0746007692794077e-06),\n",
       " (u'30s', 0.0),\n",
       " (u'30th', 2.6004594640378279e-08),\n",
       " (u'31', 1.1325667167863411e-05),\n",
       " (u'310', 0.0),\n",
       " (u'31st', 4.4285814279780816e-06),\n",
       " (u'32', 5.2230667526659107e-06),\n",
       " (u'33', 3.5187944713416266e-06),\n",
       " (u'34', 8.3187672922008987e-06),\n",
       " (u'3411', 0.0),\n",
       " (u'3465', 9.5359727543635583e-07),\n",
       " (u'34th', 0.0),\n",
       " (u'35', 1.6277481008931308e-05),\n",
       " (u'357', 1.1840501883997104e-06),\n",
       " (u'35mm', 0.0),\n",
       " (u'35th', 0.0),\n",
       " (u'36', 1.1550931955889574e-05),\n",
       " (u'360', 1.2505002000800321e-06),\n",
       " (u'3654', 4.0250378710190695e-06),\n",
       " (u'36th', 3.7876202508484601e-06),\n",
       " (u'37', 1.9952002587565272e-05),\n",
       " (u'37th', 6.2731185431901972e-06),\n",
       " (u'38th', 3.7815042894552839e-06),\n",
       " (u'39', 7.3891733101328574e-06),\n",
       " (u'3d', 1.7290357545031107e-05),\n",
       " (u'3p0', 0.0),\n",
       " (u'3po', 0.0),\n",
       " (u'3rd', 2.3873208309785565e-05),\n",
       " (u'40', 0.00011895400768368592),\n",
       " (u'400', 1.3679349876400151e-05),\n",
       " (u'40mins', 0.0),\n",
       " (u'40s', 0.0),\n",
       " (u'41', 2.5587348187278906e-06),\n",
       " (u'42', 3.9107194692136191e-06),\n",
       " (u'426', 0.0),\n",
       " (u'43', 1.0435856524403623e-05),\n",
       " (u'44', 1.0278728665927604e-06),\n",
       " (u'449', 0.0),\n",
       " (u'45', 2.9036864993763521e-05),\n",
       " (u'460', 0.0),\n",
       " (u'47', 6.6578574284329816e-06),\n",
       " (u'48', 4.1439195722940372e-05),\n",
       " (u'48th', 5.7023345423423078e-06),\n",
       " (u'49', 4.9233991001779369e-06),\n",
       " (u'4960', 3.0848545313594073e-06),\n",
       " (u'4am', 1.2721447576645999e-06),\n",
       " (u'4th', 1.3734525858050466e-05),\n",
       " (u'50', 0.00011605517474982022),\n",
       " (u'500', 2.2025640336563335e-05),\n",
       " (u'5000', 1.2245797650439628e-06),\n",
       " (u'50000', 2.8887152186527121e-06),\n",
       " (u'500k', 3.3879376828412557e-06),\n",
       " (u'500th', 8.9293837474128244e-06),\n",
       " (u'50s', 8.7368832429143107e-05),\n",
       " (u'50th', 2.1439739067593249e-06),\n",
       " (u'51', 3.9480150719059698e-06),\n",
       " (u'51st', 0.0),\n",
       " (u'52', 4.1094202719503442e-06),\n",
       " (u'53', 7.1140563947426067e-06),\n",
       " (u'54', 1.8372640650261515e-05),\n",
       " (u'54th', 1.0390615296367534e-06),\n",
       " (u'55', 3.6864458158652902e-06),\n",
       " (u'555', 2.2644565603981373e-06),\n",
       " (u'56', 1.9226776245570639e-06),\n",
       " (u'5671', 0.0),\n",
       " (u'56k', 0.0),\n",
       " (u'57', 4.9406406497535901e-06),\n",
       " (u'571', 7.9952893490096542e-06),\n",
       " (u'57th', 1.1484847179752208e-06),\n",
       " (u'58', 3.4336911242640886e-06),\n",
       " (u'59', 5.2522723431065153e-07),\n",
       " (u'5th', 7.532206542531325e-06),\n",
       " (u'60', 6.3637050723543977e-05),\n",
       " (u'600', 6.6671108007126108e-06),\n",
       " (u'6000', 3.3850732885192927e-06),\n",
       " (u'607', 4.8014448928955172e-06),\n",
       " (u'60s', 2.1696665153396914e-05),\n",
       " (u'61', 8.7626406388066252e-06),\n",
       " (u'62', 0.0),\n",
       " (u'63', 0.0),\n",
       " (u'64', 0.0),\n",
       " (u'640', 0.0),\n",
       " (u'65', 3.7320379471812305e-06),\n",
       " (u'65th', 1.277410276667415e-06),\n",
       " (u'66', 4.8038083995293068e-06),\n",
       " (u'666', 9.5247620000095254e-07),\n",
       " (u'67', 0.0),\n",
       " (u'68', 0.0),\n",
       " (u'69', 1.2326814056114228e-06),\n",
       " (u'6th', 1.0734001226742996e-06),\n",
       " (u'70', 9.6443226078054292e-05),\n",
       " (u'700', 4.9297498541354772e-06),\n",
       " (u'7000', 0.0),\n",
       " (u'701', 8.7907941687173842e-07),\n",
       " (u'70ies', 0.0),\n",
       " (u'70m', 7.6912163839671642e-06),\n",
       " (u'70mm', 6.0576993906927613e-06),\n",
       " (u'70s', 3.9372750091028286e-05),\n",
       " (u'710', 5.4598145607068008e-06),\n",
       " (u'712', 0.0),\n",
       " (u'73', 9.9883517763541139e-07),\n",
       " (u'747s', 0.0),\n",
       " (u'75', 1.5377342359334549e-05),\n",
       " (u'750', 1.9592338973012501e-06),\n",
       " (u'76', 9.4776611915881266e-06),\n",
       " (u'77', 1.2175817080717218e-06),\n",
       " (u'777', 0.0),\n",
       " (u'779', 2.2254297298533866e-06),\n",
       " (u'78', 1.2120488258299246e-05),\n",
       " (u'79', 0.0),\n",
       " (u'7th', 3.7849899621055763e-06),\n",
       " (u'80', 9.1075252521348956e-05),\n",
       " (u'800', 6.840363584652349e-06),\n",
       " (u'802', 0.0),\n",
       " (u'8034', 0.0),\n",
       " (u'80s', 4.7127163943169842e-05),\n",
       " (u'81', 7.8407117881815583e-06),\n",
       " (u'82', 0.0),\n",
       " (u'8216', 7.5635809017421264e-07),\n",
       " (u'83', 3.6554291679740059e-06),\n",
       " (u'84', 4.2949719268174355e-06),\n",
       " (u'85', 3.6044541445417543e-05),\n",
       " (u'85but', 0.0),\n",
       " (u'86', 3.6880856332604078e-06),\n",
       " (u'87', 9.0950501980706217e-06),\n",
       " (u'88', 1.7165428936947958e-05),\n",
       " (u'89', 2.8844560395814749e-06),\n",
       " (u'8a', 4.2494840056595558e-06),\n",
       " (u'8mm', 3.8412657150699983e-05),\n",
       " (u'8th', 1.2626571497423396e-05),\n",
       " (u'90', 0.00020589504138863212),\n",
       " (u'900', 2.2668096711019337e-06),\n",
       " (u'90210', 1.5195917151672191e-05),\n",
       " (u'90s', 0.00011578143603289711),\n",
       " (u'91', 7.8366496010554361e-06),\n",
       " (u'911', 1.0267596743371788e-05),\n",
       " (u'92', 3.653282923869715e-06),\n",
       " (u'92ll', 4.2486955724264549e-06),\n",
       " (u'92re', 1.6843386472901372e-06),\n",
       " (u'92s', 1.1855262111895698e-06),\n",
       " (u'92t', 0.0),\n",
       " (u'92ve', 0.0),\n",
       " (u'93', 4.678227600960009e-06),\n",
       " (u'939', 0.0),\n",
       " (u'94', 1.9633089708522061e-05),\n",
       " (u'95', 1.1131231511587713e-05),\n",
       " (u'95s', 1.8709770794811456e-06),\n",
       " (u'96', 4.6926546640773458e-06),\n",
       " (u'97', 3.3312594650503421e-05),\n",
       " (u'98', 1.787370854002117e-05),\n",
       " (u'99', 2.5024177035582923e-05),\n",
       " (u'999', 6.7316488521761191e-06),\n",
       " (u'9mm', 1.3839359659852455e-05),\n",
       " (u'_2001_', 0.0),\n",
       " (u'_21_jump_street_', 3.3988404868892568e-06),\n",
       " (u'_48_hrs', 0.0),\n",
       " (u'_54_', 2.2862340483325384e-06),\n",
       " (u'___', 1.0262809558004369e-06),\n",
       " (u'____', 2.1378615555505899e-06),\n",
       " (u'_____', 1.3262696382901004e-06),\n",
       " (u'______', 0.0),\n",
       " (u'____________________________________________', 0.0),\n",
       " (u'__________________________________________________________', 0.0),\n",
       " (u'_a', 0.0),\n",
       " (u'_a_night_at_the_roxbury_', 3.7119031607584151e-06),\n",
       " (u'_air_force_one_', 4.5040252993589039e-06),\n",
       " (u'_all_', 2.5318061759122965e-06),\n",
       " (u'_am_', 2.6341965357571602e-06),\n",
       " (u'_amadeus_', 0.0),\n",
       " (u'_america', 5.1247563244425019e-06),\n",
       " (u'_american_beauty_', 3.7151857166397185e-06),\n",
       " (u'_american_psycho_', 1.1458664829038607e-06),\n",
       " (u'_and_', 7.5437309408736657e-06),\n",
       " (u'_andre_', 1.0714307580219553e-06),\n",
       " (u'_angel', 1.1807314192762487e-06),\n",
       " (u'_animal', 0.0),\n",
       " (u'_anything_', 0.0),\n",
       " (u'_are_', 0.0),\n",
       " (u'_armageddon_', 0.0),\n",
       " (u'_arrrgh_', 1.3444009187219117e-06),\n",
       " (u'_babe_', 2.3616098838621029e-06),\n",
       " (u'_bad_', 0.0),\n",
       " (u'_basquiat_', 7.8921419190444274e-07),\n",
       " (u'_before_', 0.0),\n",
       " (u'_beloved_', 0.0),\n",
       " (u'_blade', 0.0),\n",
       " (u'_blade_', 0.0),\n",
       " (u'_boogie', 0.0),\n",
       " (u'_boom_', 8.7696323985080892e-06),\n",
       " (u'_brazil_', 1.9175180762486793e-06),\n",
       " (u'_breakfast_', 2.41491937195961e-06),\n",
       " (u'_breakfast_of_champions_', 1.2769609304126325e-06),\n",
       " (u'_but', 3.3875574226016944e-06),\n",
       " (u'_can', 0.0),\n",
       " (u'_can_', 9.7238296307938406e-07),\n",
       " (u'_casablanca_', 1.2525879917184265e-06),\n",
       " (u'_cliffhanger', 4.3389651604865265e-06),\n",
       " (u'_cliffhanger_', 2.9165583838322129e-06),\n",
       " (u'_clueless_', 4.5623330981010747e-06),\n",
       " (u'_come_', 3.5714941703010868e-07),\n",
       " (u'_dancing_', 2.5639313783270494e-06),\n",
       " (u'_dawson', 0.0),\n",
       " (u'_daylight_', 7.1550308855610105e-06),\n",
       " (u'_dead_', 0.0),\n",
       " (u'_dead_man_', 3.8709463793004073e-06),\n",
       " (u'_dead_man_on_campus_', 4.9071920910074154e-06),\n",
       " (u'_death', 0.0),\n",
       " (u'_dirty_work_', 9.264014330316769e-06),\n",
       " (u'_disturbing_behavior_', 0.0),\n",
       " (u'_do_', 0.0),\n",
       " (u'_doctor_dolittle_', 0.0),\n",
       " (u'_does_', 3.7565450200871734e-06),\n",
       " (u'_dog', 0.0),\n",
       " (u'_don', 1.3269205644107661e-06),\n",
       " (u'_double_team_', 2.5376378765591394e-06),\n",
       " (u'_dragon', 1.3046740432191562e-06),\n",
       " (u'_dragon_', 0.0),\n",
       " (u'_dragonheart_', 7.7888010081713981e-06),\n",
       " (u'_election', 6.6033268315768417e-06),\n",
       " (u'_election_', 1.4489218635249406e-06),\n",
       " (u'_entertainment_weekly_', 5.6381869720101223e-06),\n",
       " (u'_escape', 0.0),\n",
       " (u'_eve', 0.0),\n",
       " (u'_everybody_', 0.0),\n",
       " (u'_exactly_', 4.6835329136863131e-06),\n",
       " (u'_experience_', 0.0),\n",
       " (u'_fantastic_', 0.0),\n",
       " (u'_fear_and_loathing_in_las_vegas_', 1.3006118068033942e-06),\n",
       " (u'_ferris', 5.1813765531206556e-06),\n",
       " (u'_fifty_', 3.2004139198312232e-06),\n",
       " (u'_film', 3.4308846663088114e-06),\n",
       " (u'_fisherman', 0.0),\n",
       " (u'_flirting', 0.0),\n",
       " (u'_four_', 0.0),\n",
       " (u'_full_house_', 3.6265399560569825e-06),\n",
       " (u'_gag', 1.3211815174676364e-06),\n",
       " (u'_gattaca_', 2.3948239870892419e-06),\n",
       " (u'_genius_', 0.0),\n",
       " (u'_ghost', 0.0),\n",
       " (u'_great_', 0.0),\n",
       " (u'_h20_', 0.0),\n",
       " (u'_halloween', 0.0),\n",
       " (u'_halloween_', 0.0),\n",
       " (u'_happen_', 0.0),\n",
       " (u'_hard_ware', 3.9171645844618632e-06),\n",
       " (u'_have_', 1.3891272195392999e-06),\n",
       " (u'_heathers_', 3.3679793349410193e-06),\n",
       " (u'_here_', 0.0),\n",
       " (u'_highly_', 0.0),\n",
       " (u'_his_', 8.088098234340912e-06),\n",
       " (u'_holy_man_', 0.0),\n",
       " (u'_home', 1.1187317262785183e-06),\n",
       " (u'_home_alone_', 5.2632883022131408e-06),\n",
       " (u'_hope', 0.0),\n",
       " (u'_huge_', 5.7860742528112108e-06),\n",
       " (u'_hustler_', 0.0),\n",
       " (u'_i_know', 0.0),\n",
       " (u'_i_know_what_you_did_last_summer_', 0.0),\n",
       " (u'_in', 7.5532518087558421e-06),\n",
       " (u'_into_', 1.3205513205513199e-06),\n",
       " (u'_is_', 6.394927248116197e-06),\n",
       " (u'_it', 0.0),\n",
       " (u'_itcom_', 0.0),\n",
       " (u'_jerry_maguire_', 3.0416544136221255e-06),\n",
       " (u'_john', 0.0),\n",
       " (u'_juliet_', 3.4692997330592154e-06),\n",
       " (u'_jumanji_', 0.0),\n",
       " (u'_kingpin_', 0.0),\n",
       " (u'_knock_off_', 2.3608748615636868e-06),\n",
       " (u'_la', 6.7539180852932133e-06),\n",
       " (u'_last', 5.4854238496821093e-06),\n",
       " (u'_last_', 4.4952507687902666e-06),\n",
       " (u'_least_', 1.6173442088376254e-06),\n",
       " (u'_leave', 0.0),\n",
       " (u'_life', 7.1433819627564469e-07),\n",
       " (u'_little', 1.2053396249442178e-06),\n",
       " (u'_loathe_', 2.0877865232767177e-06),\n",
       " (u'_lone', 4.2980692351867952e-06),\n",
       " (u'_long_', 0.0),\n",
       " (u'_looks_', 0.0),\n",
       " (u'_lot_', 0.0),\n",
       " (u'_mafia_', 1.2708322163909558e-06),\n",
       " (u'_many_', 4.4900266204248258e-06),\n",
       " (u'_matewan_', 4.7556704979861827e-06),\n",
       " (u'_matrix_', 4.7722120664322936e-06),\n",
       " (u'_melvin', 1.3259546804046474e-06),\n",
       " (u'_mind', 2.2650160955250964e-06),\n",
       " (u'_moby', 0.0),\n",
       " (u'_monster_movie_', 1.7932726914908196e-06),\n",
       " (u'_more_', 9.1845755393025324e-07),\n",
       " (u'_mortal', 0.0),\n",
       " (u'_murder_', 9.3975016615876048e-06),\n",
       " (u'_must_', 4.9871783687095042e-06),\n",
       " (u'_never', 0.0),\n",
       " (u'_no', 4.6415090440120496e-06),\n",
       " (u'_not_', 4.1651581268830745e-06),\n",
       " (u'_october', 1.1970443349753714e-06),\n",
       " (u'_offscreen_', 4.5487253382342448e-06),\n",
       " (u'_onegin_', 0.0),\n",
       " (u'_original_', 0.0),\n",
       " (u'_patlabor', 1.2958467957204629e-06),\n",
       " (u'_patlabor_', 2.4580630552188929e-06),\n",
       " (u'_pecker_', 4.4882622838846128e-06),\n",
       " (u'_people_', 0.0),\n",
       " (u'_pick_chucky_up_', 1.6273456308207756e-06),\n",
       " (u'_polish_wedding_', 4.4195937555331406e-06),\n",
       " (u'_pollock_', 0.0),\n",
       " (u'_poltergeist_', 1.1433144686446002e-06),\n",
       " (u'_porky', 0.0),\n",
       " (u'_practical', 0.0),\n",
       " (u'_quite_', 0.0),\n",
       " (u'_reach_the_rock_', 1.1056561062852395e-06),\n",
       " (u'_real_', 1.2145304046512368e-05),\n",
       " (u'_reality', 0.0),\n",
       " (u'_really_', 1.1868313443808269e-05),\n",
       " (u'_red', 5.6047789817868487e-06),\n",
       " (u'_remains', 0.0),\n",
       " (u'_require_', 4.9976659743987569e-06),\n",
       " (u'_roxbury_', 1.1973439276889787e-06),\n",
       " (u'_rushmore_', 3.2817070825057608e-06),\n",
       " (u'_saturday_night_live_', 5.4211372905789869e-06),\n",
       " (u'_saved_by_the_bell_', 5.7646331110913832e-06),\n",
       " (u'_saving', 0.0),\n",
       " (u'_scarface_', 7.1173514789110909e-06),\n",
       " (u'_schindler', 0.0),\n",
       " (u'_scream', 3.9153510632810632e-06),\n",
       " (u'_scream_', 1.224612257144082e-06),\n",
       " (u'_scream_2_', 0.0),\n",
       " (u'_seven_nights_', 4.4389944053419524e-06),\n",
       " (u'_shaft', 1.9060768902764322e-06),\n",
       " (u'_shaft_', 1.0984876341677758e-06),\n",
       " (u'_shaft_in_africa_', 2.4360208497427896e-06),\n",
       " (u'_shine_', 2.0424836601307192e-06),\n",
       " (u'_should_', 1.904958251534247e-06),\n",
       " (u'_six_days', 0.0),\n",
       " (u'_snl_', 4.1363882356520533e-06),\n",
       " (u'_so', 0.0),\n",
       " (u'_soldier_', 0.0),\n",
       " (u'_some_', 0.0),\n",
       " (u'_somewhere_', 0.0),\n",
       " (u'_star', 1.3512654776781216e-06),\n",
       " (u'_still_', 0.0),\n",
       " (u'_survives_', 0.0),\n",
       " (u'_that_', 1.1133164656698163e-05),\n",
       " (u'_the', 1.8906756658064084e-05),\n",
       " (u'_the_', 2.8822758749766043e-06),\n",
       " (u'_the_broadway_musical_', 5.271378323652042e-06),\n",
       " (u'_the_fugitive_', 0.0),\n",
       " (u'_the_last_days_of_disco_', 1.1513070127495881e-06),\n",
       " (u'_the_lion_king', 7.2754544484433531e-06),\n",
       " (u'_the_quest_', 1.8195335276967916e-06),\n",
       " (u'_their_', 6.6344652351552679e-06),\n",
       " (u'_there_', 8.9226655282257807e-07),\n",
       " (u'_they', 0.0),\n",
       " (u'_this_', 0.0),\n",
       " (u'_titanic_', 6.8937613594768288e-06),\n",
       " (u'_titus_', 7.1609258479506765e-06),\n",
       " (u'_titus_andronicus_', 6.1344186287905116e-06),\n",
       " (u'_to', 0.0),\n",
       " (u'_today_', 0.0),\n",
       " (u'_too_', 0.0),\n",
       " (u'_twice_', 9.5287878292876826e-07),\n",
       " (u'_two_', 0.0),\n",
       " (u'_unbreakable_', 0.0),\n",
       " (u'_urban', 9.1642607863742254e-07),\n",
       " (u'_urban_legend_', 0.0),\n",
       " (u'_vampires_', 0.0),\n",
       " (u'_very_', 0.0),\n",
       " (u'_very_small_', 1.3044757670040908e-06),\n",
       " (u'_wag', 0.0),\n",
       " (u'_waiting_to_exhale_', 0.0),\n",
       " (u'_wartime', 4.5836341777142955e-06),\n",
       " (u'_wayyyyy_', 6.7008512259639735e-06),\n",
       " (u'_what', 2.8771769356758955e-06),\n",
       " (u'_whole_', 5.4956168508548378e-06),\n",
       " (u'_will_', 2.3623931554004694e-06),\n",
       " (u'_william_shakespeare', 5.8450165642448072e-06),\n",
       " (u'_wishmaster_', 0.0),\n",
       " (u'_would_', 3.155111646122737e-06),\n",
       " (u'aa', 0.0),\n",
       " (u'aaa', 2.5739820980633698e-06),\n",
       " (u'aaaaaaaaah', 0.0),\n",
       " (u'aaaaaaaahhhh', 0.0),\n",
       " (u'aaaaaah', 1.7869810741527274e-06),\n",
       " (u'aaaahhhs', 0.0),\n",
       " (u'aahs', 8.038076861846401e-06),\n",
       " (u'aaliyah', 3.4634385072971135e-06),\n",
       " (u'aalyah', 9.8197313720912484e-06),\n",
       " (u'aamir', 1.1341764136087026e-06),\n",
       " (u'aardman', 2.3688337471866837e-06),\n",
       " (u'aaron', 3.2915110350117782e-05),\n",
       " (u'aatish', 0.0),\n",
       " (u'ab', 0.0),\n",
       " (u'aback', 8.4816730251403105e-06),\n",
       " (u'abandon', 2.335539208667461e-05),\n",
       " (u'abandoned', 5.2119119420409082e-05),\n",
       " (u'abandoning', 0.0),\n",
       " (u'abandonment', 9.1730759642811675e-06),\n",
       " (u'abandons', 1.2389452423254896e-05),\n",
       " (u'abating', 0.0),\n",
       " (u'abba', 3.6105107372523187e-06),\n",
       " (u'abbe', 1.3568936401931982e-05),\n",
       " (u'abberation', 0.0),\n",
       " (u'abberline', 3.0275762866909487e-06),\n",
       " (u'abbots', 0.0),\n",
       " (u'abbott', 4.0358378393700697e-06),\n",
       " (u'abbotts', 0.0),\n",
       " (u'abbreviated', 3.728899309176046e-06),\n",
       " (u'abby', 2.6306771883062928e-05),\n",
       " (u'abc', 0.0),\n",
       " (u'abdomen', 1.9692850018206827e-06),\n",
       " (u'abducted', 6.4645663033155911e-06),\n",
       " (u'abductees', 0.0),\n",
       " (u'abduction', 1.1201527303509428e-05),\n",
       " (u'abductions', 1.3173536983845262e-05),\n",
       " (u'abdul', 4.0539303352502532e-06),\n",
       " (u'abe', 1.272755256637472e-05),\n",
       " (u'abel', 2.0415753401669193e-06),\n",
       " (u'aberdeen', 0.0),\n",
       " (u'aberration', 1.2418712120688203e-06),\n",
       " (u'abetted', 1.5736225384118564e-05),\n",
       " (u'abetting', 1.0475585583228409e-05),\n",
       " (u'abeyance', 1.8921441221062838e-06),\n",
       " (u'abhorrence', 0.0),\n",
       " (u'abhorrent', 1.7146389556788243e-05),\n",
       " (u'abider', 0.0),\n",
       " (u'abides', 1.2501250125012497e-06),\n",
       " (u'abiding', 0.0),\n",
       " (u'abigail', 0.0),\n",
       " (u'abiility', 6.1197965695534564e-06),\n",
       " (u'abilities', 7.9241897105715339e-05),\n",
       " (u'ability', 0.00016633494062469242),\n",
       " (u'abject', 6.6734464701670516e-06),\n",
       " (u'ablaze', 5.0182817905178447e-06),\n",
       " (u'able', 0.0004480297936421827),\n",
       " (u'ably', 3.1487539298049013e-05),\n",
       " (u'abnormal', 0.0),\n",
       " (u'abnormally', 1.785429619002067e-06),\n",
       " (u'abo', 0.0),\n",
       " (u'aboard', 3.3599193393161634e-05),\n",
       " (u'abode', 4.8760874008460485e-06),\n",
       " (u'abolish', 1.1451029467997437e-06),\n",
       " (u'abolitionist', 5.2888109631116221e-06),\n",
       " (u'abolitionists', 3.5149492895753937e-06),\n",
       " (u'abominable', 4.6618273862769874e-06),\n",
       " (u'abomination', 0.0),\n",
       " (u'aborbed', 4.7050578269667316e-06),\n",
       " (u'aborginal', 2.4450448518320858e-06),\n",
       " (u'aboriginal', 2.6662149512339333e-06),\n",
       " (u'aboriginals', 0.0),\n",
       " (u'aborigine', 0.0),\n",
       " (u'abort', 9.5281847106664624e-07),\n",
       " (u'aborted', 6.7744293376856773e-06),\n",
       " (u'abortion', 2.5297316239844426e-05),\n",
       " (u'abortionist', 1.0715072944134673e-06),\n",
       " (u'abortions', 1.0980098571339409e-06),\n",
       " (u'abortive', 0.0),\n",
       " (u'aboslutely', 0.0),\n",
       " (u'abound', 1.4651376741041676e-05),\n",
       " (u'abounded', 0.0),\n",
       " (u'abounding', 1.8198343574579223e-06),\n",
       " (u'abounds', 1.9600207390718042e-05),\n",
       " (u'about', 0.00090538480213195674),\n",
       " (u'abouts', 8.6754605815481432e-06),\n",
       " (u'above', 0.00031413091156989843),\n",
       " (u'abraded', 3.2094452834695368e-06),\n",
       " (u'abraham', 2.9639122267973366e-05),\n",
       " (u'abrahams', 1.1967755820852214e-05),\n",
       " (u'abrams', 7.3812351650804268e-06),\n",
       " (u'abrasive', 1.1964592515369615e-05),\n",
       " (u'abreast', 3.7047976112834071e-06),\n",
       " (u'abril', 0.0),\n",
       " (u'abroad', 8.7521409819172587e-06),\n",
       " (u'abrupt', 1.2904336915737624e-05),\n",
       " (u'abruptly', 1.4023618384650656e-05),\n",
       " (u'abs', 2.1975740725303747e-06),\n",
       " (u'absconded', 5.1597686470227644e-06),\n",
       " (u'absence', 3.1275186851815448e-05),\n",
       " (u'absences', 1.5707799850854624e-05),\n",
       " (u'absense', 3.7413109280560993e-06),\n",
       " (u'absent', 5.4562452432995464e-05),\n",
       " (u'absentee', 4.1832733489791689e-06),\n",
       " (u'absinthe', 1.0204591490521133e-05),\n",
       " (u'absoloute', 0.0),\n",
       " (u'absoltuely', 1.8369151078605063e-06),\n",
       " (u'absolut', 0.0),\n",
       " (u'absolute', 6.2412389782604371e-05),\n",
       " (u'absolutely', 0.0002043592241060333),\n",
       " (u'absolutes', 3.5807077451116562e-06),\n",
       " (u'absolution', 0.0),\n",
       " (u'absolutist', 0.0),\n",
       " (u'absolved', 0.0),\n",
       " (u'absorb', 4.9089888509285988e-06),\n",
       " (u'absorbant', 2.6103142380337272e-06),\n",
       " (u'absorbed', 2.4193561532576524e-05),\n",
       " (u'absorbing', 4.3524561333496251e-05),\n",
       " (u'absorbs', 0.0),\n",
       " (u'absorption', 8.0311374208017597e-06),\n",
       " (u'abstinence', 0.0),\n",
       " (u'abstract', 2.1316091611245835e-05),\n",
       " (u'abstraction', 2.3393858443762557e-06),\n",
       " (u'absurd', 9.3787310395091481e-05),\n",
       " (u'absurdism', 4.7604499854490195e-06),\n",
       " (u'absurdist', 1.8755642070560743e-05),\n",
       " (u'absurdities', 9.3594360902483543e-06),\n",
       " (u'absurdity', 4.6236493537944151e-06),\n",
       " (u'absurdly', 1.6976364278751225e-05),\n",
       " (u'abu', 0.0),\n",
       " (u'abundance', 1.4878499742933144e-05),\n",
       " (u'abundant', 5.1464687364780424e-06),\n",
       " (u'abundantly', 5.8548401485609101e-06),\n",
       " (u'abundence', 0.0),\n",
       " (u'abuse', 4.4193058615940594e-05),\n",
       " (u'abused', 1.6034588761399652e-05),\n",
       " (u'abuser', 1.1566873765500519e-05),\n",
       " (u'abusers', 4.2869741311732439e-07),\n",
       " (u'abuses', 8.6665831299701613e-06),\n",
       " (u'abusing', 8.0071078161864238e-06),\n",
       " (u'abusive', 2.5832586472743849e-05),\n",
       " (u'abuzz', 0.0),\n",
       " (u'abysmal', 1.0367868085348549e-05),\n",
       " (u'abysmally', 3.7092737712022635e-06),\n",
       " (u'abyss', 4.894171179282133e-05),\n",
       " (u'abyssinian', 7.1492915052118308e-07),\n",
       " (u'ac', 0.0),\n",
       " (u'ac3', 5.1390692377274215e-06),\n",
       " (u'academe', 0.0),\n",
       " (u'academia', 0.0),\n",
       " (u'academic', 2.3327053970984459e-05),\n",
       " (u'academics', 1.3340832217396847e-06),\n",
       " (u'academy', 0.00021382947456693706),\n",
       " (u'accelerate', 1.5384180028108549e-06),\n",
       " (u'accelerated', 1.2825394983592844e-06),\n",
       " (u'accelerates', 0.0),\n",
       " (u'accelerating', 2.3004386352246282e-06),\n",
       " (u'acceleration', 0.0),\n",
       " (u'accelerator', 0.0),\n",
       " (u'accent', 0.0001822181742942074),\n",
       " (u'accented', 7.5747198884354061e-06),\n",
       " (u'accents', 2.2157902250378354e-05),\n",
       " (u'accentuate', 3.3754194874238714e-06),\n",
       " (u'accentuated', 0.0),\n",
       " (u'accentuates', 2.5157720516994333e-06),\n",
       " (u'accentuating', 2.5421958008622986e-06),\n",
       " (u'accept', 6.5380437614285074e-05),\n",
       " (u'acceptable', 4.8470609881491306e-05),\n",
       " (u'acceptance', 2.2025001927466802e-05),\n",
       " (u'accepted', 2.8600323202568916e-05),\n",
       " (u'accepting', 2.1001862284122744e-05),\n",
       " (u'acception', 0.0),\n",
       " (u'accepts', 2.9228944046602212e-05),\n",
       " (u'access', 2.4365651023259381e-05),\n",
       " (u'accessibility', 1.7372087257144726e-06),\n",
       " (u'accessible', 7.1325389569332101e-05),\n",
       " (u'accessorize', 0.0),\n",
       " (u'accessory', 2.5214252103859183e-06),\n",
       " (u'accident', 0.00012739859976725577),\n",
       " (u'accidental', 1.0771645146449517e-05),\n",
       " (u'accidentally', 0.00014292467950792806),\n",
       " (u'accidentlly', 0.0),\n",
       " (u'accidently', 7.1475832999779439e-07),\n",
       " (u'accidents', 1.4110518595027112e-05),\n",
       " (u'acclaim', 1.4603415859447603e-05),\n",
       " (u'acclaimed', 0.00013339309797171848),\n",
       " (u'acclimatize', 0.0),\n",
       " (u'accolade', 5.5477879949368683e-06),\n",
       " (u'accolades', 1.7019713178362395e-05),\n",
       " (u'accommodate', 0.0),\n",
       " (u'accommodates', 1.3185994918434385e-06),\n",
       " (u'accommodating', 2.9782199361893974e-06),\n",
       " (u'accommodations', 2.251165521796515e-06),\n",
       " (u'accomodates', 7.9370910697293729e-08),\n",
       " (u'accompanied', 3.452377429858185e-05),\n",
       " (u'accompanies', 1.9932524695097434e-05),\n",
       " (u'accompaniment', 9.7909948366160465e-06),\n",
       " (u'accompany', 2.8574490685712597e-05),\n",
       " (u'accompanying', 2.1775445545826088e-05),\n",
       " (u'accomplice', 3.690680222571351e-06),\n",
       " (u'accomplices', 6.457801918949129e-06),\n",
       " (u'accomplish', 5.179646213257076e-05),\n",
       " (u'accomplished', 6.9875782161828962e-05),\n",
       " (u'accomplishes', 2.6568623591421753e-05),\n",
       " (u'accomplishing', 5.7400972937651203e-06),\n",
       " (u'accomplishment', 5.6223615219280183e-05),\n",
       " (u'accomplishments', 1.2629432607793959e-05),\n",
       " (u'accord', 0.0),\n",
       " (u'accordance', 0.0),\n",
       " (u'according', 7.6291363881693595e-05),\n",
       " (u'accordingly', 1.6278423165960547e-05),\n",
       " (u'accordion', 4.2475038523958223e-06),\n",
       " (u'accost', 1.135731852996048e-06),\n",
       " (u'accosted', 2.0063874058721584e-06),\n",
       " (u'accosts', 0.0),\n",
       " (u'account', 3.4579935295581837e-05),\n",
       " (u'accountability', 0.0),\n",
       " (u'accountable', 2.0726435001626728e-06),\n",
       " (u'accountant', 1.0915251210494069e-05),\n",
       " (u'accountants', 0.0),\n",
       " (u'accounted', 7.4303352991877568e-07),\n",
       " (u'accounts', 7.1265149848052501e-06),\n",
       " (u'accumulate', 6.8446973102828536e-06),\n",
       " (u'accumulated', 3.7859073090382895e-06),\n",
       " (u'accumulation', 4.1735850708891766e-06),\n",
       " (u'accuracy', 2.5018712487689585e-05),\n",
       " (u'accurate', 5.8685164225371059e-05),\n",
       " (u'accurately', 1.8635270852501594e-05),\n",
       " (u'accursed', 7.2937303674115249e-06),\n",
       " (u'accusation', 1.1255434284093963e-05),\n",
       " (u'accusations', 1.3394606642500243e-06),\n",
       " (u'accuse', 6.2676773237770326e-06),\n",
       " (u'accused', 5.3965046181155433e-05),\n",
       " (u'accuser', 0.0),\n",
       " (u'accuses', 2.5918203735753601e-05),\n",
       " (u'accusing', 0.0),\n",
       " (u'accustomed', 8.9002408105877311e-06),\n",
       " (u'ace', 2.705942097821487e-05),\n",
       " (u'acerbic', 1.7911896860408678e-05),\n",
       " (u'acerbity', 7.1440380960934101e-08),\n",
       " (u'aces', 0.0),\n",
       " (u'ache', 0.0),\n",
       " (u'acheivement', 0.0),\n",
       " (u'acheives', 0.0),\n",
       " (u'aches', 0.0),\n",
       " (u'achievable', 0.0),\n",
       " (u'achieve', 7.2540139187839023e-05),\n",
       " (u'achieved', 7.9633762620851006e-05),\n",
       " (u'achieveing', 1.0301493046915207e-06),\n",
       " (u'achievement', 8.1707911294712972e-05),\n",
       " (u'achievements', 1.9723398576475926e-05),\n",
       " (u'achiever', 1.3999769003811443e-06),\n",
       " (u'achieves', 4.1147718152632134e-05),\n",
       " (u'achieving', 3.918595043752525e-05),\n",
       " (u'achilles', 0.0),\n",
       " (u'achin', 5.9850981560757054e-06),\n",
       " (u'achingly', 1.3177797808915497e-05),\n",
       " (u'achoo', 0.0),\n",
       " (u'acid', 3.1785356008332035e-05),\n",
       " (u'acidic', 0.0),\n",
       " (u'aciton', 1.86186571948599e-06),\n",
       " (u'ack', 0.0),\n",
       " (u'acking', 0.0),\n",
       " (u'ackland', 0.0),\n",
       " (u'acknowledge', 1.2915010992038999e-05),\n",
       " (u'acknowledgeable', 0.0),\n",
       " (u'acknowledged', 1.0221290446656286e-05),\n",
       " (u'acknowledgement', 0.0),\n",
       " (u'acknowledges', 4.1627552898791763e-06),\n",
       " (u'acknowledging', 6.3033359382129441e-06),\n",
       " (u'acknowledgment', 0.0),\n",
       " (u'acme', 7.5505208438705858e-06),\n",
       " (u'acne', 0.0),\n",
       " (u'acore', 0.0),\n",
       " (u'acquaintance', 4.4959963927557358e-06),\n",
       " (u'acquaintances', 1.2015822195493098e-05),\n",
       " (u'acquainted', 0.0),\n",
       " (u'acquaints', 1.3420316868592681e-06),\n",
       " (u'acquiescence', 0.0),\n",
       " (u'acquire', 3.3894292358523845e-06),\n",
       " (u'acquired', 5.0251255818725124e-06),\n",
       " (u'acquires', 0.0),\n",
       " (u'acquisition', 3.4883395295409121e-06),\n",
       " (u'acquit', 4.7183722151142657e-06),\n",
       " (u'acquits', 0.0),\n",
       " (u'acquittal', 4.9768804899658467e-06),\n",
       " (u'acquitted', 0.0),\n",
       " (u'acre', 0.0),\n",
       " (u'acres', 9.4549728007443147e-06),\n",
       " (u'acrimonious', 4.3980084373038291e-06),\n",
       " (u'acrimony', 0.0),\n",
       " (u'acrobat', 0.0),\n",
       " (u'acrobatic', 5.2555743754839726e-06),\n",
       " (u'acrobatics', 7.3859161293476776e-06),\n",
       " (u'acrobats', 1.0162933476905307e-06),\n",
       " (u'acronym', 0.0),\n",
       " (u'across', 0.00017921412557198621),\n",
       " (u'acrylic', 0.0),\n",
       " (u'act', 0.00019377237015367923),\n",
       " (u'acted', 8.5236461547491221e-05),\n",
       " (u'acting', 0.00049661712321134822),\n",
       " (u'action', 0.00080577404576083315),\n",
       " (u'actioner', 3.5172183755105637e-06),\n",
       " (u'actioners', 1.1702631344532892e-06),\n",
       " (u'actionfest', 0.0),\n",
       " (u'actionless', 0.0),\n",
       " (u'actions', 9.6926133571821721e-05),\n",
       " (u'activated', 3.6204058837791525e-06),\n",
       " (u'active', 1.7765814160528397e-05),\n",
       " (u'actively', 1.2520384802574105e-05),\n",
       " (u'activist', 0.0),\n",
       " (u'activists', 0.0),\n",
       " (u'activites', 0.0),\n",
       " (u'activities', 3.9509534719533514e-05),\n",
       " (u'activity', 3.3617797979500437e-05),\n",
       " (u'actor', 0.00030700426394037237),\n",
       " (u'actors', 0.00037279732724413052),\n",
       " (u'actosta', 0.0),\n",
       " (u'actress', 0.00018830906174832542),\n",
       " (u'actresses', 5.4976601173141267e-05),\n",
       " (u'acts', 7.6502593052435184e-05),\n",
       " (u'actual', 0.00010777560122770622),\n",
       " (u'actualisation', 0.0),\n",
       " (u'actuality', 1.7324928120683751e-05),\n",
       " (u'actualization', 4.0094735980898368e-06),\n",
       " (u'actualizing', 2.0290171769665019e-06),\n",
       " (u'actually', 0.00041654611838228499),\n",
       " (u'actualy', 1.7147091424617098e-06),\n",
       " (u'acuity', 0.0),\n",
       " (u'acumen', 3.7599996360500964e-06),\n",
       " (u'acupuncture', 7.4678312565653816e-06),\n",
       " (u'acute', 1.2412947733284742e-06),\n",
       " (u'acutely', 7.2546115232699379e-06),\n",
       " (u'ad', 8.4026904561157299e-05),\n",
       " ...]"
      ]
     },
     "execution_count": 103,
     "metadata": {},
     "output_type": "execute_result"
    }
   ],
   "source": [
    "sorted(zip(words, rf.feature_importances_), key: lambda x: x[1])"
   ]
  },
  {
   "cell_type": "code",
   "execution_count": null,
   "metadata": {
    "collapsed": true
   },
   "outputs": [],
   "source": []
  },
  {
   "cell_type": "code",
   "execution_count": 104,
   "metadata": {
    "collapsed": true
   },
   "outputs": [],
   "source": [
    "def logistic_reg(X_train, X_test, Y_train, **kwargs):\n",
    "    model_logistic = LogisticRegression(**kwargs)\n",
    "    model_logistic.fit(X_train, Y_train)\n",
    "    predicted = model_logistic.predict_proba(X_test)\n",
    "    return predicted, model_logistic\n",
    "\n",
    "def get_auc(Y_test, predicted):\n",
    "    fpr, tpr, _ = metrics.roc_curve(Y_test, predicted[:,1])\n",
    "    return metrics.auc(fpr, tpr)"
   ]
  },
  {
   "cell_type": "code",
   "execution_count": 105,
   "metadata": {
    "collapsed": false
   },
   "outputs": [
    {
     "data": {
      "image/png": "[encoded data removed]",
      "text/plain": [
       "<matplotlib.figure.Figure at 0x10cb6e910>"
      ]
     },
     "metadata": {},
     "output_type": "display_data"
    }
   ],
   "source": [
    "all_texts = texts\n",
    "\n",
    "auc_map = {}\n",
    "for i in xrange(500,30000,1000):\n",
    "    count_vect_top_temp = CountVectorizer(max_features=i)\n",
    "    matrix_counts_top_temp = count_vect_top_temp.fit_transform(all_texts).toarray()\n",
    "    X_train, X_test, Y_train, Y_test = cross_valid(matrix_counts_top_temp, target)\n",
    "    logreg_count_top_temp_predicted, _ = logistic_reg(X_train, X_test, Y_train, penalty='l1', C=1024)\n",
    "    auc_map[i] = get_auc(Y_test, logreg_count_top_temp_predicted)\n",
    "    \n",
    "auc_map2 = {}\n",
    "for i in xrange(500,30000,1000):\n",
    "    count_vect_top_temp = CountVectorizer(max_features=i)\n",
    "    matrix_counts_top_temp = count_vect_top_temp.fit_transform(all_texts).toarray()\n",
    "    X_train, X_test, Y_train, Y_test = cross_valid(matrix_counts_top_temp, target)\n",
    "    logreg_count_top_temp_predicted, _ = logistic_reg(X_train, X_test, Y_train, C=0.02915728098552524)\n",
    "    auc_map2[i] = get_auc(Y_test, logreg_count_top_temp_predicted)\n",
    "    \n",
    "plot.plot(auc_map2.keys(), auc_map2.values(), '.', label='Logistic Regression (L2-regularization)')\n",
    "plot.plot(auc_map.keys(), auc_map.values(), '.', label='Logistic Regression (L1-regularization)')\n",
    "plot.xlabel('Number of features'); plot.ylabel('AUC'); \n",
    "plot.legend(loc=0);"
   ]
  },
  {
   "cell_type": "code",
   "execution_count": null,
   "metadata": {
    "collapsed": true
   },
   "outputs": [],
   "source": []
  },
  {
   "cell_type": "code",
   "execution_count": 107,
   "metadata": {
    "collapsed": false
   },
   "outputs": [],
   "source": [
    "from sklearn.svm import SVC\n",
    "svc = SVC(probability=True, kernel='linear')\n",
    "svc.fit(X_train, y_train)\n",
    "y_hat_svc = svc.predict_proba(X_test)"
   ]
  },
  {
   "cell_type": "code",
   "execution_count": 110,
   "metadata": {
    "collapsed": false
   },
   "outputs": [
    {
     "name": "stdout",
     "output_type": "stream",
     "text": [
      "Logistic Regression ( SVC ) AUC =  0.536560155599\n"
     ]
    },
    {
     "data": {
      "image/png": "[encoded data removed]",
      "text/plain": [
       "<matplotlib.figure.Figure at 0x143a3f910>"
      ]
     },
     "metadata": {},
     "output_type": "display_data"
    }
   ],
   "source": [
    "roc_curve('', y_test, y_hat_svc, 'SVC')"
   ]
  },
  {
   "cell_type": "code",
   "execution_count": null,
   "metadata": {
    "collapsed": true
   },
   "outputs": [],
   "source": []
  },
  {
   "cell_type": "code",
   "execution_count": null,
   "metadata": {
    "collapsed": true
   },
   "outputs": [],
   "source": []
  },
  {
   "cell_type": "code",
   "execution_count": null,
   "metadata": {
    "collapsed": true
   },
   "outputs": [],
   "source": []
  },
  {
   "cell_type": "code",
   "execution_count": null,
   "metadata": {
    "collapsed": true
   },
   "outputs": [],
   "source": []
  },
  {
   "cell_type": "code",
   "execution_count": null,
   "metadata": {
    "collapsed": true
   },
   "outputs": [],
   "source": []
  },
  {
   "cell_type": "code",
   "execution_count": null,
   "metadata": {
    "collapsed": true
   },
   "outputs": [],
   "source": []
  },
  {
   "cell_type": "code",
   "execution_count": null,
   "metadata": {
    "collapsed": true
   },
   "outputs": [],
   "source": []
  },
  {
   "cell_type": "code",
   "execution_count": null,
   "metadata": {
    "collapsed": true
   },
   "outputs": [],
   "source": []
  },
  {
   "cell_type": "code",
   "execution_count": null,
   "metadata": {
    "collapsed": true
   },
   "outputs": [],
   "source": []
  },
  {
   "cell_type": "code",
   "execution_count": null,
   "metadata": {
    "collapsed": true
   },
   "outputs": [],
   "source": []
  },
  {
   "cell_type": "code",
   "execution_count": null,
   "metadata": {
    "collapsed": true
   },
   "outputs": [],
   "source": []
  },
  {
   "cell_type": "code",
   "execution_count": null,
   "metadata": {
    "collapsed": true
   },
   "outputs": [],
   "source": []
  },
  {
   "cell_type": "code",
   "execution_count": null,
   "metadata": {
    "collapsed": true
   },
   "outputs": [],
   "source": []
  },
  {
   "cell_type": "code",
   "execution_count": null,
   "metadata": {
    "collapsed": true
   },
   "outputs": [],
   "source": []
  },
  {
   "cell_type": "code",
   "execution_count": null,
   "metadata": {
    "collapsed": true
   },
   "outputs": [],
   "source": []
  },
  {
   "cell_type": "code",
   "execution_count": null,
   "metadata": {
    "collapsed": true
   },
   "outputs": [],
   "source": []
  },
  {
   "cell_type": "code",
   "execution_count": null,
   "metadata": {
    "collapsed": true
   },
   "outputs": [],
   "source": []
  },
  {
   "cell_type": "code",
   "execution_count": null,
   "metadata": {
    "collapsed": true
   },
   "outputs": [],
   "source": []
  },
  {
   "cell_type": "code",
   "execution_count": null,
   "metadata": {
    "collapsed": true
   },
   "outputs": [],
   "source": []
  },
  {
   "cell_type": "code",
   "execution_count": null,
   "metadata": {
    "collapsed": true
   },
   "outputs": [],
   "source": []
  },
  {
   "cell_type": "code",
   "execution_count": null,
   "metadata": {
    "collapsed": true
   },
   "outputs": [],
   "source": []
  },
  {
   "cell_type": "code",
   "execution_count": 58,
   "metadata": {
    "collapsed": true
   },
   "outputs": [],
   "source": [
    "?LogisticRegression"
   ]
  },
  {
   "cell_type": "code",
   "execution_count": null,
   "metadata": {
    "collapsed": true
   },
   "outputs": [],
   "source": []
  },
  {
   "cell_type": "code",
   "execution_count": null,
   "metadata": {
    "collapsed": true
   },
   "outputs": [],
   "source": []
  },
  {
   "cell_type": "code",
   "execution_count": null,
   "metadata": {
    "collapsed": true
   },
   "outputs": [],
   "source": []
  },
  {
   "cell_type": "code",
   "execution_count": null,
   "metadata": {
    "collapsed": true
   },
   "outputs": [],
   "source": []
  },
  {
   "cell_type": "code",
   "execution_count": null,
   "metadata": {
    "collapsed": true
   },
   "outputs": [],
   "source": []
  },
  {
   "cell_type": "code",
   "execution_count": null,
   "metadata": {
    "collapsed": true
   },
   "outputs": [],
   "source": []
  },
  {
   "cell_type": "code",
   "execution_count": null,
   "metadata": {
    "collapsed": true
   },
   "outputs": [],
   "source": []
  },
  {
   "cell_type": "code",
   "execution_count": 48,
   "metadata": {
    "collapsed": false
   },
   "outputs": [
    {
     "ename": "TypeError",
     "evalue": "'module' object is not callable",
     "output_type": "error",
     "traceback": [
      "\u001b[0;31m---------------------------------------------------------------------------\u001b[0m",
      "\u001b[0;31mTypeError\u001b[0m                                 Traceback (most recent call last)",
      "\u001b[0;32m<ipython-input-48-64ee360e0bfd>\u001b[0m in \u001b[0;36m<module>\u001b[0;34m()\u001b[0m\n\u001b[0;32m----> 1\u001b[0;31m \u001b[0mplot\u001b[0m\u001b[0;34m(\u001b[0m\u001b[0mprecision\u001b[0m\u001b[0;34m,\u001b[0m \u001b[0mrecall\u001b[0m\u001b[0;34m)\u001b[0m\u001b[0;34m\u001b[0m\u001b[0m\n\u001b[0m",
      "\u001b[0;31mTypeError\u001b[0m: 'module' object is not callable"
     ]
    }
   ],
   "source": []
  },
  {
   "cell_type": "code",
   "execution_count": null,
   "metadata": {
    "collapsed": true
   },
   "outputs": [],
   "source": []
  },
  {
   "cell_type": "code",
   "execution_count": null,
   "metadata": {
    "collapsed": true
   },
   "outputs": [],
   "source": []
  },
  {
   "cell_type": "code",
   "execution_count": null,
   "metadata": {
    "collapsed": true
   },
   "outputs": [],
   "source": []
  },
  {
   "cell_type": "code",
   "execution_count": null,
   "metadata": {
    "collapsed": true
   },
   "outputs": [],
   "source": []
  },
  {
   "cell_type": "code",
   "execution_count": null,
   "metadata": {
    "collapsed": true
   },
   "outputs": [],
   "source": []
  },
  {
   "cell_type": "code",
   "execution_count": null,
   "metadata": {
    "collapsed": true
   },
   "outputs": [],
   "source": []
  },
  {
   "cell_type": "code",
   "execution_count": null,
   "metadata": {
    "collapsed": true
   },
   "outputs": [],
   "source": []
  },
  {
   "cell_type": "code",
   "execution_count": 33,
   "metadata": {
    "collapsed": false
   },
   "outputs": [],
   "source": []
  },
  {
   "cell_type": "code",
   "execution_count": null,
   "metadata": {
    "collapsed": true
   },
   "outputs": [],
   "source": []
  },
  {
   "cell_type": "code",
   "execution_count": 35,
   "metadata": {
    "collapsed": true
   },
   "outputs": [],
   "source": []
  },
  {
   "cell_type": "code",
   "execution_count": null,
   "metadata": {
    "collapsed": true
   },
   "outputs": [],
   "source": []
  },
  {
   "cell_type": "code",
   "execution_count": null,
   "metadata": {
    "collapsed": true
   },
   "outputs": [],
   "source": []
  },
  {
   "cell_type": "code",
   "execution_count": null,
   "metadata": {
    "collapsed": true
   },
   "outputs": [],
   "source": []
  },
  {
   "cell_type": "code",
   "execution_count": null,
   "metadata": {
    "collapsed": true
   },
   "outputs": [],
   "source": []
  },
  {
   "cell_type": "code",
   "execution_count": null,
   "metadata": {
    "collapsed": true
   },
   "outputs": [],
   "source": []
  },
  {
   "cell_type": "code",
   "execution_count": null,
   "metadata": {
    "collapsed": true
   },
   "outputs": [],
   "source": []
  },
  {
   "cell_type": "code",
   "execution_count": null,
   "metadata": {
    "collapsed": true
   },
   "outputs": [],
   "source": []
  },
  {
   "cell_type": "code",
   "execution_count": null,
   "metadata": {
    "collapsed": true
   },
   "outputs": [],
   "source": []
  },
  {
   "cell_type": "code",
   "execution_count": null,
   "metadata": {
    "collapsed": true
   },
   "outputs": [],
   "source": []
  },
  {
   "cell_type": "code",
   "execution_count": null,
   "metadata": {
    "collapsed": true
   },
   "outputs": [],
   "source": []
  },
  {
   "cell_type": "code",
   "execution_count": null,
   "metadata": {
    "collapsed": true
   },
   "outputs": [],
   "source": []
  },
  {
   "cell_type": "code",
   "execution_count": null,
   "metadata": {
    "collapsed": true
   },
   "outputs": [],
   "source": []
  },
  {
   "cell_type": "code",
   "execution_count": null,
   "metadata": {
    "collapsed": true
   },
   "outputs": [],
   "source": []
  },
  {
   "cell_type": "code",
   "execution_count": null,
   "metadata": {
    "collapsed": true
   },
   "outputs": [],
   "source": []
  },
  {
   "cell_type": "code",
   "execution_count": null,
   "metadata": {
    "collapsed": true
   },
   "outputs": [],
   "source": []
  },
  {
   "cell_type": "code",
   "execution_count": null,
   "metadata": {
    "collapsed": true
   },
   "outputs": [],
   "source": []
  },
  {
   "cell_type": "code",
   "execution_count": null,
   "metadata": {
    "collapsed": true
   },
   "outputs": [],
   "source": []
  },
  {
   "cell_type": "code",
   "execution_count": null,
   "metadata": {
    "collapsed": true
   },
   "outputs": [],
   "source": []
  }
 ],
 "metadata": {
  "kernelspec": {
   "display_name": "Python 2",
   "language": "python",
   "name": "python2"
  },
  "language_info": {
   "codemirror_mode": {
    "name": "ipython",
    "version": 2
   },
   "file_extension": ".py",
   "mimetype": "text/x-python",
   "name": "python",
   "nbconvert_exporter": "python",
   "pygments_lexer": "ipython2",
   "version": "2.7.11"
  }
 },
 "nbformat": 4,
 "nbformat_minor": 0
}
