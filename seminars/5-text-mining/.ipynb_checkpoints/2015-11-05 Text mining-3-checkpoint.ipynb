{
 "cells": [
  {
   "cell_type": "code",
   "execution_count": 1,
   "metadata": {
    "collapsed": true
   },
   "outputs": [],
   "source": [
    "import requests"
   ]
  },
  {
   "cell_type": "code",
   "execution_count": 3,
   "metadata": {
    "collapsed": false
   },
   "outputs": [],
   "source": [
    "response = requests.get('http://yandex.ru')"
   ]
  },
  {
   "cell_type": "code",
   "execution_count": 5,
   "metadata": {
    "collapsed": false
   },
   "outputs": [
    {
     "data": {
      "text/plain": [
       "u'<!DOCTYPE html><html class=\"i-ua_js_no i-ua_css_standart i-ua_browser_unknown i-ua_pseudo_yes\" lang=\"ru\"><head xmlns:og=\"http://ogp.me/ns#\"><meta http-equiv=\"X-UA-Compatible\" content=\"IE=edge\"><title>\\u042f\\u043d\\u0434\\u0435\\u043a\\u0441</title><meta http-equiv=Content-Type content=\"text/html;charset=UTF-8\"><link rel=\"apple-touch-icon\" href=\"//yastatic.net/morda-logo/i/apple-touch-icon/ru-76x76.png\" sizes=\"76x76\"><link rel=\"apple-touch-icon\" href=\"//yastatic.net/morda-logo/i/apple-touch-icon/ru-120x120.png\" sizes=\"120x120\"><link rel=\"apple-touch-icon\" href=\"//yastatic.net/morda-logo/i/apple-touch-icon/ru-152x152.png\" sizes=\"152x152\"><link rel=\"apple-touch-icon\" href=\"//yastatic.net/morda-logo/i/apple-touch-icon/ru-180x180.png\" sizes=\"180x180\"><link rel=\"alternate\" type=\"application/rss+xml\" title=\"\\u041d\\u043e\\u0432\\u043e\\u0441\\u0442\\u0438 \\u042f\\u043d\\u0434\\u0435\\u043a\\u0441\\u0430\" href=\"//company.yandex.ru/news/news.rss\"><link rel=\"alternate\" type=\"application/rss+xml\" title=\"\\u0411\\u043b\\u043e\\u0433 \\u042f\\u043d\\u0434\\u0435\\u043a\\u0441\\u0430\" href=\"//company.yandex.ru/blog/index.rss\"><link rel=\"search\" href=\"//yandex.ru/opensearch.xml\" title=\"\\u042f\\u043d\\u0434\\u0435\\u043a\\u0441\" type=\"application/opensearchdescription+xml\"><link rel=\"shortcut icon\" href=\"//yastatic.net/morda-logo/i/favicon_islands.ico\"><meta property=\"og:title\" content=\"\\u042f\\u043d\\u0434\\u0435\\u043a\\u0441\"><meta property=\"og:type\" content=\"website\"><meta property=\"og:image\" content=\"//yastatic.net/morda-logo/i/share-logo-ru.png\"><meta property=\"og:site_name\" content=\"\\u042f\\u043d\\u0434\\u0435\\u043a\\u0441\"><meta property=\"og:locale\" content=\"ru_RU\"><meta property=\"og:description\" content=\"\\u041d\\u0430\\u0439\\u0434\\u0451\\u0442\\u0441\\u044f \\u0432\\u0441\\u0451\"><meta property=\"og:locale:alternate\" content=\"be_BY\"><meta property=\"og:locale:alternate\" content=\"kk_KZ\"><meta property=\"og:locale:alternate\" content=\"tt_RU\"><meta property=\"og:locale:alternate\" content=\"uk_UA\"><meta name=\"yamm\" content=\"p\"><script>function Detector(){\"use strict\";var e=\"detector\",t=document.documentElement;return{isPlaceholderSupported:function(){return\"placeholder\"in document.createElement(\"input\")},getCSS3TransformProperty:function(){for(var e=document.documentElement.style,t=[\"transform\",\"MozTransform\",\"MsTransform\",\"msTransform\",\"WebkitTransform\",\"OTransform\"],n=\"\",i=0,r=t.length;r>i;++i)if(void 0!==e[t[i]]){n=t[i];break}return this.getCSS3TransformProperty=function(){return n},n},checkDataURLSupport:function(e){var t=new Image;t.onload=t.onerror=function(){e(1===this.width&&1===this.height)},t.src=\"data:image/gif;base64,R0lGODlhAQABAIAAAAAAAP///ywAAAAAAQABAAACAUwAOw==\"},isActivexEnabled:function(){var e=!1;try{e=!!new window.ActiveXObject(\"htmlfile\")}catch(t){e=!1}return e},isWin64:function(){return window.navigator&&\"Win64\"===window.navigator.platform},isFullScreen:function(){return window.innerWidth&&window.screen&&window.screen.width&&window.screen.height&&window.innerHeight&&window.innerWidth===screen.width&&window.innerHeight===screen.height},isIEMetroMode:function(){return this.isFullScreen()&&this.isWin64()&&!this.isActivexEnabled()},isSVGSupported:function(){if(\"opera\"in window)return!1;var e=document.createElement(\"svg\");return e.innerHTML=\"<svg/>\",e.firstChild&&\"http://www.w3.org/2000/svg\"===e.firstChild.namespaceURI},injectElementWithStyles:function(n,i,r,o){var a,d,s,u,l=document.createElement(\"div\"),c=document.body,m=c||document.createElement(\"body\");if(parseInt(r,10))for(;r--;)s=document.createElement(\"div\"),s.id=o?o[r]:e+(r+1),l.appendChild(s);return a=[\"&#173;\",\\'<style id=\"s\\',e,\\'\">\\',n,\"</style>\"].join(\"\"),l.id=e,(c?l:m).innerHTML+=a,m.appendChild(l),c||(m.style.background=\"\",m.style.overflow=\"hidden\",u=t.style.overflow,t.style.overflow=\"hidden\",t.appendChild(m)),d=i(l,n),c?l.parentNode.removeChild(l):(m.parentNode.removeChild(m),t.style.overflow=u),!!d},isMQuerySupported:function(t){var n=window.matchMedia||window.msMatchMedia,i=!1;return n?i=n(t).matches:this.injectElementWithStyles(\"@media \"+t+\" { #\"+e+\" { position: absolute; } }\",function(e){i=\"absolute\"===(window.getComputedStyle?getComputedStyle(e,null):e.currentStyle).position}),i},isInlineBlockSupported:function(){var e,t=$(\\'<span style=\"display:none\"><div style=\"width:100px;display:inline-block\"></div><div style=\"width:100px;display:inline-block\"></div></span>\\');return $(\"body\").append(t),e=t.width()>100,t.remove(),e},isTransparentPNGSupported:function(){var e=navigator.userAgent.match(/MSIE (\\\\d+)/);return e&&e[1]?(e=parseFloat(e[1]),\"Microsoft Internet Explorer\"!==navigator.appName||e>6):!0},isAnimationSupported:function(){if(\"opera\"in window)return!1;for(var e=document.documentElement.style,t=[\"animationName\",\"webkitAnimationName\"],n=0,i=t.length;i>n;n++)if(void 0!==e[t[n]])return!0}}}function myMap(){this.rules={},this.rulesData=[]}myMap.prototype={add:function(e){return e=e||null,e&&!this.rules[e]&&(this.rulesData.push(e),this.rules[e]=this.rulesData.length-1),this},get:function(e){var t=this.rules[e];return t&&this.rulesData[t]||null},getAll:function(){return this.rulesData.join(\" \")}};var detector=new Detector;!function(){var e,t=new myMap;t.add(\"js\").add(\"i-ua_placeholder_\"+(detector.isPlaceholderSupported()?\"yes\":\"no\")).add(detector.isIEMetroMode()&&\"m-ie10-metro\").add(detector.isSVGSupported()?\"i-ua_inlinesvg_yes m-svg\":\"i-ua_inlinesvg_no no-data-url\").add(detector.isAnimationSupported()&&\"i-ua_animation_yes\").add(this.device&&\"m-touch\"),detector.checkDataURLSupport(function(e){e||(document.documentElement.className+=\" no-data-url\")}),this.document&&this.document.documentElement&&(e=this.document.documentElement,e.className=e.className.replace(\"i-ua_js_no\",\"i-ua_js_yes\")+\" \"+t.getAll())}();</script><link rel=\"stylesheet\" href=\"//yastatic.net/www/_/r/L/qqtbv_xyXrnIpiZheJMGM1Eq4.css\"></head><body class=\"b-page i-ua i-ua_interaction_yes i-bem b-page_noskin css3-transition-off\" ondblclick=\"return {\\'i-ua\\':{}}\"><div class=\"b-line b-line_bar has_sethome has_promo-disk lifting\" role=\"complementary\"><table class=\"b-table b-line_bar__table\"><tr class=\"b-table__row\"><td class=\"b-table__cell b-line_bar__cell\"><div class=\"b-head\"><div class=\"b-inline b-head-item b-top-bar__item b-top-bar__item_has_home\"><div class=\"b-sethome i-bem i-hidden b-sethome_type_common\" onclick=\\'return {\"b-sethome\":{&quot;statPath&quot;:&quot;head.sethome.all.other&quot;}}\\'><a href=\"http://home.yandex.ru/?from=prov_main\" class=\"b-link b-sethome__icon b-sethome__link\" title=\"\\u0421\\u0434\\u0435\\u043b\\u0430\\u0442\\u044c&nbsp;\\u042f\\u043d\\u0434\\u0435\\u043a\\u0441&nbsp;\\u0441\\u0442\\u0430\\u0440\\u0442\\u043e\\u0432\\u043e\\u0439&nbsp;\\u0441\\u0442\\u0440\\u0430\\u043d\\u0438\\u0446\\u0435\\u0439\"></a><span class=\\'b-sethome__text\\'>\\u0421\\u0434\\u0435\\u043b\\u0430\\u0442\\u044c \\u042f\\u043d\\u0434\\u0435\\u043a\\u0441 <a href=\"http://home.yandex.ru/?from=prov_main\" class=\"b-link  b-sethome__link\" aria-hidden=\"true\" tabindex=\"-1\" title=\"\\u0421\\u0434\\u0435\\u043b\\u0430\\u0442\\u044c&nbsp;\\u042f\\u043d\\u0434\\u0435\\u043a\\u0441&nbsp;\\u0441\\u0442\\u0430\\u0440\\u0442\\u043e\\u0432\\u043e\\u0439&nbsp;\\u0441\\u0442\\u0440\\u0430\\u043d\\u0438\\u0446\\u0435\\u0439\">\\u0441\\u0442\\u0430\\u0440\\u0442\\u043e\\u0432\\u043e\\u0439 \\u0441\\u0442\\u0440\\u0430\\u043d\\u0438\\u0446\\u0435\\u0439</a><span class=\"b-link b-link_inner_yes b-link_pseudo_yes  b-sethome__close\"><span class=\"b-link__inner\">\\xd7</span></span></span></div></div></div></td><td class=\"b-table__cell b-line_bar__cell b-line_bar__cell2 header_table_close\"><div class=\"b-head\"><div class=\"b-inline b-head-item b-top-bar__item \"><a href=\"https://disk.yandex.ru/?auth&source=main-nonlogin\" class=\"b-link \">10 \\u0413\\u0411 \\u043d\\u0430 \\u0414\\u0438\\u0441\\u043a\\u0435</a></div><div class=\"b-inline b-head-item b-top-bar__item b-top-bar__item_has_promo\"><div class=\"b-inline themes-promo themes-promo_state_hidden i-bem\" onclick=\\'return {\"themes-promo\":{\"promos\":[{\"show_url\":\"http://yabs.yandex.ru/count/LYb8h36mywK40WW0gOA0ZhD0k6C5KP6yq4ba1fDKhlpgesKUeyqZ1S7__________mz-1000=WwGN7AcYW00WbGUR0MvbEG6AlMzlYWEbfins0uYtGGGB1wQ52P2W7mBUiG6oe0000hxNGGGBvm1Wql__________3zF__________mzv2G00\",\"special\":\"sw-kyloren\",\"close_url\":\"http://yabs.yandex.ru/count/814/1890599959\",\"themes\":\"kyloren\",\"text\":\"\\u041f\\u0440\\u043e\\u0431\\u0443\\u0436\\u0434\\u0435\\u043d\\u0438\\u0435 \\u0441\\u0438\\u043b\\u044b\",\"counter\":\"sw_kyloren\",\"default\":\"kyloren\"}]}}\\'><style>.themes-promo_special_sw-kyloren{min-width:213px;border:none;line-height:28px;font-weight:700}.themes-promo_special_sw-kyloren .themes-promo__link{color:#fff!important;display:inline-block;width:100%;padding:0 22px 0 10px;margin:0;box-sizing:border-box}.themes-promo_special_sw-kyloren .themes-promo__link:hover{color:#ffc22e!important}.b-page .themes-promo.themes-promo_special_sw-kyloren .themes-promo__wrapper-link{display:block}.b-page .themes-promo.themes-promo_special_sw-kyloren .b-link.themes-promo__close{color:#fff;font-size:18px;vertical-align:middle;margin-right:7px;width:15px;display:inline-block;text-align:right}.themes-promo_special_sw-kyloren{background:#2D1215 url(\"//yastatic.net/www/_/Z/N/uuJIg7YbkJxnjtt6Ss5YFjrTE.png\") no-repeat 0 50%}.b-page .themes-promo.themes-promo_special_sw-kyloren .b-link.themes-promo__close:hover{color:#ffc22e}.themes-promo_special_sw-kyloren .themes-promo__arrow{border-left-color:#2D1215}</style><span class=\"themes-promo__wrapper-close\"></span><span class=\"themes-promo__wrapper-link\"></span><i class=\"themes-promo__arrow themes-promo__arrow_grey\"></i><i class=\"themes-promo__arrow\"></i></div></div><div class=\"b-inline b-head-item b-top-bar__item b-top-bar__item_has_settings\"><div class=\"dropdown-menu  dropdown i-bem\" data-bem=\"{&quot;dropdown-menu&quot;:{}}\"><div class=\"header header_type_settings i-bem\" ondblclick=\"return {\\'header\\':{}}\"><a href=\"//tune.yandex.ru\" role=\"button\" aria-pressed=\"false\" aria-expanded=\"false\" aria-haspopup=\"true\" aria-label=\"\\u041d\\u0430\\u0441\\u0442\\u0440\\u043e\\u0439\\u043a\\u0430\" title=\"\\u041d\\u0430\\u0441\\u0442\\u0440\\u043e\\u0439\\u043a\\u0430\" class=\"dropdown-menu__opener header__action header__action_type_settings header__action_behaviour_shy\"><i class=\"header__action-i\"></i></a></div><div class=\"i-bem popup dropdown-menu__popup dropdown-menu__popup_list_yes dropdown__popup popup_domik_trigger popup_head-options_yes popup_theme_ffffff popup_autoclosable_yes popup_adaptive_yes popup_animate_yes\" data-bem=\"{&quot;popup&quot;:{&quot;directions&quot;:&quot;bottom&quot;,&quot;disableoutside&quot;:&quot;yes&quot;}}\" role=\"menu\"><div class=\"popup__under\"></div><i class=\"popup__tail\"></i><div class=\"popup__content\"><div class=\"b-menu-vert\"><ul class=\"b-menu__list b-menu-vert__layout\"><li class=\"b-menu__item b-menu__item_pos_first\"><a href=\"http://www.yandex.ru/themes\" class=\"b-link \" tabindex=\"-1\" role=\"menuitem\" target=\"_self\">\\u041f\\u043e\\u0441\\u0442\\u0430\\u0432\\u0438\\u0442\\u044c \\u0442\\u0435\\u043c\\u0443</a></li><li class=\"b-menu__item\"><a href=\"http://www.yandex.ru/?edit=1\" class=\"b-link \" tabindex=\"-1\" role=\"menuitem\" target=\"_self\">\\u041d\\u0430\\u0441\\u0442\\u0440\\u043e\\u0438\\u0442\\u044c \\u042f\\u043d\\u0434\\u0435\\u043a\\u0441</a></li><li class=\"b-menu__item\"><a href=\"//widgets.yandex.ru?consumer=www\" class=\"b-link \" tabindex=\"-1\" role=\"menuitem\" target=\"_self\">\\u0414\\u043e\\u0431\\u0430\\u0432\\u0438\\u0442\\u044c \\u0432\\u0438\\u0434\\u0436\\u0435\\u0442</a></li><li class=\"b-menu__item\"><div class=\"b-menu__separator\"></div></li><li class=\"b-menu__item\"><a href=\"//tune.yandex.ru/region/?retpath=http%3A%2F%2Fwww.yandex.ru%2F%3Fdomredir%3D1\" class=\"b-link i-counter-toggler\" tabindex=\"-1\" role=\"menuitem\" target=\"_self\">\\u0418\\u0437\\u043c\\u0435\\u043d\\u0438\\u0442\\u044c \\u0433\\u043e\\u0440\\u043e\\u0434</a></li><li class=\"b-menu__item b-menu__item_pos_last\"><a href=\"//tune.yandex.ru/?retpath=http%3A%2F%2Fwww.yandex.ru%2F%3Fdomredir%3D1\" class=\"b-link \" tabindex=\"-1\" role=\"menuitem\" target=\"_self\">\\u0414\\u0440\\u0443\\u0433\\u0438\\u0435 \\u043d\\u0430\\u0441\\u0442\\u0440\\u043e\\u0439\\u043a\\u0438</a></li></ul></div></div></div></div></div><div class=\"b-inline b-head-item b-top-bar__item b-top-bar__item_bar\"><div class=\"b-topbar i-bem b-topbar_update_auto b-topbar_expanded_yes\" data-bem=\"{&quot;b-topbar&quot;:{&quot;open&quot;:&quot;http://www.yandex.ru/y/?retdom=ru&sk=y69d31142960d75836bd97aaf5ce0bfa5&empty=1&mv=0&quot;,&quot;close&quot;:&quot;http://www.yandex.ru/y/?retdom=ru&sk=y69d31142960d75836bd97aaf5ce0bfa5&empty=1&mv=1&quot;,&quot;words&quot;:[&quot;\\u043d\\u043e\\u0432\\u043e\\u0435 \\u043f\\u0438\\u0441\\u044c\\u043c\\u043e&quot;,&quot;\\u043d\\u043e\\u0432\\u044b\\u0445 \\u043f\\u0438\\u0441\\u044c\\u043c\\u0430&quot;,&quot;\\u043d\\u043e\\u0432\\u044b\\u0445 \\u043f\\u0438\\u0441\\u0435\\u043c&quot;,&quot;\\u041d\\u043e\\u0432\\u044b\\u0445 \\u043f\\u0438\\u0441\\u0435\\u043c \\u043d\\u0435\\u0442&quot;]}}\"><div class=\"b-inline b-topbar__body\"><a href=\"https://mail.yandex.ru\" class=\"b-link b-topbar__login b-topbar__title\">\\u041f\\u043e\\u0447\\u0442\\u0430</a><span class=\"b-link b-link_inner_yes b-link_pseudo_yes b-topbar__toggler\" title=\"\\u0440\\u0430\\u0437\\u0432\\u0435\\u0440\\u043d\\u0443\\u0442\\u044c\"><img class=\"b-icon b-ico-arrow_down\" src=\"//yastatic.net/lego/_/La6qi18Z8LwgnZdsAr1qy1GwCwo.gif\"/><span class=\"b-link__inner\"></span></span></div></div></div><div class=\"b-inline b-head-item b-top-bar__item b-top-bar__item_login-button\"><a class=\"user i-bem\" href=\"https://mail.yandex.ru\" tabindex=\"-1\" onclick=\"return {\\'user\\':{uid:\\'0\\',domikMods:{logo:\\'ru\\'}}}\"><button class=\"button user__enter2 button_pseudo_yes button_size_m button_theme_pseudo i-bem\" data-bem=\"{&quot;button&quot;:{}}\" role=\"button\" type=\"button\"><span class=\"button__text\"><img class=\"image button__icon\" src=\"//yastatic.net/lego/_/La6qi18Z8LwgnZdsAr1qy1GwCwo.gif\"/>\\u0412\\u043e\\u0439\\u0442\\u0438</span></button></a></div></div></td></tr></table></div><div role=\"main\"><div class=\"b-line b-line_head l-widgets  \"><table class=\"b-table widgets-table\"><tr class=\"b-table__row widgets-headline widgets-line\"><td class=\" b-inline_widget l-widgets-holder b-inline_news\" id=\"widgets-1-0\"><div class=\"b-wrapper b-wrapper-topnewsblogs\"><div class=\"b-news\" role=\"complementary\" aria-label=\"\\u041d\\u043e\\u0432\\u043e\\u0441\\u0442\\u0438\"><h2 class=\"a11y-hidden\">\\u041d\\u043e\\u0432\\u043e\\u0441\\u0442\\u0438</h2><div class=\"b-tabs i-bem\" data-message=\"news\" ondblclick=\"return {\\'b-tabs\\':{\\'message\\':\\'news\\'}}\"><div class=\"b-tabs__head b-tabs__head_2\"><div class=\"b-tabs__names\" role=\"tablist\"><a href=\"https://news.yandex.ru/?lang=ru\" class=\"b-link b-inline b-tabs__tab b-tabs__tab_active_yes\" name=\"tab0\" data-stat=\"\" data-cookie=\"\" data-id=\"tabs07772019715048373_0\" role=\"tab\" id=\"tab-tabs07772019715048373_0\" aria-controls=\"tabs07772019715048373_0\" aria-selected=\"true\" tabindex=\"0\">\\u041d\\u043e\\u0432\\u043e\\u0441\\u0442\\u0438</a><a href=\"https://news.yandex.ru/USA\" class=\"b-link b-inline b-tabs__tab b-tabs__tab_active_no\" name=\"tab1\" data-stat=\"\" data-cookie=\"\" data-id=\"tabs07772019715048373_1\" role=\"tab\" id=\"tab-tabs07772019715048373_1\" aria-controls=\"tabs07772019715048373_1\" aria-selected=\"false\" tabindex=\"-1\">\\u0432 \\u0421\\u0428\\u0410</a></div><div class=\"b-tabs__last b-inline\"><span class=\"datetime i-bem\" data-bem=\"{&quot;datetime&quot;:{&quot;timestamp&quot;:&quot;November 05, 2015, 11:29:55&quot;}}\"><span class=\"datetime__date\"><span class=\"datetime__day\">5 </span><span class=\"datetime__month\">\\u043d\\u043e\\u044f\\u0431\\u0440\\u044f, </span><span class=\"datetime__wday\">\\u0447\\u0435\\u0442\\u0432\\u0435\\u0440\\u0433 </span></span><span class=\"datetime__time\"><a href=\"https://time.yandex.ru\" class=\"b-link datetime__time-link b-link_gray\"><span class=\"datetime__hour\">11</span><span class=\"datetime__flicker\">:</span><span class=\"datetime__min\">29</span></a></span></span></div></div><div class=\"b-tabs__items\"><div id=\"tabs07772019715048373_0\" class=\"b-tabs__block\" role=\"tabpanel\" aria-labelledby=\"tab-tabs07772019715048373_0\" aria-expanded=\"true\"><ul class=\"b-news-list\"><li class=\"b-news-list__item\"><span class=\"b-news-list__item_num\" aria-hidden=\"true\">1.</span><a href=\"https://news.yandex.ru/yandsearch?cl4url=www.aif.ru/society/law/mak_otozval_sertifikat_tipa_u_neskolkih_modifikaciy_boeing-737&lang=ru&lr=87\" class=\"b-link b-link_type_colored\">\\u041c\\u0410\\u041a \\u043e\\u0442\\u043e\\u0437\\u0432\\u0430\\u043b \\u0441\\u0435\\u0440\\u0442\\u0438\\u0444\\u0438\\u043a\\u0430\\u0442 \\u0442\\u0438\\u043f\\u0430 <span class=\"b-link__highlighted\">\\u0443 \\u043c\\u043e\\u0434\\u0438\\u0444\\u0438\\u043a\\u0430\\u0446\\u0438\\u0439 Boeing-737</span></a></li><li class=\"b-news-list__item\"><span class=\"b-news-list__item_num\" aria-hidden=\"true\">2.</span><a href=\"https://news.yandex.ru/yandsearch?cl4url=lenta.ru/news/2015/11/05/bombing/&lang=ru&lr=87\" class=\"b-link b-link_type_colored\">\\u0420\\u043e\\u0441\\u0441\\u0438\\u0439\\u0441\\u043a\\u0438\\u0435 \\u0421\\u0443-25 \\u0443\\u043d\\u0438\\u0447\\u0442\\u043e\\u0436\\u0438\\u043b\\u0438 \\u0441\\u043a\\u043b\\u0430\\u0434 <span class=\"b-link__highlighted\">\\u0441 \\u043f\\u0440\\u043e\\u0442\\u0438\\u0432\\u043e\\u0442\\u0430\\u043d\\u043a\\u043e\\u0432\\u044b\\u043c\\u0438 \\u0440\\u0430\\u043a\\u0435\\u0442\\u0430\\u043c\\u0438 \\u0432 \\u0421\\u0438\\u0440\\u0438\\u0438</span></a></li><li class=\"b-news-list__item\"><span class=\"b-news-list__item_num\" aria-hidden=\"true\">3.</span><a href=\"https://news.yandex.ru/yandsearch?cl4url=www.aif.ru/politics/world/putin_i_kemeron_po_telefonu_obsudili_sovmestnuyu_borbu_s_terrorizmom&lang=ru&lr=87\" class=\"b-link b-link_type_colored\">\\u041f\\u0443\\u0442\\u0438\\u043d \\u0438 \\u041a\\u044d\\u043c\\u0435\\u0440\\u043e\\u043d \\u043f\\u043e \\u0442\\u0435\\u043b\\u0435\\u0444\\u043e\\u043d\\u0443 <span class=\"b-link__highlighted\">\\u043e\\u0431\\u0441\\u0443\\u0434\\u0438\\u043b\\u0438 \\u0441\\u043e\\u0432\\u043c\\u0435\\u0441\\u0442\\u043d\\u0443\\u044e \\u0431\\u043e\\u0440\\u044c\\u0431\\u0443 \\u0441 \\u0442\\u0435\\u0440\\u0440\\u043e\\u0440\\u0438\\u0437\\u043c\\u043e\\u043c</span></a></li><li class=\"b-news-list__item\"><span class=\"b-news-list__item_num\" aria-hidden=\"true\">4.</span><a href=\"https://news.yandex.ru/yandsearch?cl4url=www.aif.ru/sport/football/dinamo_rassmotrit_vozmozhnost_nakazaniya_pavla_pogrebnyaka&lang=ru&lr=87\" class=\"b-link b-link_type_colored\">\\xab\\u0414\\u0438\\u043d\\u0430\\u043c\\u043e\\xbb \\u0440\\u0430\\u0441\\u0441\\u043c\\u043e\\u0442\\u0440\\u0438\\u0442 <span class=\"b-link__highlighted\">\\u0432\\u043e\\u0437\\u043c\\u043e\\u0436\\u043d\\u043e\\u0441\\u0442\\u044c \\u043d\\u0430\\u043a\\u0430\\u0437\\u0430\\u043d\\u0438\\u044f \\u041f\\u0430\\u0432\\u043b\\u0430 \\u041f\\u043e\\u0433\\u0440\\u0435\\u0431\\u043d\\u044f\\u043a\\u0430</span></a></li><li class=\"b-news-list__item\"><span class=\"b-news-list__item_num\" aria-hidden=\"true\">5.</span><a href=\"https://news.yandex.ru/yandsearch?cl4url=www.ntv.ru/novosti/1562361/&lang=ru&lr=87\" class=\"b-link b-link_type_colored\">\\u0424\\u0440\\u0430\\u043d\\u0446\\u0438\\u044f \\u0431\\u0440\\u043e\\u0441\\u0438\\u043b\\u0430 <span class=\"b-link__highlighted\">\\u0430\\u0442\\u043e\\u043c\\u043d\\u044b\\u0439 \\u0430\\u0432\\u0438\\u0430\\u043d\\u043e\\u0441\\u0435\\u0446 \\u043d\\u0430 \\u0431\\u043e\\u0440\\u044c\\u0431\\u0443 \\u0441 \\u0418\\u0413</span></a></li></ul></div><div id=\"tabs07772019715048373_1\" class=\"b-tabs__block i-hidden\" role=\"tabpanel\" aria-labelledby=\"tab-tabs07772019715048373_1\" aria-expanded=\"false\"><ul class=\"b-news-list\"><li class=\"b-news-list__item\"><span class=\"b-news-list__item_num\" aria-hidden=\"true\">1.</span><a href=\"https://news.yandex.ru/yandsearch?cl4url=www.cars.ru/articles/news/21269039/&lang=ru&lr=87\" class=\"b-link b-link_type_colored\">\\u0424\\u0430\\u043b\\u044c\\u0448\\u0438\\u0432\\u043e\\u0435 \\u041f\\u041e \\u043d\\u0430\\u0448\\u043b\\u0438 \\u0438 <span class=\"b-link__highlighted\">\\u0432 \\u0431\\u0435\\u043d\\u0437\\u0438\\u043d\\u043e\\u0432\\u044b\\u0445 \\u043c\\u043e\\u0442\\u043e\\u0440\\u0430\\u0445 Volkswagen</span></a></li><li class=\"b-news-list__item\"><span class=\"b-news-list__item_num\" aria-hidden=\"true\">2.</span><a href=\"https://news.yandex.ru/yandsearch?cl4url=www.tvc.ru/news/show/id/80047&lang=ru&lr=87\" class=\"b-link b-link_type_colored\">\\u0412 \\u0421\\u0428\\u0410 \\u0430\\u0440\\u0435\\u0441\\u0442\\u043e\\u0432\\u0430\\u043d \\u0441\\u0442\\u0440\\u0435\\u043b\\u044f\\u0432\\u0448\\u0438\\u0439 <span class=\"b-link__highlighted\">\\u0440\\u044f\\u0434\\u043e\\u043c \\u0441 \\u0430\\u044d\\u0440\\u043e\\u043f\\u043e\\u0440\\u0442\\u043e\\u043c \\u0421\\u0430\\u043d-\\u0414\\u0438\\u0435\\u0433\\u043e \\u043c\\u0443\\u0436\\u0447\\u0438\\u043d\\u0430</span></a></li><li class=\"b-news-list__item\"><span class=\"b-news-list__item_num\" aria-hidden=\"true\">3.</span><a href=\"https://news.yandex.ru/yandsearch?cl4url=www.aif.ru/incidents/v_ssha_policeyskie_zastrelili_rebenka_vo_vremya_pogoni_za_ego_otcom_tv&lang=ru&lr=87\" class=\"b-link b-link_type_colored\">\\u0412 \\u0421\\u0428\\u0410 \\u043f\\u043e\\u043b\\u0438\\u0446\\u0435\\u0439\\u0441\\u043a\\u0438\\u0435 \\u0437\\u0430\\u0441\\u0442\\u0440\\u0435\\u043b\\u0438\\u043b\\u0438 \\u0440\\u0435\\u0431\\u0435\\u043d\\u043a\\u0430 <span class=\"b-link__highlighted\">\\u0432\\u043e \\u0432\\u0440\\u0435\\u043c\\u044f \\u043f\\u043e\\u0433\\u043e\\u043d\\u0438 \\u0437\\u0430 \\u0435\\u0433\\u043e \\u043e\\u0442\\u0446\\u043e\\u043c \\u2013 \\u0422\\u0412</span></a></li><li class=\"b-news-list__item\"><span class=\"b-news-list__item_num\" aria-hidden=\"true\">4.</span><a href=\"https://news.yandex.ru/yandsearch?cl4url=rsute.ru/obshestvo/47699.html&lang=ru&lr=87\" class=\"b-link b-link_type_colored\">\\u0421\\u0428\\u0410 \\u0432\\u044b\\u0441\\u0442\\u0443\\u043f\\u0438\\u043b\\u043e \\u043f\\u0440\\u043e\\u0442\\u0438\\u0432 \\u0440\\u0435\\u0437\\u043e\\u043b\\u044e\\u0446\\u0438\\u0438 \\u0420\\u0424 <span class=\"b-link__highlighted\">\\u043e \\u043d\\u0435\\u0440\\u0430\\u0437\\u043c\\u0435\\u0449\\u0435\\u043d\\u0438\\u0438 \\u043e\\u0440\\u0443\\u0436\\u0438\\u044f \\u0432 \\u043a\\u043e\\u0441\\u043c\\u043e\\u0441\\u0435</span></a></li><li class=\"b-news-list__item\"><span class=\"b-news-list__item_num\" aria-hidden=\"true\">5.</span><a href=\"https://news.yandex.ru/yandsearch?cl4url=ria.ru/economy/20151104/1313842231.html&lang=ru&lr=87\" class=\"b-link b-link_type_colored\">\\u0426\\u0435\\u043d\\u044b \\u043d\\u0430 \\u043d\\u0435\\u0444\\u0442\\u044c \\u0443\\u0441\\u043a\\u043e\\u0440\\u0438\\u043b\\u0438 \\u043f\\u0430\\u0434\\u0435\\u043d\\u0438\\u0435 <span class=\"b-link__highlighted\">\\u0434\\u043e 2% \\u043f\\u043e\\u0441\\u043b\\u0435 \\u0434\\u0430\\u043d\\u043d\\u044b\\u0445 \\u043f\\u043e \\u0437\\u0430\\u043f\\u0430\\u0441\\u0430\\u043c \\u0432 \\u0421\\u0428\\u0410</span></a></li></ul></div></div></div></div><div class=\"inline-stocks inline-stocks_new_yes i-bem\" ondblclick=\"return {&quot;inline-stocks&quot;:{&quot;stocksUrl&quot;:&quot;/data/combined/?w=_stocks-1&bll=stocks&sens=1&quot;,&quot;editShow&quot;:1}}\" role=\"complementary\" aria-label=\"\\u0411\\u0438\\u0440\\u0436\\u0435\\u0432\\u044b\\u0435 \\u043a\\u0443\\u0440\\u0441\\u044b\"><h2 class=\"a11y-hidden\">\\u0411\\u0438\\u0440\\u0436\\u0435\\u0432\\u044b\\u0435 \\u043a\\u0443\\u0440\\u0441\\u044b</h2><span class=\"b-inline inline-stocks__item\" style=\"margin-right: 8px\">\\u0411\\u0438\\u0440\\u0436\\u0435\\u0432\\u044b\\u0435 \\u043a\\u0443\\u0440\\u0441\\u044b:</span><div class=\"b-inline inline-stocks__item inline-stocks__item_id_2002 hint__item\"><a href=\"https://news.yandex.ru/quotes/2002.html\" class=\"b-link inline-stocks__link\">USD</a><span class=\"inline-stocks__cell inline-stocks__cell_type_delta inline-stocks__cell_delta_small\" aria-hidden=\"true\">+0,71</span><div class=\"a11y-hidden inline-stocks__cell_type_delta-label\">+0,71</div><span class=\"inline-stocks__value\"><span class=\"inline-stocks__text\"><span class=\"inline-stocks__item__baloon b-inline\"><i class=\"inline-stocks__item__baloon__tail-bd\"></i><i class=\"inline-stocks__item__baloon__tail\"></i><span class=\"inline-stocks__item__baloon_inner\">\\u043a\\u0443\\u0440\\u0441 \\u041c\\u041c\\u0412\\u0411 \\u043d\\u0430 05/11 19:12 \\u043c\\u0441\\u043a</span></span></span><span class=\"inline-stocks__value_inner\">63,34</span></span></div><div class=\"b-inline inline-stocks__item inline-stocks__item_id_2000 hint__item\"><a href=\"https://news.yandex.ru/quotes/2000.html\" class=\"b-link inline-stocks__link\">EUR</a><span class=\"inline-stocks__cell inline-stocks__cell_type_delta inline-stocks__cell_delta_small\" aria-hidden=\"true\">+0,20</span><div class=\"a11y-hidden inline-stocks__cell_type_delta-label\">+0,20</div><span class=\"inline-stocks__value\"><span class=\"inline-stocks__text\"><span class=\"inline-stocks__item__baloon b-inline\"><i class=\"inline-stocks__item__baloon__tail-bd\"></i><i class=\"inline-stocks__item__baloon__tail\"></i><span class=\"inline-stocks__item__baloon_inner\">\\u043a\\u0443\\u0440\\u0441 \\u041c\\u041c\\u0412\\u0411 \\u043d\\u0430 05/11 19:12 \\u043c\\u0441\\u043a</span></span></span><span class=\"inline-stocks__value_inner\">68,87</span></span></div><div class=\"b-inline inline-stocks__nowrap\"><div class=\"b-inline inline-stocks__item inline-stocks__item_id_1006 hint__item\"><a href=\"https://news.yandex.ru/quotes/1006.html\" class=\"b-link inline-stocks__link\">\\u041d\\u0435\\u0444\\u0442\\u044c</a><span class=\"inline-stocks__cell inline-stocks__cell_type_delta inline-stocks__cell_delta_small\" aria-hidden=\"true\">\\u22121,17%</span><div class=\"a11y-hidden inline-stocks__cell_type_delta-label\">-1,17%</div><span class=\"inline-stocks__value\"><span class=\"inline-stocks__text\"><span class=\"inline-stocks__item__baloon b-inline\"><i class=\"inline-stocks__item__baloon__tail-bd\"></i><i class=\"inline-stocks__item__baloon__tail\"></i><span class=\"inline-stocks__item__baloon_inner\">\\u0446\\u0435\\u043d\\u0430 \\u043d\\u0430 05/11 18:45</span></span></span><span class=\"inline-stocks__value_inner\">48,19</span></span></div><a class=\"b-link b-link_pseudo_yes inline-stocks__more\"title=\"\\u0435\\u0449\\u0451\" tabindex=\"0\" aria-haspopup=\"true\" aria-expanded=\"false\"><span class=\"b-link__inner\"><i class=\"b-ico-more\"></i><span class=\"a11y-hidden\">\\u0435\\u0449\\u0451</span></span></a></div><div class=\"inline-stocks__popup\"><h1 class=\"inline-stocks__title\">\\u041a\\u043e\\u0442\\u0438\\u0440\\u043e\\u0432\\u043a\\u0438</h1><div class=\"inline-stocks__tables\"></div><div class=\"inline-stocks__error\">\\u0414\\u0430\\u043d\\u043d\\u044b\\u0435 \\u043d\\u0435\\u0434\\u043e\\u0441\\u0442\\u0443\\u043f\\u043d\\u044b</div><div class=\"inline-stocks__loader\"><div class=\"spin2 spin2_size_l spin2_progress_yes\"></div></div></div></div></div></td><td class=\" b-inline_widget l-widgets-holder b-inline_promo\" id=\"widgets-2-0\"><div class=\"b-wrapper b-wrapper-teaser\"><div class=\"b-promo\" role=\"complementary\" aria-label=\"\\u0420\\u0435\\u043a\\u043b\\u0430\\u043c\\u0430\"><a href=\"http://yabs.yandex.ru/count/LYb8h7j5-vG40WW0gQA0022Eiq2uOmLHbGAR1cbQYBHT8WS7feG9YhtCL5a3gW6beu501f6yq4ba1fDKGgC1hlpgesKUeyqZ1R41ig0000B1__________yFnOyFql__________3zF__________mzz3000\" class=\"b-link  g-png\" target=\"_blank\" tabindex=\"-1\"><img src=\"http://yabs.yandex.ru/count/LYb8h6tFmqW40WW2gQA0822Eiq2uOmLHbGAR1cbQYBHT8WS7feG9YhtCL5a3gWAbeu501f6yq4ba1fDKGQC1hlpgesKUeyqZ1R41ig0000B1__________yFnOyFql__________3zF__________mzz3000\" width=\"148\" height=\"90\" alt=\"Yandex.Speach Kit\"/></a><h2 class=\"b-promo__title\"><a href=\"http://yabs.yandex.ru/count/LYb8h7j5-vG40WW0gQA0022Eiq2uOmLHbGAR1cbQYBHT8WS7feG9YhtCL5a3gW6beu501f6yq4ba1fDKGgC1hlpgesKUeyqZ1R41ig0000B1__________yFnOyFql__________3zF__________mzz3000\" class=\"b-link \" target=\"_blank\"><span class=\"b-promo__nowrap\">\\u0420\\u0435\\u0447\\u0435\\u0432\\u044b\\u0435 \\u0442\\u0435\\u0445\\u043d\\u043e\\u043b\\u043e\\u0433\\u0438\\u0438 </span>&#32;<span class=\"b-promo__nowrap\">\\u042f\\u043d\\u0434\\u0435\\u043a\\u0441\\u0430</span></a></h2><div class=\"b-promo__description\"><span class=\"b-promo__nowrap\">\\u041d\\u0430 \\u0441\\u043b\\u0443\\u0436\\u0431\\u0435 \\u0443 \\u0431\\u0438\\u0437\\u043d\\u0435\\u0441\\u0430</span></div></div></div></td><td class=\"widgets-headline__gap\"></td></tr></table></div><div class=\"b-line b-line_search\" role=\"banner\"><div class=\"b-inline b-inline_logo\"><div class=\"b-logo\"><div class=\"b-logo__image_bg\" role=\"img\" aria-label=\"\\u042f\\u043d\\u0434\\u0435\\u043a\\u0441\"></div></div></div><div class=\"b-inline b-inline_m\"><div class=\"b-head-tabs i-bem\" ondblclick=\"return {\\'b-head-tabs\\':{}}\" role=\"navigation\"><div class=\"b-inline b-head-tabs__tab b-head-tabs__tab_selected b-head-tabs-list__item_pos_first\">\\u041f\\u043e\\u0438\\u0441\\u043a</div><div class=\"b-inline b-head-tabs__tab\"><a href=\"https://maps.yandex.ru/\" class=\"b-link  i-bem b-head-tabs__tab-link\" id=\"tab-maps\">\\u041a\\u0430\\u0440\\u0442\\u044b</a></div><div class=\"b-inline b-head-tabs__tab\"><a href=\"https://market.yandex.ru/?clid=505\" class=\"b-link  i-bem b-head-tabs__tab-link\" id=\"tab-market\">\\u041c\\u0430\\u0440\\u043a\\u0435\\u0442</a></div><div class=\"b-inline b-head-tabs__tab\"><a href=\"https://news.yandex.ru/\" class=\"b-link  i-bem b-head-tabs__tab-link\" id=\"tab-news\">\\u041d\\u043e\\u0432\\u043e\\u0441\\u0442\\u0438</a></div><div class=\"b-inline b-head-tabs__tab\"><a href=\"https://translate.yandex.ru/\" class=\"b-link  i-bem b-head-tabs__tab-link\" id=\"tab-translate\">\\u041f\\u0435\\u0440\\u0435\\u0432\\u043e\\u0434\\u0447\\u0438\\u043a</a></div><div class=\"b-inline b-head-tabs__tab\"><a href=\"//yandex.ru/images/\" class=\"b-link  i-bem b-head-tabs__tab-link\" id=\"tab-images\">\\u041a\\u0430\\u0440\\u0442\\u0438\\u043d\\u043a\\u0438</a></div><div class=\"b-inline b-head-tabs__tab\"><a href=\"//yandex.ru/video\" class=\"b-link  i-bem b-head-tabs__tab-link\" id=\"tab-video\">\\u0412\\u0438\\u0434\\u0435\\u043e</a></div><div class=\"b-inline b-head-tabs__tab b-head-tabs-list__item_pos_last\"><div class=\"dropdown-menu  dropdown i-bem\" data-bem=\"{&quot;dropdown-menu&quot;:{}}\"><a href=\"//www.yandex.ru/all\" class=\"b-link b-link_pseudo_yes  i-bem b-head-tabs__tab-link b-head-tabs__more dropdown-menu__switcher\" ondblclick=\"return {\\'b-link\\':{}}\" aria-expanded=\"false\" aria-haspopup=\"true\"><span class=\"b-link__inner\">\\u0435\\u0449\\u0451</span></a><div class=\"i-bem popup dropdown-menu__popup dropdown-menu__popup_extra_yes dropdown__popup popup_theme_ffffff popup_autoclosable_yes popup_adaptive_yes popup_animate_yes\" data-bem=\"{&quot;popup&quot;:{&quot;disableoutside&quot;:&quot;yes&quot;}}\" role=\"menu\"><div class=\"popup__under\"></div><i class=\"popup__tail\"></i><div class=\"popup__content\"><div class=\"b-services-more \"><div class=\"b-services-group b-twocolumn\"><div class=\"b-services-more__item \"><a href=\"\" class=\"b-link b-head-tabs__tab-link\" id=\"tab-avia\" role=\"menuitem\" tabindex=\"-1\">\\u0410\\u0432\\u0438\\u0430\\u0431\\u0438\\u043b\\u0435\\u0442\\u044b</a></div><div class=\"b-services-more__item \"><a href=\"\" class=\"b-link b-head-tabs__tab-link\" id=\"tab-autoru\" role=\"menuitem\" tabindex=\"-1\">\\u0410\\u0432\\u0442\\u043e.\\u0440\\u0443</a></div><div class=\"b-services-more__item \"><a href=\"\" class=\"b-link b-head-tabs__tab-link\" id=\"tab-afisha\" role=\"menuitem\" tabindex=\"-1\">\\u0410\\u0444\\u0438\\u0448\\u0430</a></div><div class=\"b-services-more__item \"><a href=\"\" class=\"b-link b-head-tabs__tab-link\"onclick=\"return{\\'url\\':\\'//blogs.yandex.ru/search.xml?ft=blog\\'}\" id=\"tab-blogs\" role=\"menuitem\" tabindex=\"-1\">\\u0411\\u043b\\u043e\\u0433\\u0438</a></div><div class=\"b-services-more__item \"><a href=\"\" class=\"b-link b-head-tabs__tab-link\" id=\"tab-gorod\" role=\"menuitem\" tabindex=\"-1\">\\u0413\\u043e\\u0440\\u043e\\u0434</a></div><div class=\"b-services-more__item \"><a href=\"\" class=\"b-link b-head-tabs__tab-link\" id=\"tab-money\" role=\"menuitem\" tabindex=\"-1\">\\u0414\\u0435\\u043d\\u044c\\u0433\\u0438</a></div><div class=\"b-services-more__item \"><a href=\"\" class=\"b-link b-head-tabs__tab-link\" id=\"tab-disk\" role=\"menuitem\" tabindex=\"-1\">\\u0414\\u0438\\u0441\\u043a</a></div><div class=\"b-services-more__item \"><a href=\"\" class=\"b-link b-head-tabs__tab-link\" id=\"tab-ege\" role=\"menuitem\" tabindex=\"-1\">\\u0415\\u0413\\u042d</a></div><div class=\"b-services-more__item \"><a href=\"\" class=\"b-link b-head-tabs__tab-link\"onclick=\"return{\\'url\\':\\'http://yaca.yandex.ru/yandsearch?rpt=rs2\\'}\" id=\"tab-yaca\" role=\"menuitem\" tabindex=\"-1\">\\u041a\\u0430\\u0442\\u0430\\u043b\\u043e\\u0433</a></div><div class=\"b-services-more__item \"><a href=\"\" class=\"b-link b-head-tabs__tab-link\" id=\"tab-master\" role=\"menuitem\" tabindex=\"-1\">\\u041c\\u0430\\u0441\\u0442\\u0435\\u0440</a></div><div class=\"b-services-more__item \"><a href=\"\" class=\"b-link b-head-tabs__tab-link\" id=\"tab-realty\" role=\"menuitem\" tabindex=\"-1\">\\u041d\\u0435\\u0434\\u0432\\u0438\\u0436\\u0438\\u043c\\u043e\\u0441\\u0442\\u044c</a></div><div class=\"b-services-more__item \"><a href=\"\" class=\"b-link b-head-tabs__tab-link\"onclick=\"return{\\'url\\':\\'https://pogoda.yandex.ru/search?request=\\'}\" id=\"tab-pogoda\" role=\"menuitem\" tabindex=\"-1\">\\u041f\\u043e\\u0433\\u043e\\u0434\\u0430</a></div><div class=\"b-services-more__item \"><a href=\"\" class=\"b-link b-head-tabs__tab-link\"onclick=\"return{\\'url\\':\\'//yandex.ru/yandsearch?filter=people\\'}\" id=\"tab-people\" role=\"menuitem\" tabindex=\"-1\">\\u041f\\u043e\\u0438\\u0441\\u043a \\u043b\\u044e\\u0434\\u0435\\u0439</a></div><div class=\"b-services-more__item \"><a href=\"\" class=\"b-link b-head-tabs__tab-link\" id=\"tab-mail\" role=\"menuitem\" tabindex=\"-1\">\\u041f\\u043e\\u0447\\u0442\\u0430</a></div><div class=\"b-services-more__item \"><a href=\"\" class=\"b-link b-head-tabs__tab-link\"onclick=\"return{\\'url\\':\\'https://maps.yandex.ru/\\'}\" id=\"tab-traffic\" role=\"menuitem\" tabindex=\"-1\">\\u041f\\u0440\\u043e\\u0431\\u043a\\u0438</a></div><div class=\"b-services-more__item \"><a href=\"\" class=\"b-link b-head-tabs__tab-link\" id=\"tab-travel\" role=\"menuitem\" tabindex=\"-1\">\\u041f\\u0443\\u0442\\u0435\\u0448\\u0435\\u0441\\u0442\\u0432\\u0438\\u044f</a></div><div class=\"b-services-more__item \"><a href=\"\" class=\"b-link b-head-tabs__tab-link\"onclick=\"return{\\'url\\':\\'https://rabota.yandex.ru/search.xml/\\'}\" id=\"tab-rabota\" role=\"menuitem\" tabindex=\"-1\">\\u0420\\u0430\\u0431\\u043e\\u0442\\u0430</a></div><div class=\"b-services-more__item \"><a href=\"\" class=\"b-link b-head-tabs__tab-link\" id=\"tab-rasp\" role=\"menuitem\" tabindex=\"-1\">\\u0420\\u0430\\u0441\\u043f\\u0438\\u0441\\u0430\\u043d\\u0438\\u044f</a></div><div class=\"b-services-more__item \"><a href=\"\" class=\"b-link b-head-tabs__tab-link\"onclick=\"return{\\'url\\':\\'//slovari.yandex.ru/search.xml\\'}\" id=\"tab-slovari\" role=\"menuitem\" tabindex=\"-1\">\\u0421\\u043b\\u043e\\u0432\\u0430\\u0440\\u0438</a></div><div class=\"b-services-more__item \"><a href=\"\" class=\"b-link b-head-tabs__tab-link\" id=\"tab-tv\" role=\"menuitem\" tabindex=\"-1\">\\u0422\\u0435\\u043b\\u0435\\u043f\\u0440\\u043e\\u0433\\u0440\\u0430\\u043c\\u043c\\u0430</a></div><div class=\"b-services-more__item \"><a href=\"\" class=\"b-link b-head-tabs__tab-link\"onclick=\"return{\\'url\\':\\'http://fotki.yandex.ru/search.xml\\'}\" id=\"tab-fotki\" role=\"menuitem\" tabindex=\"-1\">\\u0424\\u043e\\u0442\\u043a\\u0438</a></div></div><div class=\"b-services-group b-services-more__group-bottom\"><div class=\"b-services-more__item b-inline\"><a href=\"\" class=\"b-link b-head-tabs__tab-link\" id=\"tab-mobile\" role=\"menuitem\" tabindex=\"-1\">\\u0414\\u043b\\u044f&nbsp;\\u043c\\u043e\\u0431\\u0438\\u043b\\u044c\\u043d\\u043e\\u0433\\u043e</a></div><div class=\"b-services-more__item b-inline\"><a href=\"\" class=\"b-link b-head-tabs__tab-link\" id=\"tab-soft\" role=\"menuitem\" tabindex=\"-1\">\\u041f\\u0440\\u043e\\u0433\\u0440\\u0430\\u043c\\u043c\\u044b</a></div><div class=\"b-services-more__item b-inline\"><a href=\"\" class=\"b-link b-head-tabs__tab-link\" id=\"tab-all\" role=\"menuitem\" tabindex=\"-1\">\\u0412\\u0441\\u0435&nbsp;\\u0441\\u0435\\u0440\\u0432\\u0438\\u0441\\u044b</a></div></div></div></div></div></div></div></div><form class=\"search2 suggest2-form suggest2-counter i-bem suggest2-form_stats_yes\" action=\"http://yandex.ru/search/\" role=\"search\" aria-label=\"\\u041f\\u043e\\u0438\\u0441\\u043a \\u0432 \\u0438\\u043d\\u0442\\u0435\\u0440\\u043d\\u0435\\u0442\\u0435\" onclick=\"return {&quot;suggest2-form&quot;:{},&quot;suggest2-counter&quot;:{&quot;service&quot;:&quot;morda_ru&quot;,&quot;host&quot;:&quot;//yandex.ru/clck&quot;,&quot;path&quot;:&quot;jclck&quot;,&quot;submitBySelect&quot;:true,&quot;preventSubmit&quot;:true,&quot;suggestReqID&quot;:true,&quot;params&quot;:{&quot;dtype&quot;:&quot;stred&quot;,&quot;pid&quot;:&quot;0&quot;,&quot;cid&quot;:&quot;2873&quot;}},&quot;search2&quot;:{&quot;cleanOnSubmit&quot;:false,&quot;nl&quot;:true}}\"><input type=\"hidden\" name=\"lr\" value=\"87\"/><div class=\"suggest2-form__node\"><div class=\"search2__button\"><button class=\"button suggest2-form__button button_theme_websearch button_size_m i-bem\" data-bem=\"{&quot;button&quot;:{}}\" tabindex=\"-1\" role=\"button\" type=\"submit\"><span class=\"button__text\">\\u041d\\u0430\\u0439\\u0442\\u0438</span></button></div><div class=\"search2__input\"><span class=\"input suggest2-form__input input_size_m input_theme_websearch input_search2-clear-hide_yes input_ahead_yes input_autofocus_capture input_keyboard_yes input_clear_yes input_count_yes i-bem\" data-bem=\"{&quot;input&quot;:{&quot;live&quot;:false,&quot;autoFocus&quot;:true}}\"><span class=\"input__box\"><input class=\"input__control input__input\" tabindex=\"2\" autocomplete=\"off\" aria-label=\"\\u0417\\u0430\\u043f\\u0440\\u043e\\u0441\" id=\"text\" maxlength=\"400\" name=\"text\"/><span class=\"input__clear\" unselectable=\"on\">&nbsp;</span><div class=\"keyboard-loader input__keyboard-button i-bem b-opacity b-opacity-hold-ie keyboard-loader_lang_ru\" data-bem=\"{&quot;keyboard-loader&quot;:{&quot;name&quot;:&quot;keyboard-loader&quot;,&quot;statOpen&quot;:&quot;&quot;,&quot;statClose&quot;:&quot;&quot;}}\"><i class=\"b-ico keyboard-loader__icon b-ico-kbd\"></i></div></span><span class=\"input__samples\">\\u041d\\u0430\\u0439\\u0434\\u0451\\u0442\\u0441\\u044f \\u0432\\u0441\\u0451.&nbsp;<span class=\"input__sample-what\">\\u041d\\u0430\\u043f\\u0440\\u0438\\u043c\\u0435\\u0440,&nbsp;</span><a class=\"b-link b-link_pseudo_yes input__sample\" tabindex=\"0\"><span class=\"b-link__inner\"><span class=\"input__sample-first-word\">\\u043f\\u0440\\u043e\\u0434\\u0430\\u0436\\u0430</span> \\u0431/\\u0443 Mitsubishi Pajero</span></a></span></span></div><div class=\"i-bem popup suggest2 suggest2_theme_flat suggest2_size_m suggest2_adaptive_yes suggest2_ahead_yes popup_adaptive_yes popup_animate_no popup_autoclosable_yes popup_theme_ffffff\" data-bem=\"{&quot;popup&quot;:{&quot;directions&quot;:&quot;bottom-left&quot;},&quot;suggest2&quot;:{&quot;url&quot;:&quot;//suggest.yandex.ru/suggest-ya.cgi&quot;,&quot;data&quot;:{&quot;srv&quot;:&quot;morda_ru&quot;,&quot;wiz&quot;:&quot;TrWth&quot;,&quot;lr&quot;:&quot;87&quot;,&quot;uil&quot;:&quot;ru&quot;,&quot;fact&quot;:1,&quot;v&quot;:4,&quot;icon&quot;:1,&quot;hl&quot;:1,&quot;html&quot;:1,&quot;yu&quot;:&quot;6272743171446740995&quot;},&quot;onFocus&quot;:&quot;show&quot;,&quot;aheadFromServer&quot;:true,&quot;submitBySelect&quot;:true,&quot;requestOnEmptyInput&quot;:true},&quot;suggest2-detect&quot;:{}}\"><div class=\"popup__under\"></div><div class=\"popup__content\"> </div></div></div></form></div></div><div class=\"b-line b-line_adv\" role=\"complementary\" aria-label=\"\\u0420\\u0435\\u043a\\u043b\\u0430\\u043c\\u0430\"></div><div class=\"b-line b-line_last l-widgets\"><table class=\"b-table widgets-table\"><tr class=\"b-table__row widgets-line\"><td class=\"b-inline_widget l-widgets-holder b-inline_widget-bottom\" id=\"widgets-3-0\"><div class=\"b-wrapper b-wrapper-geo\"><div class=\"b-region i-bem b-region_map b-region_map-on-links\" ondblclick=\"return {\\'hint\\':{}}\" role=\"complementary\" aria-label=\"\\u0412\\u0430\\u0448\\u0438\\u043d\\u0433\\u0442\\u043e\\u043d\"><h2 class=\"a11y-hidden\">\\u0412\\u0430\\u0448\\u0438\\u043d\\u0433\\u0442\\u043e\\u043d</h2><div class=\"\"><div class=\"b-content-item__title b-region__title b-region_city\"><span class=\"b-region__cityname\"><span class=\"b-region__cityname_text\">\\u0412\\u0430\\u0448\\u0438\\u043d\\u0433\\u0442\\u043e\\u043d</span><a href=\"//tune.yandex.ru/region/?retpath=http%3A%2F%2Fwww.yandex.ru%2F%3Fdomredir%3D1\" class=\"b-link  b-inline b-region__setup b-region__setup_icon\" target=\"_self\" title=\"\\u0418\\u0437\\u043c\\u0435\\u043d\\u0438\\u0442\\u044c \\u0433\\u043e\\u0440\\u043e\\u0434\"><i class=\"b-ico b-ico-setup_g\"></i><i class=\"b-ico b-ico-setup_b\"></i></a></span></div></div><div class=\"b-region__links\"><div class=\"b-region__map\"><a href=\"http://maps.yandex.ru\" class=\"b-link \">\\u041a\\u0430\\u0440\\u0442\\u0430 \\u0421\\u0428\\u0410</a></div><div class=\"b-region__links__item b-region__links__item_0 b-region__links__item_new\"><a href=\"https://maps.yandex.ru/?index&ll=43.506343%2C55.219296&spn=22.434082%2C7.001578&z=6&l=map%2Cstv%2Csta&hint=zaglpano\" class=\"b-link \">\\u041f\\u0430\\u043d\\u043e\\u0440\\u0430\\u043c\\u044b \\u0433\\u043e\\u0440\\u043e\\u0434\\u043e\\u0432 \\u0420\\u043e\\u0441\\u0441\\u0438\\u0438</a></div></div></div></div></td><td class=\"b-inline_widget l-widgets-holder b-inline_widget-bottom\" id=\"widgets-4-0\"><div class=\"b-wrapper b-wrapper-weather\"><div class=\"b-weather\" role=\"complementary\" aria-label=\"\\u041f\\u043e\\u0433\\u043e\\u0434\\u0430\"><h2 class=\"a11y-hidden\">\\u041f\\u043e\\u0433\\u043e\\u0434\\u0430</h2><div class=\"b-content-item__title\"><a href=\"https://pogoda.yandex.ru/washington/\" class=\"b-link \">\\u041f\\u043e\\u0433\\u043e\\u0434\\u0430</a><a href=\"https://pogoda.yandex.ru/washington/\" title=\"\\u043f\\u0430\\u0441\\u043c\\u0443\\u0440\\u043d\\u043e\" class=\"b-weather__icon_link\"  ><i class=\"b-inline b-weather__icon b-weather__icon_ovc\"></i></a><a href=\"https://pogoda.yandex.ru/washington/\" class=\"b-link  b-link_black_novisit\" aria-label=\"+17 \\xb0C\">+17 \\xb0C</a></div><div class=\"b-weather__info\"><a href=\"https://pogoda.yandex.ru/washington/\" class=\"b-link  b-link_black_novisit\" aria-label=\"\\u0434\\u043d\\u0451\\u043c +21 \\xb0C\">\\u0434\\u043d\\u0451\\u043c&#160;+21</a>,&#32;&#160;<a href=\"https://pogoda.yandex.ru/washington/\" class=\"b-link  b-link_black_novisit\" aria-label=\"\\u0432\\u0435\\u0447\\u0435\\u0440\\u043e\\u043c +19 \\xb0C\">\\u0432\\u0435\\u0447\\u0435\\u0440\\u043e\\u043c&#160;+19</a></div></div></div></td><td class=\"b-inline_widget l-widgets-holder b-inline_widget-bottom\" id=\"widgets-5-0\"><div class=\"b-wrapper b-wrapper-tv\"><div class=\"b-afisha\" role=\"complementary\" aria-label=\"\\u0422\\u0435\\u043b\\u0435\\u043f\\u0440\\u043e\\u0433\\u0440\\u0430\\u043c\\u043c\\u0430\"><h2 class=\"a11y-hidden\">\\u0422\\u0435\\u043b\\u0435\\u043f\\u0440\\u043e\\u0433\\u0440\\u0430\\u043c\\u043c\\u0430</h2><div class=\"b-content-item__title\"><a href=\"https://tv.yandex.ru/87/\" class=\"b-link \" title=\"\\u0422\\u0435\\u043b\\u0435\\u043f\\u0440\\u043e\\u0433\\u0440\\u0430\\u043c\\u043c\\u0430\">\\u0422\\u0435\\u043b\\u0435\\u043f\\u0440\\u043e\\u0433\\u0440\\u0430\\u043c\\u043c\\u0430</a></div><div class=\"b-afisha__content\"><ul class=\"b-tv-list\"><li class=\"b-content_list__item\"><table class=\"b-tv-list__item__table\"><tbody><tr><td class=\"b-tv-list__item__td\"><div class=\"b-tv-list__time\">11:00</div><div class=\"b-tv-list__type\"></div></td><td class=\"b-tv-list__item__td\"><a href=\"https://tv.yandex.ru/87/program/2125?eventId=76586250\" class=\"b-link \" title=\"\\u0414\\u0430\\u0432\\u0430\\u0439 \\u043f\\u043e\\u0436\\u0435\\u043d\\u0438\\u043c\\u0441\\u044f! (\\u0427\\u0435\\u0448\\u0441\\u043a\\u0438\\u0439 \\u0441\\u0442\\u0440\\u043e\\u0438\\u0442\\u0435\\u043b\\u044c)\">\\u0414\\u0430\\u0432\\u0430\\u0439 \\u043f\\u043e\\u0436\\u0435\\u043d\\u0438\\u043c\\u0441\\u044f!</a>&#32;<span class=\"b-tv-list__channel\"><a href=\"https://tv.yandex.ru/87/channels/104\" class=\"b-link_black_novisit\">\\u041f\\u0435\\u0440\\u0432\\u044b\\u0439</a></span></td></tr></tbody></table></li><li class=\"b-content_list__item\"><table class=\"b-tv-list__item__table\"><tbody><tr><td class=\"b-tv-list__item__td\"><div class=\"b-tv-list__time\">11:35</div><div class=\"b-tv-list__type\"></div></td><td class=\"b-tv-list__item__td\"><a href=\"https://tv.yandex.ru/87/program/6229?eventId=76280992\" class=\"b-link \" title=\"\\u041c\\u0435\\u0441\\u0442\\u043d\\u043e\\u0435 \\u0432\\u0440\\u0435\\u043c\\u044f. \\u0412\\u0435\\u0441\\u0442\\u0438-\\u041c\\u043e\\u0441\\u043a\\u0432\\u0430\">\\u041c\\u0435\\u0441\\u0442\\u043d\\u043e\\u0435 \\u0432\\u0440\\u0435\\u043c\\u044f\\u2026</a>&#32;<span class=\"b-tv-list__channel\"><a href=\"https://tv.yandex.ru/87/channels/143\" class=\"b-link_black_novisit\">\\u0420\\u043e\\u0441\\u0441\\u0438\\u044f-\\u041f\\u043b\\u0430\\u043d\\u0435\\u0442\\u0430</a></span></td></tr></tbody></table></li><li class=\"b-content_list__item\"><table class=\"b-tv-list__item__table\"><tbody><tr><td class=\"b-tv-list__item__td\"><div class=\"b-tv-list__time\">11:40</div><div class=\"b-tv-list__type\"></div></td><td class=\"b-tv-list__item__td\"><a href=\"https://tv.yandex.ru/87/program/1822447?eventId=76505444\" class=\"b-link \" title=\"\\u0423\\u043b\\u0438\\u0446\\u044b \\u0440\\u0430\\u0437\\u0431\\u0438\\u0442\\u044b\\u0445 \\u0444\\u043e\\u043d\\u0430\\u0440\\u0435\\u0439-15 (\\xab\\u0425\\u0438\\u0449\\u043d\\u0438\\u043a\\xbb. \\xab\\u0421\\u0435\\u0430\\u043d\\u0441 \\u0447\\u0435\\u0440\\u043d\\u043e\\u0439 \\u043c\\u0430\\u0433\\u0438\\u0438\\xbb)\">\\u0423\\u043b\\u0438\\u0446\\u044b \\u0440\\u0430\\u0437\\u0431\\u0438\\u0442\\u044b\\u0445\\u2026</a>&#32;<span class=\"b-tv-list__channel\"><a href=\"https://tv.yandex.ru/87/channels/422\" class=\"b-link_black_novisit\">\\u041d\\u0422\\u0412-\\u041c\\u0438\\u0440</a></span></td></tr></tbody></table></li><li class=\"b-content_list__item\"><table class=\"b-tv-list__item__table\"><tbody><tr><td class=\"b-tv-list__item__td\"><div class=\"b-tv-list__time\">12:00</div><div class=\"b-tv-list__type\"></div></td><td class=\"b-tv-list__item__td\"><a href=\"https://tv.yandex.ru/87/program/2197?eventId=76301215\" class=\"b-link \" title=\"\\xab\\u041f\\u0443\\u0441\\u0442\\u044c \\u0433\\u043e\\u0432\\u043e\\u0440\\u044f\\u0442\\xbb \\u0441 \\u0410\\u043d\\u0434\\u0440\\u0435\\u0435\\u043c \\u041c\\u0430\\u043b\\u0430\\u0445\\u043e\\u0432\\u044b\\u043c\">\\xab\\u041f\\u0443\\u0441\\u0442\\u044c \\u0433\\u043e\\u0432\\u043e\\u0440\\u044f\\u0442\\xbb \\u0441\\u2026</a>&#32;<span class=\"b-tv-list__channel\"><a href=\"https://tv.yandex.ru/87/channels/104\" class=\"b-link_black_novisit\">\\u041f\\u0435\\u0440\\u0432\\u044b\\u0439</a></span></td></tr></tbody></table></li><li class=\"b-content_list__item\"><table class=\"b-tv-list__item__table\"><tbody><tr><td class=\"b-tv-list__item__td\"><div class=\"b-tv-list__time\">12:00</div><div class=\"b-tv-list__type\"></div></td><td class=\"b-tv-list__item__td\"><a href=\"https://tv.yandex.ru/87/program/4715?eventId=76280993\" class=\"b-link \">\\u0412\\u0435\\u0441\\u0442\\u0438</a>&#32;<span class=\"b-tv-list__channel\"><a href=\"https://tv.yandex.ru/87/channels/143\" class=\"b-link_black_novisit\">\\u0420\\u043e\\u0441\\u0441\\u0438\\u044f-\\u041f\\u043b\\u0430\\u043d\\u0435\\u0442\\u0430</a></span></td></tr></tbody></table></li></ul></div></div></div></td></tr><tr class=\"b-table__row widgets-lastline widgets-line\"><td class=\"b-inline_widget l-widgets-holder b-inline_widget-bottom\" id=\"widgets-3-1\"><div class=\"b-wrapper b-wrapper-services\"><div class=\"b-services\" role=\"complementary\" aria-label=\"\\u0421\\u0435\\u0440\\u0432\\u0438\\u0441\\u044b\"><h2 class=\"a11y-hidden\">\\u0421\\u0435\\u0440\\u0432\\u0438\\u0441\\u044b</h2><div class=\"b-services__items\"><div class=\"b-content_list__item\"><a href=\"https://market.yandex.ru/?clid=506\" class=\"b-link b-services__item\"><span class=\"b-services__item__icon b-ico b-ico-service-market\"></span>\\u041c\\u0430\\u0440\\u043a\\u0435\\u0442</a><span aria-hidden=\"true\">&#160;&#8212;&#160;</span><a href=\"https://market.yandex.ru/catalog/54469/list?how=dpop&hid=90490&gfilter=2142418426%3A-1861921444&clid514&utm_source=face&utm_medium=cpc&utm_term=zimnie_shiny&utm_campaign=zimnie_shiny_world\" class=\"b-link_black_novisit\">\\u0437\\u0438\\u043c\\u043d\\u0438\\u0435 \\u0448\\u0438\\u043d\\u044b</a></div><div class=\"b-content_list__item\"><a href=\"https://auto.yandex.ru/offers?sort_offers=relevance-desc&year_from=2014&year_to=2014&state=NEW&body_type=CROSSOVER&from=morda&utm_source=yandex_list_service&utm_medium=cpm&utm_campaign=q4_october_r10000_title&utm_content=wrdvzrst-14317_r10000&utm_term=krossovery-2014-goda_wrdvzrst-14317\" class=\"b-link b-services__item\"><span class=\"b-services__item__icon b-ico b-ico-service-auto\"></span>\\u0410\\u0432\\u0442\\u043e</a><span aria-hidden=\"true\">&#160;&#8212;&#160;</span><a href=\"https://auto.yandex.ru/offers?sort_offers=relevance-desc&year_from=2014&year_to=2014&state=NEW&body_type=CROSSOVER&from=morda&utm_source=yandex_list_service&utm_medium=cpm&utm_campaign=q4_october_r10000_subtitle&utm_content=wrdvzrst-14317_r10000&utm_term=krossovery-2014-goda_wrdvzrst-14317\" class=\"b-link_black_novisit\">\\u043a\\u0440\\u043e\\u0441\\u0441\\u043e\\u0432\\u0435\\u0440\\u044b 2014 \\u0433\\u043e\\u0434\\u0430</a></div><div class=\"b-content_list__item\"><a href=\"https://realty.yandex.ru/search.xml?from=morda&type=SELL&category=APARTMENT&roomsTotal=2&_openstat=yandex;text;sell;sell2appAllruru\" class=\"b-link b-services__item\"><span class=\"b-services__item__icon b-ico b-ico-service-realty\"></span>\\u041d\\u0435\\u0434\\u0432\\u0438\\u0436\\u0438\\u043c\\u043e\\u0441\\u0442\\u044c</a><span aria-hidden=\"true\">&#160;&#8212;&#160;</span><a href=\"https://realty.yandex.ru/search.xml?from=morda&type=SELL&category=APARTMENT&roomsTotal=2&_openstat=yandex;text;sell;sell2appAllruru\" class=\"b-link_black_novisit\">\\u043a\\u0443\\u043f\\u0438\\u0442\\u044c \\u0434\\u0432\\u0443\\u0448\\u043a\\u0443</a></div><div class=\"b-content_list__item\"><a href=\"https://rabota.yandex.ru/?from=morda&_openstat=yandex;title;popular;popular2all\" class=\"b-link b-services__item\"><span class=\"b-services__item__icon b-ico b-ico-service-rabota\"></span>\\u0420\\u0430\\u0431\\u043e\\u0442\\u0430</a><span aria-hidden=\"true\">&#160;&#8212;&#160;</span><a href=\"https://rabota.yandex.ru/search.xml?from=morda&_openstat=yandex;text;popular;popular2all\" class=\"b-link_black_novisit\">\\u0432\\u0430\\u043a\\u0430\\u043d\\u0441\\u0438\\u0438 \\u0438 \\u0437\\u0430\\u0440\\u043f\\u043b\\u0430\\u0442\\u044b</a></div><div class=\"b-content_list__item\"><a href=\"//yandex.ru/images/\" class=\"b-link b-services__item\"><span class=\"b-services__item__icon b-ico b-ico-service-images\"></span>\\u041a\\u0430\\u0440\\u0442\\u0438\\u043d\\u043a\\u0438</a><span aria-hidden=\"true\">&#160;&#8212;&#160;</span><a href=\"https://yandex.ru/images/search?text=%D0%BE%D1%81%D0%B5%D0%BD%D0%BD%D0%B8%D0%B5%20%D0%BF%D0%B5%D0%B9%D0%B7%D0%B0%D0%B6%D0%B8&source=images_autumn\" class=\"b-link_black_novisit\">\\u043e\\u0441\\u0435\\u043d\\u043d\\u0438\\u0435 \\u043f\\u0435\\u0439\\u0437\\u0430\\u0436\\u0438</a></div></div><div class=\"b-services__info\"><ul class=\"b-services__list\"></ul></div></div></div></td><td class=\"b-inline_widget l-widgets-holder b-inline_widget-bottom\" id=\"widgets-4-1\"> </td><td class=\"b-inline_widget l-widgets-holder b-inline_widget-bottom\" id=\"widgets-5-1\"> </td></tr></table></div><div class=\"widgets-hidden\"></div><div class=\"b-line b-line_promo\" style=\"height:0px\"></div></div><div class=\"b-footer_spacer\"></div><div class=\"b-line b-line_foot\" role=\"contentinfo\"><table class=\"b-foot\"><tr><td class=\"b-footer__col b-footer__col-left\"><div class=\"b-design\"><div class=\"b-footer__level\">\\u0414\\u0438\\u0437\\u0430\\u0439\\u043d&#160;&#8212;&#160;</div><a href=\"http://www.artlebedev.ru\" class=\"b-link b-footer__level\">\\u0421\\u0442\\u0443\\u0434\\u0438\\u044f \\u0410\\u0440\\u0442\\u0435\\u043c\\u0438\\u044f&nbsp;\\u041b\\u0435\\u0431\\u0435\\u0434\\u0435\\u0432\\u0430</a></div></td><td class=\"b-footer__col b-footer__col-center\"><div class=\"b-footer__center\"><div class=\"b-footer__level\"><div class=\"b-inline b-footer__link_business\"><a href=\"https://direct.yandex.ru/?from=maintest_ru_razmestitrekl\" class=\"b-link \">\\u0414\\u0438\\u0440\\u0435\\u043a\\u0442</a>&#160;&#8212;&#160;<a href=\"//advertising.yandex.ru/welcome/?from=maintest_ru_razmestitrekl\" class=\"b-link_black_novisit\">\\u0440\\u0430\\u0437\\u043c\\u0435\\u0441\\u0442\\u0438\\u0442\\u044c \\u0440\\u0435\\u043a\\u043b\\u0430\\u043c\\u0443</a></div></div><div class=\"b-footer__level\"><div class=\"b-inline b-footer__link_business\"><a href=\"https://metrika.yandex.ru/?utm_source=yandexru.v12&utm_medium=web&utm_campaign=static\" class=\"b-link \">\\u041c\\u0435\\u0442\\u0440\\u0438\\u043a\\u0430</a></div><div class=\"b-inline b-footer__link_business\"><a href=\"https://advertising.yandex.ru/?from=main_bottom\" class=\"b-link \">\\u0420\\u0435\\u043a\\u043b\\u0430\\u043c\\u0430</a></div><div class=\"b-inline b-footer__link_business\"><a href=\"https://set.yandex.ru\" class=\"b-link \">\\u042f\\u043d\\u0434\\u0435\\u043a\\u0441 \\u043f\\u043e \\u0443\\u043c\\u043e\\u043b\\u0447\\u0430\\u043d\\u0438\\u044e</a></div></div></div></td><td class=\"b-footer__col b-footer__col-right\"><div class=\"b-footer-links\"><div class=\"b-inline b-footer__link b-footer__link_help\"><a href=\"https://yandex.ru/support/\" class=\"b-link b-inline\" title=\"\\u041f\\u043e\\u043c\\u043e\\u0449\\u044c\"><i class=\"b-ico b-ico-help\"></i></a></div><div class=\"b-inline b-footer__link b-footer__link_feedback\"><a href=\"https://feedback2.yandex.ru/default/\" class=\"b-link b-inline\" title=\"\\u0421\\u043b\\u0443\\u0436\\u0431\\u0430 \\u043f\\u043e\\u0434\\u0434\\u0435\\u0440\\u0436\\u043a\\u0438\"><i class=\"b-ico b-ico-feedback\"></i></a></div><div class=\"b-inline b-footer__link b-footer__link_vacancies\"><a href=\"https://yandex.ru/jobs\" class=\"b-link \">\\u0412\\u0430\\u043a\\u0430\\u043d\\u0441\\u0438\\u0438</a></div><div class=\"b-inline b-footer__link b-footer__link_blog\"><a href=\"https://blog.yandex.ru\" class=\"b-link \">\\u0411\\u043b\\u043e\\u0433</a></div><div class=\"b-inline b-footer__link b-footer__link_company\"><a href=\"https://yandex.ru/company/\" class=\"b-link \">\\u041e \\u043a\\u043e\\u043c\\u043f\\u0430\\u043d\\u0438\\u0438</a></div><div class=\"b-inline b-footer__link b-footer__link_about\"><a href=\"https://company.yandex.com/\" class=\"b-link \">About</a></div><div class=\"b-footer__level b-footer__link\">&copy;&#160;\\u042f\\u043d\\u0434\\u0435\\u043a\\u0441</div></div></td></tr></table></div><div class=\"b-wdgt-control\"><div class=\"b-widget__control\"><a id=\"b-wdgt-setup_button\" class=\"b-widget__control__setup\" href=\"?edit=1\"  title=\"\\u041d\\u0430\\u0441\\u0442\\u0440\\u043e\\u0438\\u0442\\u044c\"><i class=\"b-ico-widget-ctrls\"></i></a><a id=\"b-wdgt-send_button\" class=\"b-widget__control__send\" href=\"?edit=1\"  title=\"\\u041f\\u043e\\u0434\\u0435\\u043b\\u0438\\u0442\\u044c\\u0441\\u044f \\u0432\\u0438\\u0434\\u0436\\u0435\\u0442\\u043e\\u043c\"><i class=\"b-ico-widget-ctrls\"></i></a><a id=\"b-wdgt-del_button\" class=\"b-widget__control__del\" href=\"?edit=1\"  title=\"\\u0423\\u0434\\u0430\\u043b\\u0438\\u0442\\u044c\"><i class=\"b-ico-widget-ctrls\"></i></a></div></div><span data-xapp=\"statlogger\" data-showid=\"22884.31507.1446740995.49049\" data-enabled=\"false\" data-statroot=\"\" data-redirhost=\"http://yandex.ru/clck/\" data-clckhost=\"http://yandex.ru/clck/\"></span><script src=\"//yastatic.net/jquery/1.8.3/jquery.min.js\"></script><script src=\"//yastatic.net/www/2.564/rapido/pages/big/_big.ru.templates.js\"></script><script>getcss(\\'//yastatic.net/www/_/O/Y/G2rzsIfBmf0So7iB81bFdQ5lc.css\\');</script><noscript><link type=\"text/css\" rel=\"stylesheet\" href=\"//yastatic.net/www/_/O/Y/G2rzsIfBmf0So7iB81bFdQ5lc.css\"></noscript><div class=\"domik__nojs\"><div class=\"i-bem popup b-topbar__popup popup_theme_flat popup_direction_down popup_autoclosable_yes popup_adaptive_yes popup_animate_yes\" data-bem=\"{&quot;popup&quot;:[]}\"><div class=\"popup__under\"></div><div class=\"popup__content\"><div class=\"b-topbar__domik\"><form class=\"i-bem auth auth_qr_no\" method=\"POST\" onclick=\"return {\\'auth\\':{}}\" action=\"https://passport.yandex.ru/passport?mode=auth&retpath=https://mail.yandex.ru\"  role=\"form\" aria-label=\"\\u0410\\u0432\\u0442\\u043e\\u0440\\u0438\\u0437\\u0430\\u0446\\u0438\\u044f\"><div class=\"auth__row\"><div class=\"domik__title\"><h2><a href=\"https://mail.yandex.ru\" class=\"b-link \">\\u041f\\u043e\\u0447\\u0442\\u0430</a></h2></div><div class=\"auth__register\"><a href=\"https://passport.yandex.ru/registration/mail?mode=simplereg&require_hint=1&retpath=https://mail.yandex.ru%2F%3Forigin%3Dhome_ru_hint&origin=home_ru_hint\" class=\"b-link b-morda-button b-morda-button_size_22\" tabindex=\"8\">\\u0417\\u0430\\u0432\\u0435\\u0441\\u0442\\u0438&nbsp;\\u044f\\u0449\\u0438\\u043a</a></div></div><div class=\"auth__username\"><span class=\"input input_theme_normal input_size_s input_domik_yes i-bem\" data-bem=\"{&quot;input&quot;:{}}\"><label for=\"uniq7454826619941741\" class=\"input__hint input__hint_fallback_yes\">\\u041b\\u043e\\u0433\\u0438\\u043d</label><span class=\"input__box\"><input class=\"input__control input__input\" tabindex=\"100\" id=\"uniq7454826619941741\" name=\"login\" placeholder=\"\\u041b\\u043e\\u0433\\u0438\\u043d\"/><span class=\"input__clear\" unselectable=\"on\">&nbsp;</span></span></span></div><div class=\"auth__password\"><span class=\"input input_theme_normal input_size_s input_type_password input_domik_yes i-bem\" data-bem=\"{&quot;input&quot;:{}}\"><label for=\"uniq9789020556490868\" class=\"input__hint input__hint_fallback_yes\">\\u041f\\u0430\\u0440\\u043e\\u043b\\u044c</label><span class=\"input__box\"><input class=\"input__control input__input\" tabindex=\"101\" maxlength=\"256\" id=\"uniq9789020556490868\" name=\"passwd\" placeholder=\"\\u041f\\u0430\\u0440\\u043e\\u043b\\u044c\" type=\"password\"/><span class=\"input__clear\" unselectable=\"on\">&nbsp;</span></span></span></div><div class=\"auth__row\"><div class=\"auth__haunter\"><span class=\"i-bem checkbox checkbox_theme_normal checkbox_size_s\" onclick=\"return {\\'checkbox\\':{}}\"><span class=\"checkbox__box\"><input class=\"checkbox__control\" id=\"auth-haunter\" tabindex=\"102\" autocomplete=\"off\" name=\"twoweeks\" value=\"no\" type=\"checkbox\"><i class=\"checkbox__tick\"></i></span><label class=\"checkbox__label\" for=\"auth-haunter\">\\u0447\\u0443\\u0436\\u043e\\u0439 \\u043a\\u043e\\u043c\\u043f\\u044c\\u044e\\u0442\\u0435\\u0440</label></span></div></div><div class=\"auth__row\"><div class=\"auth__button\"><button class=\"button auth__login-button button_size_s button_theme_normal i-bem\" data-bem=\"{&quot;button&quot;:{}}\" role=\"button\" tabindex=\"103\" type=\"submit\"><span class=\"button__text\">\\u0412\\u043e\\u0439\\u0442\\u0438</span></button></div><div class=\"auth__social\"></div><a href=\"\" class=\"b-link b-link_pseudo_yes auth__notme\"><span class=\"b-link__inner\">\\u044d\\u0442\\u043e&nbsp;\\u043d\\u0435&nbsp;\\u044f</span></a></div><div class=\"auth__remember\"><a href=\"https://passport.yandex.ru/passport?mode=restore\" class=\"b-link auth__remember-link\" tabindex=\"107\">\\u0432\\u0441\\u043f\\u043e\\u043c\\u043d\\u0438\\u0442\\u044c \\u043f\\u0430\\u0440\\u043e\\u043b\\u044c</a></div></form><div class=\"b-topbar__toggler\" aria-hidden=\"true\"><span class=\"b-link b-link_inner_yes b-link_pseudo_yes \"><img class=\"b-icon b-ico-arrow_up\" src=\"//yastatic.net/lego/_/La6qi18Z8LwgnZdsAr1qy1GwCwo.gif\"/><span class=\"b-link__inner\"></span></span></div></div></div></div></div><script>window.home=window.home||{};window.home[\\'export\\']={\"widgets\":{\"baseURL\":\"//widgets.yandex.ru?consumer=www\"},\"b-timing\":{\"data\":{\"vars\":{\"143\":\"28.15.899\",\"287\":\"87\",\"1961\":0,\"1964\":0,\"1965\":0},\"reqid\":\"22884.31507.1446740995.49049\"}},\"exp\":{\"data\":[],\"linksNewTab\":false},\"i-yandexuid\":{\"data\":{\"cb_url\":\"http://www.yandex.ru/jcb/lsychk/?rz=ru&sk=y69d31142960d75836bd97aaf5ce0bfa5\",\"ls\":{\"value\":\"v1.0_6272743171446740995:1446740995\",\"key\":\"yandexuid\"},\"prefix\":\"v1.0_\"}},\"i-mda-auth\":{\"url\":\"http://www.yandex.ru/y/?retdom=ru&sk=y69d31142960d75836bd97aaf5ce0bfa5&ww=1&empty=1\"},\"datetime\":{\"data\":{\"monthArr\":[\"\\u044f\\u043d\\u0432\\u0430\\u0440\\u044f\",\"\\u0444\\u0435\\u0432\\u0440\\u0430\\u043b\\u044f\",\"\\u043c\\u0430\\u0440\\u0442\\u0430\",\"\\u0430\\u043f\\u0440\\u0435\\u043b\\u044f\",\"\\u043c\\u0430\\u044f\",\"\\u0438\\u044e\\u043d\\u044f\",\"\\u0438\\u044e\\u043b\\u044f\",\"\\u0430\\u0432\\u0433\\u0443\\u0441\\u0442\\u0430\",\"\\u0441\\u0435\\u043d\\u0442\\u044f\\u0431\\u0440\\u044f\",\"\\u043e\\u043a\\u0442\\u044f\\u0431\\u0440\\u044f\",\"\\u043d\\u043e\\u044f\\u0431\\u0440\\u044f\",\"\\u0434\\u0435\\u043a\\u0430\\u0431\\u0440\\u044f\"],\"monthShortArr\":[\"\\u044f\\u043d\\u0432.\",\"\\u0444\\u0435\\u0432\\u0440.\",\"\\u043c\\u0430\\u0440\\u0442\\u0430\",\"\\u0430\\u043f\\u0440.\",\"\\u043c\\u0430\\u044f\",\"\\u0438\\u044e\\u043d\\u044f\",\"\\u0438\\u044e\\u043b\\u044f\",\"\\u0430\\u0432\\u0433.\",\"\\u0441\\u0435\\u043d\\u0442.\",\"\\u043e\\u043a\\u0442.\",\"\\u043d\\u043e\\u044f\\u0431.\",\"\\u0434\\u0435\\u043a.\"],\"weekArr\":[\"\\u0432\\u043e\\u0441\\u043a\\u0440\\u0435\\u0441\\u0435\\u043d\\u044c\\u0435\",\"\\u043f\\u043e\\u043d\\u0435\\u0434\\u0435\\u043b\\u044c\\u043d\\u0438\\u043a\",\"\\u0432\\u0442\\u043e\\u0440\\u043d\\u0438\\u043a\",\"\\u0441\\u0440\\u0435\\u0434\\u0430\",\"\\u0447\\u0435\\u0442\\u0432\\u0435\\u0440\\u0433\",\"\\u043f\\u044f\\u0442\\u043d\\u0438\\u0446\\u0430\",\"\\u0441\\u0443\\u0431\\u0431\\u043e\\u0442\\u0430\"],\"template\":\"<span class=\\\\\"datetime__date\\\\\"><span class=\\\\\"datetime__day\\\\\">[% day %] </span><span class=\\\\\"datetime__month\\\\\">[% month %], </span><span class=\\\\\"datetime__wday\\\\\">[% wday %] </span></span>\"}},\"b-time-banner\":{\"data\":{\"empty\":true}},\"inline-stocks\":{\"xivas\":[{\"ch\":\"XDATA.stocks_2002_10000\",\"ts\":1446739976},{\"ch\":\"XDATA.stocks_2000_10000\",\"ts\":1446739976},{\"ch\":\"XDATA.stocks_1006_10000\",\"ts\":1446738300}],\"editLink\":\"http://www.yandex.ru/?edit=1#open=_stocks\",\"alts\":{\"1006\":\"\\u0446\\u0435\\u043d\\u0430 \\u043d\\u0430 %d %t\",\"2000\":\"\\u043a\\u0443\\u0440\\u0441 \\u041c\\u041c\\u0412\\u0411 \\u043d\\u0430 %d %t \\u043c\\u0441\\u043a\",\"2002\":\"\\u043a\\u0443\\u0440\\u0441 \\u041c\\u041c\\u0412\\u0411 \\u043d\\u0430 %d %t \\u043c\\u0441\\u043a\"}},\"b-head-tabs\":{\"exp\":{\"links_newtab_noserp\":false,\"links_newtab_serp\":false}},\"i-missclick\":{\"data\":{\"plain\":1,\"blocks\":[\"topnews\",\"teaser\",\"geo\",\"services\",\"weather\",\"tv\"]}},\"focus-count\":{\"data\":{\"stat\":\"\"}},\"worker-message\":{\"data\":{\"workerName\":\"big_ru.ru\",\"extensionId\":\"ihhcdinmaceokcdmbddlclfejhadgpgg\"}},\"consistency\":{\"data\":{\"type\":\"none\",\"content\":\"big\",\"timeout\":12564.06557187438,\"custom\":{},\"url\":\"http://www.yandex.ru/y/?retdom=ru&sk=y69d31142960d75836bd97aaf5ce0bfa5&csc=1&empty=1\",\"all\":true}}};</script><script>BEM.DOM.scope=$(\\'body\\');Lego.init({id: \\'morda\\',\\'pass-host\\': \\'//pass.yandex.ru\\',\\'passport-host\\': \\'https://passport.yandex.ru\\',\\'registerUrl\\': \\'https://passport.yandex.ru/passport?mode=register&msg=mail&retpath=https%3A%2F%2Fmail.yandex.ru%2F%3Forigin%3Dbetahomedomik_ru_nol&origin=betahomedomik_ru_nol\\',\\'social-host\\': \\'https://social.yandex.ru\\',\\'social-retpath\\': \\'http://www.yandex.ru/i-social__closer.html\\',\\'social-providers\\': [{\"primary\":1,\"id\":\"1\",\"display_name\":\"\\u0412\\u041a\\u043e\\u043d\\u0442\\u0430\\u043a\\u0442\\u0435\",\"code\":\"vk\",\"enabled\":1},{\"primary\":1,\"id\":\"2\",\"display_name\":\"Facebook\",\"code\":\"fb\",\"enabled\":1},{\"primary\":1,\"id\":\"3\",\"display_name\":\"Twitter\",\"code\":\"tw\",\"enabled\":1},{\"primary\":0,\"id\":\"4\",\"display_name\":\"Mail.ru\",\"code\":\"mr\",\"enabled\":1},{\"primary\":0,\"id\":\"5\",\"display_name\":\"Google\",\"code\":\"gg\",\"enabled\":1},{\"primary\":0,\"id\":\"6\",\"display_name\":\"\\u041e\\u0434\\u043d\\u043e\\u043a\\u043b\\u0430\\u0441\\u0441\\u043d\\u0438\\u043a\\u0438\",\"code\":\"ok\",\"enabled\":1},{\"primary\":0,\"id\":\"7\",\"display_name\":\"\\u042f.\\u041a\\u043b\\u044e\\u0447\",\"code\":\"qr\",\"enabled\":1,\"url\":\"https://passport.yandex.ru/auth?mode=qr&retpath=https://mail.yandex.ru\"}],\\'social-sprites\\': {16: \\'//yastatic.net/social/current/sprites/ico-16.png\\'},\\'mailHost\\': \\'https://mail.yandex.ru\\',\\'locale\\': \\'ru\\',\\'lang\\': \\'ru\\',\\'lang-zone\\': \\'ru\\',\\'statRoot\\': \\'\\',\\'statEnabled\\': false,\\'msid\\': \\'22884.31507.1446740995.49049\\',\\'lego-static-host\\': \\'//yastatic.net/lego/2.10-169/\\',\\'keyboard-path\\':\\'//yastatic.net/www/2.564/common/blocks/\\',\\'mda-auth-url\\': \\'http://www.yandex.ru/y/?retdom=ru&sk=y69d31142960d75836bd97aaf5ce0bfa5&ww=1&empty=1\\',\\'domik\\': {\\'cookieSetLink\\': \\'\\'},\\'retpath\\': \\'https://mail.yandex.ru\\',\\'xivaUrl\\': \\'portal-xiva.yandex.net\\',\\'click-host\\': \\'yandex.ru/clck\\',\\'click-href\\': \\'http://yandex.ru/clck/\\'});BEM.DOM.init();Lego.oframebust([\\'metrika.yandex.ru\\']);</script><script>$(window).ready(function(){if (window.external && \"msIsSiteMode\" in window.external&& window.external.msIsSiteMode()) {window.external.msSiteModeCreateJumplist(\"\\u0421\\u0435\\u0440\\u0432\\u0438\\u0441\\u044b \\u042f\\u043d\\u0434\\u0435\\u043a\\u0441\\u0430\"); window.external.msSiteModeClearJumplist();var posts = [{\"n\":\"\\u041a\\u0430\\u0440\\u0442\\u044b\",\"u\":\"http://maps.yandex.ru/?from=pinned\",\"i\":\"http://yandex.st/lego/_/qFyz_p77Mklm6G-g9tbfmp6arrk.ico\"},{\"n\":\"\\u041c\\u0430\\u0440\\u043a\\u0435\\u0442\",\"u\":\"http://market.yandex.ru/?from=pinned\",\"i\":\"http://yandex.st/lego/_/qUrYP-q7tpBAiiIGw2drcOQ1OLk.ico\"},{\"n\":\"\\u041d\\u043e\\u0432\\u043e\\u0441\\u0442\\u0438\",\"u\":\"http://news.yandex.ru/?from=pinned\",\"i\":\"http://yandex.st/lego/_/l2V968dCa1zMr5TTWgVJQP6xPVU.ico\"},{\"n\":\"\\u0421\\u043b\\u043e\\u0432\\u0430\\u0440\\u0438\",\"u\":\"http://slovari.yandex.ru/?from=pinned\",\"i\":\"http://yandex.st/lego/_/gdtS6a0b5ZRt_6PIn1MCYzp2mNI.ico\"},{\"n\":\"\\u0411\\u043b\\u043e\\u0433\\u0438\",\"u\":\"http://blogs.yandex.ru/?from=pinned\",\"i\":\"http://yandex.st/lego/_/TS_g8TeGGDswpR4ufNJw3TS0-CM.ico\"},{\"n\":\"\\u0412\\u0438\\u0434\\u0435\\u043e\",\"u\":\"http://video.yandex.ru/?from=pinned\",\"i\":\"http://yandex.st/lego/_/Uk8wMlO6kp7jGPt0n6rTPeL77QE.ico\"},{\"n\":\"\\u041a\\u0430\\u0440\\u0442\\u0438\\u043d\\u043a\\u0438\",\"u\":\"http://images.yandex.ru/?from=pinned\",\"i\":\"http://yandex.st/lego/_/98fe7RGgatvcZCaXxF7ff2529Fk.ico\"}];for (var i = posts.length - 1; i >= 0; i--) {window.external.msSiteModeAddJumpListItem(posts[i].n, posts[i].u, posts[i].i);}window.external.msSiteModeShowJumplist();}});</script><script>;window.mordaCookieCopy=1;</script><script>$(function(){if(!home.disabledLS&&home&&home.getData){var e=home.localStorage,a=home.getData(\"i-yandexuid.data\")||{},t=function(e){return e.split(\":\")[0]},l=function(e){var a=document.cookie.match(new RegExp(e+\"=(\\\\\\\\d+)\"));return a&&a[1]},s=(a.prefix,a.cb_url),o=function(a){if(a.ls){var o=\"yandexuid\"===a.ls.key?\"yu\":a.ls.key,u=a.ls.value,n=e.getItem(o)||null,i=l(a.ls.key);if(n&&a.prefix+i!==t(n)||a.ls.force||!i){var r=a.ls;r.old=i,a.ls.force||(r.value=n),$.ajax({url:s,data:r,type:\"POST\",dataType:\"json\",crossDomain:!0,xhrFields:{withCredentials:!0},success:function(a){a.jsmda_url&&BEM&&BEM.blocks&&BEM.blocks[\"i-mda-auth\"]&&(window.Lego||(window.Lego={params:{}}),Lego.params[\"mda-auth-url\"]=a.jsmda_url,BEM.blocks[\"i-mda-auth\"].authenticate()),a.clean_ls&&e.setItem(o,\"\"),a.update_ls&&e.setItem(o,u)}})}else e.setItem(o,u)}};!a.ls&&a.ls_data_url?$.ajax({dataType:\"jsonp\",url:a.ls_data_url}).then(function(e){a.ls=e,o(a)}):o(a)}});</script><script>BEM && BEM.blocks[\\'i-mda-auth\\'] && BEM.blocks[\\'i-mda-auth\\'].authenticate(function(){});</script><script>var tabParams = {\"noSearchDefParamsMap\":{\"market\":{\"clid\":\"505\"},\"avia\":{\"utm_source\":\"yamain\",\"utm_medium\":\"popup\",\"utm_campaign\":\"allru\"},\"afisha\":{},\"gorod\":{\"utm_source\":\"yamain\",\"utm_medium\":\"more\"},\"disk\":{\"source\":\"services-main\"},\"master\":{\"utm_source\":\"yamain\",\"utm_medium\":\"more\"},\"realty\":{\"from\":\"morda_tab\"},\"travel\":{\"from\":\"morda\",\"utm_source\":\"yandex_morda_tab\",\"utm_medium\":\"cpm\",\"utm_campaign\":\"yandex\",\"utm_content\":\"tab_exp\"},\"soft\":{\"from\":\"prov_all\"}},\"searchDefParamsMap\":{\"maps\":{\"source\":\"morda\"},\"market\":{\"cvredirect\":\"2\",\"clid\":\"527\"},\"news\":{\"rpt\":\"nnews2\",\"grhow\":\"clutop\"},\"video\":{},\"blogs\":{\"ft\":\"blog\"},\"yaca\":{\"rpt\":\"rs2\"},\"pogoda\":{},\"people\":{\"filter\":\"people\"}},\"url\":{\"search\":\"//www.yandex.ru/\",\"maps\":\"https://maps.yandex.ru/\",\"market\":\"https://market.yandex.ru/\",\"news\":\"https://news.yandex.ru/\",\"translate\":\"https://translate.yandex.ru/\",\"images\":\"//yandex.ru/images/\",\"video\":\"//yandex.ru/video\",\"more\":\"http://www.yandex.ru/all\",\"avia\":\"//avia.yandex.ru/\",\"autoru\":\"http://auto.ru\",\"afisha\":\"https://afisha.yandex.ru/\",\"blogs\":\"//blogs.yandex.ru/\",\"gorod\":\"https://gorod.yandex.ru/\",\"money\":\"https://money.yandex.ru/\",\"disk\":\"https://disk.yandex.ru/\",\"ege\":\"//ege.yandex.ru/\",\"yaca\":\"http://yaca.yandex.ru/\",\"master\":\"https://master.yandex.ru/\",\"realty\":\"//realty.yandex.ru/\",\"pogoda\":\"https://pogoda.yandex.ru/\",\"people\":\"//yandex.ru/people\",\"mail\":\"https://mail.yandex.ru/\",\"traffic\":\"https://probki.yandex.ru/\",\"travel\":\"https://travel.yandex.ru/\",\"rabota\":\"https://rabota.yandex.ru/\",\"rasp\":\"https://rasp.yandex.ru/\",\"slovari\":\"//slovari.yandex.ru/\",\"tv\":\"https://tv.yandex.ru/87/\",\"fotki\":\"http://fotki.yandex.ru/\",\"mobile\":\"//mobile.yandex.ru/\",\"soft\":\"http://soft.yandex.ru/\",\"all\":\"//www.yandex.ru/all\"},\"searchUrl\":{\"maps\":\"https://maps.yandex.ru/\",\"market\":\"https://market.yandex.ru/search.xml\",\"news\":\"https://news.yandex.ru/yandsearch\",\"translate\":\"https://translate.yandex.ru/\",\"images\":\"//yandex.ru/images/search\",\"video\":\"//yandex.ru/video/search\",\"blogs\":\"//blogs.yandex.ru/search.xml\",\"yaca\":\"http://yaca.yandex.ru/yandsearch\",\"pogoda\":\"https://pogoda.yandex.ru/search\",\"people\":\"//yandex.ru/yandsearch\",\"traffic\":\"https://maps.yandex.ru/\",\"rabota\":\"https://rabota.yandex.ru/search.xml/\",\"slovari\":\"//slovari.yandex.ru/search.xml\",\"fotki\":\"http://fotki.yandex.ru/search.xml\"},\"commonParams\":{},\"searchParamName\":{\"maps\":\"text\",\"market\":\"text\",\"news\":\"text\",\"translate\":\"text\",\"images\":\"text\",\"video\":\"text\",\"blogs\":\"text\",\"yaca\":\"text\",\"pogoda\":\"request\",\"people\":\"text\",\"traffic\":\"text\",\"rabota\":\"text\",\"slovari\":\"text\",\"fotki\":\"text\"},\"defaultSearchParamName\":\"text\"};</script><script>$(function(){wdgtControl($(\\'.b-wrapper-tv\\'),\\'tv\\')});</script><script>$(function(){wdgtControl($(\\'.b-wrapper-services\\'),\\'services\\')});</script><script>workerMessage(\"enable\");</script><script>setTimeout(function(){var bannerData = {\"bnH\":\"0\",\"bnImg\":\"\",\"bnHref\":\"\",\"bnFlashUrl\":\"\",\"bnCounts\":[\"http://awaps.yandex.net/99/c1/tx21lszVAoU5vGvVMTT5HdZERv2r9iSDrNklH+KEivNHhTuBiTO3tKarderqf_tPQRryjJ16-yO4jiU3q3iSp9Tymqf7OiMZlOzRSK97IllSSjSI51pU6MEUEvl_tgxCCtLGg7OqcR1WpKZ0w9IqlbQOq8fM8VTeswY8IBD4KGm7ku7mLG9TsBTGx_tFSegC7j3k440K8hkzKb9tpnvPhgSBZWsI0ooronZ4rTgd0mg8EkGnb-Cs25c_tIUm8FI2wOfkgpZE85HCjdjA-ECPTU8Aroh85z2NVsZkc5XqdguXCq+zlHZjE_PTKkH4hCoR6fK27FFniCG_A_.gif\",\"\"],\"gif_tizer\":0,\"section\":\"9001\",\"bnW\":\"0\",\"bnCount\":\"http://awaps.yandex.net/99/c1/tx21lszVAoU5vGvVMTT5HdZERv2r9iSDrNklH+KEivNHhTuBiTO3tKarderqf_tPQRryjJ16-yO4jiU3q3iSp9Tymqf7OiMZlOzRSK97IllSSjSI51pU6MEUEvl_tgxCCtLGg7OqcR1WpKZ0w9IqlbQOq8fM8VTeswY8IBD4KGm7ku7mLG9TsBTGx_tFSegC7j3k440K8hkzKb9tpnvPhgSBZWsI0ooronZ4rTgd0mg8EkGnb-Cs25c_tIUm8FI2wOfkgpZE85HCjdjA-ECPTU8Aroh85z2NVsZkc5XqdguXCq+zlHZjE_PTKkH4hCoR6fK27FFniCG_A_.gif\",\"bnAlt\":\"\",\"originUrl\":\"\",\"flashvars\":\"\",\"flashV\":\"0\",\"bnFlash\":\"\",\"minFlashVersion\":\"\"};var bannerElem = $(\"#bc\");bannerElem.before(AwapsJsonAPI.Json.prototype.getHTML(bannerData));AwapsJsonAPI.Json.prototype.expand(bannerData)}, 100);</script><script src=\"https://mc.yandex.ru/metrika/watch.js\" type=\"text/javascript\"></script><script type=\"text/javascript\">(function(w){try{w[\\'yaCounter722545\\']=new Ya.Metrika({\"id\":722545,\"accurateTrackBounce\":10000,\"trackLinks\":true});if (!w[\\'defaultMetrikaCounter\\']) {w[\\'defaultMetrikaCounter\\']=w[\\'yaCounter722545\\']}}catch(e){}})(window)</script><noscript><div><img src=\"https://mc.yandex.ru/watch/722545\" style=\"position:absolute; left:-9999px;\" alt=\"\"/></div></noscript><img src=\"http://yabs.yandex.ru/count/LYb8h36mywK40WW0gOA0ZhD0k6C5KP6yq4ba1fDKhlpgesKUeyqZ1S7__________mz-1000=Okz4hgcYW00WbGAR1cbQYhtCL5a3fQE1G0Q8j5qY1mUcX0cn0RAW0002nOyFql__________3zF__________mzz1m00?wmode=0\" style=\"display:none; position:absolute;\" /><noscript class=\"i-flashcookie i-flashcookie_type_inline g-js\" onclick=\"return {name:\\'i-flashcookie\\'}\"><span style=\"background:url(//kiks.yandex.ru/fu/) no-repeat;\"></span></noscript><i class=\"b-counter\" style=\"background: url(//www.tns-counter.ru/V13a**cded60c8e20b74a4a60500e3b33e4dd2**yandex_ru/ru/CP1251/tmsec=yandex_main/0);\"></i><div style=\"display:none\" class=\"page-info\">{\"static\":\"2.564\",\"skins\":\"1.140\"}</div><!--s23.wfront.yandex.net--></body></html>'"
      ]
     },
     "execution_count": 5,
     "metadata": {},
     "output_type": "execute_result"
    }
   ],
   "source": [
    "response.text"
   ]
  },
  {
   "cell_type": "code",
   "execution_count": 8,
   "metadata": {
    "collapsed": false
   },
   "outputs": [
    {
     "data": {
      "text/plain": [
       "u'<!DOCTYPE html><html class=\"i-ua_js_no i-ua_css_standart i-ua_browser_unknown\" lang=\"ru\"><head xmlns:og=\"http://ogp.me/ns#\"><meta http-equiv=\"X-UA-Compatible\" content=\"IE=edge\"><title>\\u042f\\u043d\\u0434\\u0435\\u043a\\u0441</title><meta http-equiv=Content-Type content=\"text/html;charset=UTF-8\"><link rel=\"apple-touch-icon\" href=\"//yastatic.net/morda-logo/i/apple-touch-icon/ru-76x76.png\" sizes=\"76x76\"><link rel=\"apple-touch-icon\" href=\"//yastatic.net/morda-logo/i/apple-touch-icon/ru-120x120.png\" sizes=\"120x120\"><link rel=\"apple-touch-icon\" href=\"//yastatic.net/morda-logo/i/apple-touch-icon/ru-152x152.png\" sizes=\"152x152\"><link rel=\"apple-touch-icon\" href=\"//yastatic.net/morda-logo/i/apple-touch-icon/ru-180x180.png\" sizes=\"180x180\"><link rel=\"alternate\" type=\"application/rss+xml\" title=\"\\u041d\\u043e\\u0432\\u043e\\u0441\\u0442\\u0438 \\u042f\\u043d\\u0434\\u0435\\u043a\\u0441\\u0430\" href=\"//company.yandex.ru/news/news.rss\"><link rel=\"alternate\" type=\"application/rss+xml\" title=\"\\u0411\\u043b\\u043e\\u0433 \\u042f\\u043d\\u0434\\u0435\\u043a\\u0441\\u0430\" href=\"//company.yandex.ru/blog/index.rss\"><link rel=\"search\" href=\"//yandex.ru/opensearch.xml\" title=\"\\u042f\\u043d\\u0434\\u0435\\u043a\\u0441\" type=\"application/opensearchdescription+xml\"><link rel=\"shortcut icon\" href=\"//yastatic.net/morda-logo/i/favicon_islands.ico\"><meta property=\"og:title\" content=\"\\u042f\\u043d\\u0434\\u0435\\u043a\\u0441\"><meta property=\"og:type\" content=\"website\"><meta property=\"og:image\" content=\"//yastatic.net/morda-logo/i/share-logo-ru.png\"><meta property=\"og:site_name\" content=\"\\u042f\\u043d\\u0434\\u0435\\u043a\\u0441\"><meta property=\"og:locale\" content=\"ru_RU\"><meta property=\"og:description\" content=\"\\u041d\\u0430\\u0439\\u0434\\u0451\\u0442\\u0441\\u044f \\u0432\\u0441\\u0451\"><script>function Detector(){\"use strict\";var e=\"detector\",t=document.documentElement;return{isPlaceholderSupported:function(){return\"placeholder\"in document.createElement(\"input\")},getCSS3TransformProperty:function(){for(var e=document.documentElement.style,t=[\"transform\",\"MozTransform\",\"MsTransform\",\"msTransform\",\"WebkitTransform\",\"OTransform\"],n=\"\",i=0,r=t.length;r>i;++i)if(void 0!==e[t[i]]){n=t[i];break}return this.getCSS3TransformProperty=function(){return n},n},checkDataURLSupport:function(e){var t=new Image;t.onload=t.onerror=function(){e(1===this.width&&1===this.height)},t.src=\"data:image/gif;base64,R0lGODlhAQABAIAAAAAAAP///ywAAAAAAQABAAACAUwAOw==\"},isActivexEnabled:function(){var e=!1;try{e=!!new window.ActiveXObject(\"htmlfile\")}catch(t){e=!1}return e},isWin64:function(){return window.navigator&&\"Win64\"===window.navigator.platform},isFullScreen:function(){return window.innerWidth&&window.screen&&window.screen.width&&window.screen.height&&window.innerHeight&&window.innerWidth===screen.width&&window.innerHeight===screen.height},isIEMetroMode:function(){return this.isFullScreen()&&this.isWin64()&&!this.isActivexEnabled()},isSVGSupported:function(){if(\"opera\"in window)return!1;var e=document.createElement(\"svg\");return e.innerHTML=\"<svg/>\",e.firstChild&&\"http://www.w3.org/2000/svg\"===e.firstChild.namespaceURI},injectElementWithStyles:function(n,i,r,o){var a,d,s,u,l=document.createElement(\"div\"),c=document.body,m=c||document.createElement(\"body\");if(parseInt(r,10))for(;r--;)s=document.createElement(\"div\"),s.id=o?o[r]:e+(r+1),l.appendChild(s);return a=[\"&#173;\",\\'<style id=\"s\\',e,\\'\">\\',n,\"</style>\"].join(\"\"),l.id=e,(c?l:m).innerHTML+=a,m.appendChild(l),c||(m.style.background=\"\",m.style.overflow=\"hidden\",u=t.style.overflow,t.style.overflow=\"hidden\",t.appendChild(m)),d=i(l,n),c?l.parentNode.removeChild(l):(m.parentNode.removeChild(m),t.style.overflow=u),!!d},isMQuerySupported:function(t){var n=window.matchMedia||window.msMatchMedia,i=!1;return n?i=n(t).matches:this.injectElementWithStyles(\"@media \"+t+\" { #\"+e+\" { position: absolute; } }\",function(e){i=\"absolute\"===(window.getComputedStyle?getComputedStyle(e,null):e.currentStyle).position}),i},isInlineBlockSupported:function(){var e,t=$(\\'<span style=\"display:none\"><div style=\"width:100px;display:inline-block\"></div><div style=\"width:100px;display:inline-block\"></div></span>\\');return $(\"body\").append(t),e=t.width()>100,t.remove(),e},isTransparentPNGSupported:function(){var e=navigator.userAgent.match(/MSIE (\\\\d+)/);return e&&e[1]?(e=parseFloat(e[1]),\"Microsoft Internet Explorer\"!==navigator.appName||e>6):!0},isAnimationSupported:function(){if(\"opera\"in window)return!1;for(var e=document.documentElement.style,t=[\"animationName\",\"webkitAnimationName\"],n=0,i=t.length;i>n;n++)if(void 0!==e[t[n]])return!0}}}function myMap(){this.rules={},this.rulesData=[]}myMap.prototype={add:function(e){return e=e||null,e&&!this.rules[e]&&(this.rulesData.push(e),this.rules[e]=this.rulesData.length-1),this},get:function(e){var t=this.rules[e];return t&&this.rulesData[t]||null},getAll:function(){return this.rulesData.join(\" \")}};var detector=new Detector;!function(){var e,t=new myMap;t.add(\"js\").add(\"i-ua_placeholder_\"+(detector.isPlaceholderSupported()?\"yes\":\"no\")).add(detector.isIEMetroMode()&&\"m-ie10-metro\").add(detector.isSVGSupported()?\"i-ua_inlinesvg_yes m-svg\":\"i-ua_inlinesvg_no no-data-url\").add(detector.isAnimationSupported()&&\"i-ua_animation_yes\").add(this.device&&\"m-touch\"),detector.checkDataURLSupport(function(e){e||(document.documentElement.className+=\" no-data-url\")}),this.document&&this.document.documentElement&&(e=this.document.documentElement,e.className=e.className.replace(\"i-ua_js_no\",\"i-ua_js_yes\")+\" \"+t.getAll())}();</script><link rel=\"stylesheet\" href=\"//yastatic.net/www/_/0/Q/TUMi9gx6eqV3evQV1Gmm_HZlM.css\"></head><body class=\"b-page css3-transition-off\"><table class=\"b-table layout__table\"><tr class=\"b-table__row layout__header\"><td class=\"b-table__cell layout__header-cell\"><div class=\"personal i-bem\" data-bem=\"{&quot;personal&quot;:{&quot;authUrl&quot;:&quot;http://www.yandex.ru/data/mail.js?yaru=y&quot;,&quot;retpath&quot;:&quot;http%3A%2F%2Fya.ru&quot;,&quot;stat&quot;:0}}\"><a href=\"https://mail.yandex.ru\" class=\"link_black_novisit link b-inline link_logout\" tabindex=\"3\"><div class=\"b-inline\">\\u0412\\u043e\\u0439\\u0442\\u0438&nbsp;\\u0432&nbsp;\\u043f\\u043e\\u0447\\u0442\\u0443</div></a></div></td></tr><tr class=\"b-table__row layout__search\"><td class=\"b-table__cell\"><form class=\"search2 suggest2-form suggest2-counter i-bem\" action=\"http://yandex.ru/search/\" role=\"search\" aria-label=\"\\u041f\\u043e\\u0438\\u0441\\u043a \\u0432 \\u0438\\u043d\\u0442\\u0435\\u0440\\u043d\\u0435\\u0442\\u0435\" onclick=\"return {&quot;suggest2-form&quot;:{},&quot;suggest2-counter&quot;:{&quot;service&quot;:&quot;morda_yaru&quot;,&quot;host&quot;:&quot;//yandex.ru/clck&quot;,&quot;path&quot;:&quot;jclck&quot;,&quot;submitBySelect&quot;:true,&quot;preventSubmit&quot;:true,&quot;suggestReqID&quot;:true,&quot;params&quot;:{&quot;dtype&quot;:&quot;stred&quot;,&quot;pid&quot;:&quot;0&quot;,&quot;cid&quot;:&quot;2873&quot;}},&quot;search2&quot;:{&quot;cleanOnSubmit&quot;:false,&quot;nl&quot;:true}}\"><div class=\"suggest2-form__node\"><div class=\"search2__button\"><button class=\"button suggest2-form__button button_theme_websearch button_size_xl i-bem\" data-bem=\"{&quot;button&quot;:{}}\" tabindex=\"-1\" role=\"button\" type=\"submit\"><span class=\"button__text\">\\u041d\\u0430\\u0439\\u0442\\u0438</span></button></div><div class=\"search2__input\"><span class=\"input suggest2-form__input input_size_xl input_theme_websearch input_search2-clear-hide_yes input_ahead_yes input_autofocus_capture input_clear_yes input_count_yes i-bem\" data-bem=\"{&quot;input&quot;:{&quot;live&quot;:false,&quot;autoFocus&quot;:true}}\"><span class=\"input__box\"><input class=\"input__control input__input\" tabindex=\"2\" autocomplete=\"off\" aria-label=\"\\u0417\\u0430\\u043f\\u0440\\u043e\\u0441\" id=\"text\" maxlength=\"400\" name=\"text\"/><span class=\"input__clear\" unselectable=\"on\">&nbsp;</span></span></span></div><div class=\"i-bem popup suggest2 suggest2_theme_transparent suggest2_size_m suggest2_adaptive_yes suggest2_ahead_yes popup_adaptive_yes popup_animate_no popup_autoclosable_yes popup_theme_ffffff\" data-bem=\"{&quot;popup&quot;:{&quot;directions&quot;:&quot;bottom-left&quot;},&quot;suggest2&quot;:{&quot;url&quot;:&quot;//suggest.yandex.ru/suggest-ya.cgi&quot;,&quot;data&quot;:{&quot;srv&quot;:&quot;morda_yaru&quot;,&quot;wiz&quot;:&quot;TrWth&quot;,&quot;lr&quot;:&quot;213&quot;,&quot;uil&quot;:&quot;ru&quot;,&quot;fact&quot;:1,&quot;v&quot;:4,&quot;icon&quot;:1,&quot;hl&quot;:1,&quot;html&quot;:1,&quot;n&quot;:5,&quot;yu&quot;:&quot;5641956121446741116&quot;},&quot;onFocus&quot;:&quot;show&quot;,&quot;aheadFromServer&quot;:true,&quot;submitBySelect&quot;:true,&quot;requestOnEmptyInput&quot;:false},&quot;suggest2-detect&quot;:{}}\"><div class=\"popup__under\"></div><div class=\"popup__content\"> </div></div></div></form></td></tr><tr class=\"b-table__row layout__footer\"><td class=\"b-table__cell\"><a href=\"//www.yandex.ru\" class=\"link layout__footer-logo\" 0=\" \" 1=\"t\" 2=\"a\" 3=\"b\" 4=\"i\" 5=\"n\" 6=\"d\" 7=\"e\" 8=\"x\" 9=\"=\" 10=\"&quot;\" 11=\"6\" 12=\"&quot;\" title=\"\\u042f\\u043d\\u0434\\u0435\\u043a\\u0441\"></a></td></tr></table><script src=\"//yastatic.net/jquery/1.8.3/jquery.min.js\"></script><script src=\"//yastatic.net/www/2.564/white/pages/yaru/_yaru.ru.templates.js\"></script><span data-xapp=\"statlogger\" data-showid=\"22906.11008.1446741116.93287\" data-enabled=\"false\" data-statroot=\"\" data-redirhost=\"http://yandex.ru/clck/\" data-clckhost=\"http://yandex.ru/clck/\"></span><span class=\"init__script\" data-xapp=\"init__script\" data-params=\"{&quot;locale&quot;:&quot;ru&quot;,&quot;msid&quot;:&quot;22906.11008.1446741116.93287&quot;,&quot;jsMdaUrl&quot;:&quot;&quot;,&quot;click-host&quot;:&quot;yandex.ru/clck&quot;,&quot;retpath&quot;:&quot;https://mail.yandex.ru&quot;}\"></span><script>window.home=window.home||{};window.home[\\'export\\']={\"i-mda-auth\":{\"url\":\"\"}};</script><script>Lego.init({\\'statRoot\\': \\'\\',\\'statEnabled\\': false,\\'msid\\': \\'22906.11008.1446741116.93287\\',\\'click-host\\': \\'yandex.ru/clck\\'});</script><script>BEM.DOM.init();</script><script>BEM && BEM.blocks[\\'i-mda-auth\\'] && BEM.blocks[\\'i-mda-auth\\'].authenticate(function(){});</script><script src=\"https://mc.yandex.ru/metrika/watch.js\" type=\"text/javascript\"></script><script type=\"text/javascript\">(function(w){try{w[\\'yaCounter723233\\']=new Ya.Metrika({\"id\":723233,\"trackLinks\":true});if (!w[\\'defaultMetrikaCounter\\']) {w[\\'defaultMetrikaCounter\\']=w[\\'yaCounter723233\\']}}catch(e){}})(window)</script><noscript><div><img src=\"https://mc.yandex.ru/watch/723233\" style=\"position:absolute; left:-9999px;\" alt=\"\"/></div></noscript><noscript class=\"i-flashcookie i-flashcookie_type_inline i-bem\" data-bem=\"{&quot;i-flashcookie&quot;:{}}\"><span style=\"background:url(//kiks.yandex.ru/fu/) no-repeat;\"></span></noscript><i class=\"b-counter\" style=\"background: url(//www.tns-counter.ru/V13a****yandex_ru/ru/CP1251/tmsec=yandex_ya/0);\"></i><!--s77.wfront.yandex.net--></body></html>'"
      ]
     },
     "execution_count": 8,
     "metadata": {},
     "output_type": "execute_result"
    }
   ],
   "source": [
    "requests.get('http://ya.ru').text"
   ]
  },
  {
   "cell_type": "code",
   "execution_count": 9,
   "metadata": {
    "collapsed": true
   },
   "outputs": [],
   "source": [
    "from bs4 import BeautifulSoup"
   ]
  },
  {
   "cell_type": "code",
   "execution_count": 13,
   "metadata": {
    "collapsed": false,
    "scrolled": true
   },
   "outputs": [
    {
     "name": "stdout",
     "output_type": "stream",
     "text": [
      "\n",
      "\n",
      "Wikipedia, the free encyclopedia\n",
      "document.documentElement.className = document.documentElement.className.replace( /(^|\\s)client-nojs(\\s|$)/, \"$1client-js$2\" );\n",
      "window.RLQ = window.RLQ || []; window.RLQ.push( function () {\n",
      "mw.config.set({\"wgCanonicalNamespace\":\"\",\"wgCanonicalSpecialPageName\":false,\"wgNamespaceNumber\":0,\"wgPageName\":\"Main_Page\",\"wgTitle\":\"Main Page\",\"wgCurRevisionId\":688747750,\"wgRevisionId\":688747750,\"wgArticleId\":15580374,\"wgIsArticle\":true,\"wgIsRedirect\":false,\"wgAction\":\"view\",\"wgUserName\":null,\"wgUserGroups\":[\"*\"],\"wgCategories\":[],\"wgBreakFrames\":false,\"wgPageContentLanguage\":\"en\",\"wgPageContentModel\":\"wikitext\",\"wgSeparatorTransformTable\":[\"\",\"\"],\"wgDigitTransformTable\":[\"\",\"\"],\"wgDefaultDateFormat\":\"dmy\",\"wgMonthNames\":[\"\",\"January\",\"February\",\"March\",\"April\",\"May\",\"June\",\"July\",\"August\",\"September\",\"October\",\"November\",\"December\"],\"wgMonthNamesShort\":[\"\",\"Jan\",\"Feb\",\"Mar\",\"Apr\",\"May\",\"Jun\",\"Jul\",\"Aug\",\"Sep\",\"Oct\",\"Nov\",\"Dec\"],\"wgRelevantPageName\":\"Main_Page\",\"wgRelevantArticleId\":15580374,\"wgIsProbablyEditable\":false,\"wgRestrictionEdit\":[\"sysop\"],\"wgRestrictionMove\":[\"sysop\"],\"wgIsMainPage\":true,\"wikilove-recipient\":\"\",\"wikilove-anon\":0,\"wgWikiEditorEnabledModules\":{\"toolbar\":true,\"dialogs\":true,\"preview\":false,\"publish\":false},\"wgBetaFeaturesFeatures\":[],\"wgMediaViewerOnClick\":true,\"wgMediaViewerEnabledByDefault\":true,\"wgVisualEditor\":{\"pageLanguageCode\":\"en\",\"pageLanguageDir\":\"ltr\",\"usePageImages\":true,\"usePageDescriptions\":true},\"wgGatherShouldShowTutorial\":true,\"wgGatherEnableSample\":0,\"wgGatherPageImageThumbnail\":\"//upload.wikimedia.org/wikipedia/commons/thumb/3/31/Prepared_pinol_in_two_large_mugs_ready_to_drink.jpg/100px-Prepared_pinol_in_two_large_mugs_ready_to_drink.jpg\",\"wgULSAcceptLanguageList\":[\"en-us\"],\"wgULSCurrentAutonym\":\"English\",\"wgFlaggedRevsParams\":{\"tags\":{\"status\":{\"levels\":1,\"quality\":2,\"pristine\":3}}},\"wgStableRevisionId\":null,\"wgCategoryTreePageCategoryOptions\":\"{\\\"mode\\\":0,\\\"hideprefix\\\":20,\\\"showcount\\\":true,\\\"namespaces\\\":false}\",\"wgNoticeProject\":\"wikipedia\",\"wgWikibaseItemId\":\"Q5296\",\"wgVisualEditorToolbarScrollOffset\":0}); /* @nomin */mw.loader.implement(\"user.options\",function($,jQuery){mw.user.options.set({\"variant\":\"en\"});});mw.loader.implement(\"user.tokens\",function ( $, jQuery ) {\n",
      "mw.user.tokens.set({\"editToken\":\"+\\\\\",\"patrolToken\":\"+\\\\\",\"watchToken\":\"+\\\\\"}); /* @nomin */ ;\n",
      "\n",
      "});mw.loader.load([\"mediawiki.page.startup\",\"mediawiki.legacy.wikibits\",\"ext.centralauth.centralautologin\",\"ext.gadget.WatchlistBase\",\"ext.gadget.WatchlistGreenIndicators\",\"mmv.head\",\"ext.visualEditor.desktopArticleTarget.init\",\"ext.uls.init\",\"ext.uls.interface\",\"ext.centralNotice.bannerController\",\"skins.vector.js\"]);\n",
      "} );\n",
      "\n",
      "\n",
      "\n",
      "a:lang(ar),a:lang(kk-arab),a:lang(mzn),a:lang(ps),a:lang(ur){text-decoration:none}\n",
      "\n",
      "\n",
      "\n",
      "\n",
      "\n",
      "\n",
      "\n",
      "\n",
      "\n",
      "\n",
      "\n",
      "\n",
      "\n",
      "\n",
      "\n",
      "\n",
      "\n",
      "\t\t\n",
      "\t\t\n",
      "\t\t\n",
      "\t\t\t\n",
      "\n",
      "\t\t\t\t\t\t\t\n",
      "\t\t\t\t\t\t\n",
      "\n",
      "\t\t\tMain Page\n",
      "\t\t\t\t\t\t\t\t\t\n",
      "\t\t\t\t\t\t\t\t\tFrom Wikipedia, the free encyclopedia\n",
      "\t\t\t\t\t\t\t\t\n",
      "\t\t\t\t\t\t\t\t\t\t\t\t\n",
      "\t\t\t\t\tJump to:\t\t\t\t\tnavigation, \t\t\t\t\tsearch\n",
      "\t\t\t\t\n",
      "\t\t\t\t\n",
      "\n",
      "\n",
      "\n",
      "\n",
      "\n",
      "Welcome to Wikipedia,\n",
      "the free encyclopedia that anyone can edit.\n",
      "5,003,145 articles in English\n",
      "\n",
      "\n",
      "\n",
      "\n",
      "\n",
      "\n",
      "Arts\n",
      "Biography\n",
      "Geography\n",
      "\n",
      "\n",
      "\n",
      "\n",
      "History\n",
      "Mathematics\n",
      "Science\n",
      "\n",
      "\n",
      "\n",
      "\n",
      "Society\n",
      "Technology\n",
      "All portals\n",
      "\n",
      "\n",
      "\n",
      "\n",
      "\n",
      "\n",
      "\n",
      "\n",
      "\n",
      "\n",
      "From today's featured article\n",
      "\n",
      "\n",
      "\n",
      "\n",
      "\n",
      "\n",
      "The four battlecruisers of the Mackensen class were the last to be built by Germany in World War I, but they were never completed, to free up wartime resources for more U-boats. The lead ship was named for Field Marshal August von Mackensen; the others were Graf Spee, Prinz Eitel Friedrich, and Fürst Bismarck. In response to these ships, the British Royal Navy began construction on the Admiral-class battlecruisers, but only one was completed, HMS Hood, after the war. The Mackensen class was an improvement on the preceding Derfflinger class, and was followed by the Ersatz Yorck class. That class was slated for larger guns than the 35 cm (14 in) main-battery guns of Mackensen, after the Battle of Jutland in 1916 demonstrated the need for larger guns, but little progress was made on those ships before they too were cancelled. The four Mackensen-class ships were broken up for scrap metal in the early 1920s. (Full article...)\n",
      "Part of the Battlecruisers of the world series, one of Wikipedia's featured topics.\n",
      "\n",
      "Recently featured:\n",
      "\n",
      "\n",
      "Il ritorno d'Ulisse in patria\n",
      "United States presidential election, 1880\n",
      "Shah Rukh Khan\n",
      "\n",
      "\n",
      "\n",
      "\n",
      "\n",
      "\n",
      "Archive\n",
      "By email\n",
      "More featured articles...\n",
      "\n",
      "\n",
      "\n",
      "\n",
      "\n",
      "\n",
      "\n",
      "Did you know...\n",
      "\n",
      "\n",
      "\n",
      "\n",
      "\n",
      "\n",
      "\n",
      "Pinol\n",
      "\n",
      "\n",
      "\n",
      "... that although pinol (pictured), a beverage made with toasted barley flour, unrefined sugar, and spices, was invented in the 20th century, it is already considered a traditional food of Ecuador?\n",
      "... that Stella Bloch headlined in New York after she returned from learning Javanese dance at the Prince of Solo's palace?\n",
      "... that Ni no Kuni: Dominion of the Dark Djinn was shipped on a 4-gigabit game card, in order to fit the orchestral music?\n",
      "... that historian Victor Langlois was tasked with researching the relations between Armenians and the French during the Crusades?\n",
      "... that the queen Bombus hyperboreus kills the queen of another bumblebee species and takes over its colony?\n",
      "... that Post Malone coined the song name \"White Iverson\" after getting braids in his hair, a reference to professional basketball player Allen Iverson?\n",
      "... that three days before committing a mass shooting and then suicide at Umpqua Community College, Christopher Harper-Mercer reportedly uploaded a documentary on the Sandy Hook Elementary School shooting?\n",
      "... that Teresa Borsuk's interest in architecture was sparked partly by Lego?\n",
      "\n",
      "\n",
      "\n",
      "Recently improved articles\n",
      "Start a new article\n",
      "Nominate an article\n",
      "\n",
      "\n",
      "\n",
      "\n",
      "\n",
      "\n",
      "\n",
      "\n",
      "\n",
      "\n",
      "\n",
      "\n",
      "In the news\n",
      "\n",
      "\n",
      "\n",
      "\n",
      "\n",
      "\n",
      "\n",
      "Victor Ponta\n",
      "\n",
      "\n",
      "\n",
      "At least 36 people are killed when an Antonov An-12 cargo plane crashes near Juba, South Sudan.\n",
      "Romanian Prime Minister Victor Ponta (pictured) resigns over the fatal Colectiv nightclub fire.\n",
      "Cyclone Chapala becomes the first hurricane-force storm on record to strike mainland Yemen.\n",
      "In horse racing, Michelle Payne becomes the first female jockey to win the Melbourne Cup, riding Prince of Penzance.\n",
      "In baseball, the Kansas City Royals defeat the New York Mets to win the World Series.\n",
      "\n",
      "\n",
      "Ongoing events:\n",
      "\n",
      "\n",
      "European migrant crisis\n",
      "\n",
      "\n",
      "\n",
      "Recent deaths:\n",
      "\n",
      "\n",
      "Tom Graveney\n",
      "Ahmed Chalabi\n",
      "Günter Schabowski\n",
      "\n",
      "\n",
      "\n",
      "\n",
      "\n",
      "\n",
      "\n",
      "\n",
      "\n",
      "On this day...\n",
      "\n",
      "\n",
      "\n",
      "\n",
      "\n",
      "November 5: Guy Fawkes Night in Great Britain and some Commonwealth countries (1605)\n",
      "\n",
      "\n",
      "George B. McClellan\n",
      "\n",
      "\n",
      "\n",
      "1138 – Lý Anh Tông was enthroned as emperor of Đại Việt at the age of two, starting a 37-year reign.\n",
      "1862 – American Civil War: Abraham Lincoln removed George B. McClellan (pictured) as commander of the Union Army for the second and final time.\n",
      "1943 – World War II: An unknown aircraft dropped four bombs on Vatican City, which maintained neutrality during the war.\n",
      "1990 – Ultra-Zionist rabbi Meir Kahane was assassinated in a New York City hotel by an Arab gunman.\n",
      "1995 – André Dallaire was thwarted in his attempt to assassinate Canadian Prime Minister Jean Chrétien when Chrétien's wife locked the door.\n",
      "\n",
      "\n",
      "More anniversaries:\n",
      "\n",
      "\n",
      "November 4\n",
      "November 5\n",
      "November 6\n",
      "\n",
      "\n",
      "\n",
      "\n",
      "\n",
      "\n",
      "Archive\n",
      "By email\n",
      "List of historical anniversaries\n",
      "\n",
      "\n",
      "\n",
      "Current date: November 5, 2015 (UTC)\n",
      "Reload this page\n",
      "\n",
      "\n",
      "\n",
      "\n",
      "\n",
      "\n",
      "\n",
      "\n",
      "\n",
      "\n",
      "\n",
      "\n",
      "\n",
      "\n",
      "\n",
      "\n",
      "Today's featured picture\n",
      "\n",
      "\n",
      "\n",
      "\n",
      "\n",
      "\n",
      "\n",
      "\n",
      "\n",
      "The Kid is a 1921 American silent comedy-drama film starring Charlie Chaplin and Jackie Coogan. This was Chaplin's first full-length film as a director; he also wrote and produced the film, which follows a young boy who is abandoned by his mother and raised by The Tramp. It was the second-highest grossing film in 1921. Innovative in its combination of comedic and dramatic elements, The Kid has been considered one of the greatest films of the silent era.\n",
      "Photograph: Unknown; restoration: Chris Woodrich\n",
      "\n",
      "Recently featured:\n",
      "\n",
      "\n",
      "Red squirrel\n",
      "Maddison Elliott\n",
      "Sambisari Temple\n",
      "\n",
      "\n",
      "\n",
      "\n",
      "\n",
      "\n",
      "Archive\n",
      "More featured pictures...\n",
      "\n",
      "\n",
      "\n",
      "\n",
      "\n",
      "\n",
      "\n",
      "\n",
      "\n",
      "\n",
      "\n",
      "\n",
      "\n",
      "Other areas of Wikipedia\n",
      "\n",
      "Community portal – Bulletin board, projects, resources and activities covering a wide range of Wikipedia areas.\n",
      "Help desk – Ask questions about using Wikipedia.\n",
      "Local embassy – For Wikipedia-related communication in languages other than English.\n",
      "Reference desk – Serving as virtual librarians, Wikipedia volunteers tackle your questions on a wide range of subjects.\n",
      "Site news – Announcements, updates, articles and press releases on Wikipedia and the Wikimedia Foundation.\n",
      "Village pump – For discussions about Wikipedia itself, including areas for technical issues and policies.\n",
      "\n",
      "\n",
      "\n",
      "Wikipedia's sister projects\n",
      "Wikipedia is hosted by the Wikimedia Foundation, a non-profit organization that also hosts a range of other projects:\n",
      "\n",
      "\n",
      "\n",
      "Commons\n",
      "Free media repository\n",
      "\n",
      "MediaWiki\n",
      "Wiki software development\n",
      "\n",
      "Meta-Wiki\n",
      "Wikimedia project coordination\n",
      "\n",
      "\n",
      "\n",
      "Wikibooks\n",
      "Free textbooks and manuals\n",
      "\n",
      "Wikidata\n",
      "Free knowledge base\n",
      "\n",
      "Wikinews\n",
      "Free-content news\n",
      "\n",
      "\n",
      "\n",
      "Wikiquote\n",
      "Collection of quotations\n",
      "\n",
      "Wikisource\n",
      "Free-content library\n",
      "\n",
      "Wikispecies\n",
      "Directory of species\n",
      "\n",
      "\n",
      "\n",
      "Wikiversity\n",
      "Free learning materials and activities\n",
      "\n",
      "Wikivoyage\n",
      "Free travel guide\n",
      "\n",
      "Wiktionary\n",
      "Dictionary and thesaurus\n",
      "\n",
      "\n",
      "\n",
      "\n",
      "Wikipedia languages\n",
      "\n",
      "This Wikipedia is written in English. Started in 2001 (2001), it currently contains 5,003,145 articles.  Many other Wikipedias are available; some of the largest are listed below.\n",
      "\n",
      "More than 1,000,000 articles:\n",
      "\n",
      "\n",
      "Deutsch\n",
      "Español\n",
      "Français\n",
      "Italiano\n",
      "Nederlands\n",
      "Polski\n",
      "Русский\n",
      "Svenska\n",
      "Tiếng Việt\n",
      "\n",
      "\n",
      "\n",
      "More than 250,000 articles:\n",
      "\n",
      "\n",
      "العربية\n",
      "Bahasa Indonesia\n",
      "Bahasa Melayu\n",
      "Català\n",
      "Čeština\n",
      "فارسی\n",
      "한국어\n",
      "Magyar\n",
      "日本語\n",
      "Norsk bokmål\n",
      "Português\n",
      "Română\n",
      "Srpski / српски\n",
      "Srpskohrvatski / српскохрватски\n",
      "Suomi\n",
      "Türkçe\n",
      "Українська\n",
      "中文\n",
      "\n",
      "\n",
      "\n",
      "More than 50,000 articles:\n",
      "\n",
      "\n",
      "Bosanski\n",
      "Български\n",
      "Dansk\n",
      "Eesti\n",
      "Ελληνικά\n",
      "English (simple)\n",
      "Esperanto\n",
      "Euskara\n",
      "Galego\n",
      "עברית\n",
      "Hrvatski\n",
      "Latviešu\n",
      "Lietuvių\n",
      "Norsk nynorsk\n",
      "Slovenčina\n",
      "Slovenščina\n",
      "ไทย\n",
      "\n",
      "\n",
      "\n",
      "\n",
      "\n",
      "Complete list of Wikipedias\n",
      "\n",
      "\n",
      "\n",
      "\n",
      "\n",
      "\n",
      "\n",
      "\n",
      "<img src=\"//en.wikipedia.org/wiki/Special:CentralAutoLogin/start?type=1x1\" alt=\"\" title=\"\" width=\"1\" height=\"1\" style=\"border: none; position: absolute;\" />\t\t\t\t\t\n",
      "\t\t\t\t\t\tRetrieved from \"https://en.wikipedia.org/w/index.php?title=Main_Page&oldid=688747750\"\t\t\t\t\t\n",
      "\t\t\t\t\t\t\t\t\n",
      "\t\t\t\t\t\t\t\n",
      "\t\t\n",
      "\t\t\n",
      "\t\t\tNavigation menu\n",
      "\n",
      "\t\t\t\n",
      "\t\t\t\t\t\t\t\t\t\n",
      "\t\t\t\t\t\tPersonal tools\n",
      "\t\t\t\t\t\t\n",
      "\t\t\t\t\t\t\tCreate accountLog in\t\t\t\t\t\t\n",
      "\t\t\t\t\t\n",
      "\t\t\t\t\t\t\t\t\t\n",
      "\t\t\t\t\t\t\t\t\t\t\n",
      "\t\t\t\t\t\tNamespaces\n",
      "\t\t\t\t\t\t\n",
      "\t\t\t\t\t\t\t\t\t\t\t\t\t\t\tMain Page\n",
      "\t\t\t\t\t\t\t\t\t\t\t\t\t\t\tTalk\n",
      "\t\t\t\t\t\t\t\t\t\t\t\t\t\n",
      "\t\t\t\t\t\n",
      "\t\t\t\t\t\t\t\t\t\t\n",
      "\t\t\t\t\t\t\t\t\t\t\t\t\n",
      "\t\t\t\t\t\t\tVariants\n",
      "\t\t\t\t\t\t\n",
      "\n",
      "\t\t\t\t\t\t\n",
      "\t\t\t\t\t\t\t\n",
      "\t\t\t\t\t\t\t\t\t\t\t\t\t\t\t\n",
      "\t\t\t\t\t\t\n",
      "\t\t\t\t\t\n",
      "\t\t\t\t\t\t\t\t\t\n",
      "\t\t\t\t\n",
      "\t\t\t\t\t\t\t\t\t\t\n",
      "\t\t\t\t\t\tViews\n",
      "\t\t\t\t\t\t\n",
      "\t\t\t\t\t\t\t\t\t\t\t\t\t\t\tRead\n",
      "\t\t\t\t\t\t\t\t\t\t\t\t\t\t\tView source\n",
      "\t\t\t\t\t\t\t\t\t\t\t\t\t\t\tView history\n",
      "\t\t\t\t\t\t\t\t\t\t\t\t\t\n",
      "\t\t\t\t\t\n",
      "\t\t\t\t\t\t\t\t\t\t\n",
      "\t\t\t\t\t\tMore\n",
      "\n",
      "\t\t\t\t\t\t\n",
      "\t\t\t\t\t\t\t\n",
      "\t\t\t\t\t\t\t\t\t\t\t\t\t\t\t\n",
      "\t\t\t\t\t\t\n",
      "\t\t\t\t\t\n",
      "\t\t\t\t\t\t\t\t\t\t\n",
      "\t\t\t\t\t\t\n",
      "\t\t\t\t\t\t\tSearch\n",
      "\t\t\t\t\t\t\n",
      "\n",
      "\t\t\t\t\t\t\n",
      "\t\t\t\t\t\t\t\n",
      "\t\t\t\t\t\t\t\t\t\t\t\t\t\t\n",
      "\t\t\t\t\t\t\n",
      "\t\t\t\t\t\n",
      "\t\t\t\t\t\t\t\t\t\n",
      "\t\t\t\n",
      "\t\t\t\n",
      "\t\t\t\t\n",
      "\t\t\t\t\t\t\n",
      "\t\t\tNavigation\n",
      "\n",
      "\t\t\t\n",
      "\t\t\t\t\t\t\t\t\t\n",
      "\t\t\t\t\t\tMain pageContentsFeatured contentCurrent eventsRandom articleDonate to WikipediaWikipedia store\t\t\t\t\t\n",
      "\t\t\t\t\t\t\t\n",
      "\t\t\n",
      "\t\t\t\n",
      "\t\t\tInteraction\n",
      "\n",
      "\t\t\t\n",
      "\t\t\t\t\t\t\t\t\t\n",
      "\t\t\t\t\t\tHelpAbout WikipediaCommunity portalRecent changesContact page\t\t\t\t\t\n",
      "\t\t\t\t\t\t\t\n",
      "\t\t\n",
      "\t\t\t\n",
      "\t\t\tTools\n",
      "\n",
      "\t\t\t\n",
      "\t\t\t\t\t\t\t\t\t\n",
      "\t\t\t\t\t\tWhat links hereRelated changesUpload fileSpecial pagesPermanent linkPage informationWikidata itemCite this page\t\t\t\t\t\n",
      "\t\t\t\t\t\t\t\n",
      "\t\t\n",
      "\t\t\t\n",
      "\t\t\tPrint/export\n",
      "\n",
      "\t\t\t\n",
      "\t\t\t\t\t\t\t\t\t\n",
      "\t\t\t\t\t\tCreate a bookDownload as PDFPrintable version\t\t\t\t\t\n",
      "\t\t\t\t\t\t\t\n",
      "\t\t\n",
      "\t\t\t\n",
      "\t\t\tLanguages\n",
      "\n",
      "\t\t\t\n",
      "\t\t\t\t\t\t\t\t\t\n",
      "\t\t\t\t\t\tSimple EnglishالعربيةBahasa IndonesiaBahasa MelayuBosanskiБългарскиCatalàČeštinaDanskDeutschEestiΕλληνικάEspañolEsperantoEuskaraفارسیFrançaisGalego한국어עבריתHrvatskiItalianoქართულიLatviešuLietuviųMagyarNederlands日本語Norsk bokmålNorsk nynorskPolskiPortuguêsRomânăРусскийSlovenčinaSlovenščinaСрпски / srpskiSrpskohrvatski / српскохрватскиSuomiSvenskaไทยTiếng ViệtTürkçeУкраїнська中文\t\t\t\t\t\n",
      "\t\t\t\t\t\t\t\n",
      "\t\t\n",
      "\t\t\t\t\n",
      "\t\t\n",
      "\t\t\n",
      "\t\t\t\t\t\t\t\n",
      "\t\t\t\t\t\t\t\t\t\t\t This page was last modified on 2 November 2015, at 20:46.\n",
      "\t\t\t\t\t\t\t\t\t\t\tText is available under the Creative Commons Attribution-ShareAlike License;\n",
      "additional terms may apply.  By using this site, you agree to the Terms of Use and Privacy Policy. Wikipedia® is a registered trademark of the Wikimedia Foundation, Inc., a non-profit organization.\n",
      "\t\t\t\t\t\t\t\t\t\n",
      "\t\t\t\t\t\t\t\n",
      "\t\t\t\t\t\t\t\t\t\t\tPrivacy policy\n",
      "\t\t\t\t\t\t\t\t\t\t\tAbout Wikipedia\n",
      "\t\t\t\t\t\t\t\t\t\t\tDisclaimers\n",
      "\t\t\t\t\t\t\t\t\t\t\tContact Wikipedia\n",
      "\t\t\t\t\t\t\t\t\t\t\tDevelopers\n",
      "\t\t\t\t\t\t\t\t\t\t\tMobile view\n",
      "\t\t\t\t\t\t\t\t\t\n",
      "\t\t\t\t\t\t\t\t\t\t\n",
      "\t\t\t\t\t\t\t\t\t\t\t\n",
      "\t\t\t\t\t\t\t\t\t\t\t\t\t\n",
      "\t\t\t\t\t\t\t\t\t\t\t\n",
      "\t\t\t\t\t\t\t\t\t\t\t\t\t\n",
      "\t\t\t\t\t\t\t\t\t\n",
      "\t\t\t\t\t\t\n",
      "\t\t\n",
      "\t\twindow.RLQ = window.RLQ || []; window.RLQ.push( function () {\n",
      "mw.loader.state({\"ext.globalCssJs.site\":\"ready\",\"ext.globalCssJs.user\":\"ready\",\"user\":\"ready\",\"user.groups\":\"ready\"});mw.loader.load([\"mediawiki.action.view.postEdit\",\"site\",\"mediawiki.user\",\"mediawiki.hidpi\",\"mediawiki.page.ready\",\"mediawiki.searchSuggest\",\"ext.eventLogging.subscriber\",\"ext.wikimediaEvents\",\"ext.navigationTiming\",\"ext.gadget.teahouse\",\"ext.gadget.ReferenceTooltips\",\"ext.gadget.DRN-wizard\",\"ext.gadget.charinsert\",\"ext.gadget.refToolbar\",\"ext.gadget.switcher\",\"ext.gadget.featured-articles-links\",\"mmv.bootstrap.autostart\",\"ext.visualEditor.targetLoader\",\"schema.UniversalLanguageSelector\",\"ext.uls.eventlogger\",\"ext.uls.interlanguage\"]);\n",
      "} );window.RLQ = window.RLQ || []; window.RLQ.push( function () {\n",
      "mw.config.set({\"wgBackendResponseTime\":647,\"wgHostname\":\"mw1089\"}); /* @nomin */\n",
      "} );\n",
      "\t\n",
      "\n",
      "\n"
     ]
    }
   ],
   "source": [
    "print BeautifulSoup(requests.get('http://en.wikipedia.org').text).text"
   ]
  },
  {
   "cell_type": "code",
   "execution_count": 19,
   "metadata": {
    "collapsed": false
   },
   "outputs": [],
   "source": [
    "v = requests.get('https://api.hh.ru/vacancies/15088237').json()"
   ]
  },
  {
   "cell_type": "code",
   "execution_count": 26,
   "metadata": {
    "collapsed": false
   },
   "outputs": [
    {
     "name": "stdout",
     "output_type": "stream",
     "text": [
      "Обязанности:  Осуществление комплексного финансового сопровождения деятельности компании (юридических лиц, входящих в группу компаний ); Решение корпоративных вопросов:  организация и планирование финансовых потоков организация и управление казначейством разработка схем взаимодействия между юр.лицами как внутри группы, так и с внешними контрагентами, с целью оптимизации налогообложения и снижения рисков организация ведения финансового учета автоматизация финансового учета (в перспективе)   Участие в разработке корпоративных проектов; Оценка финансовых рисков и выработка мероприятий по их снижению; Проведение финансового аудита бизнес-процессов; Осуществление договорной работы (согласование проектов договоров с выработкой предложений по минимизации рисков) Организация и управления финансовой службой (фин.отделом, бухгалтерией) с целью:  оперативного отражения финансового состояния и планирования финансовой деятельности; управление дебиторской задолженностью; прохождения налоговых проверок и проверок надзорных органов с минимальными потерями.   Консультирование руководства компании по финансовым вопросам; Участие в сопровождении проверок (налоговых, правоохранительных органов и прочих).  Требования:  Высшее экономическое образование; Опыт работы по заявленной вакансии - от 10 лет; Опыт работы в торговле, логистике, производстве, аутсорсинге и аутстаффинге будет вашим преимуществом перед другими соискателями; Уровень владения ПК - уверенный пользователь.  Условия:  Офис- м. Тульская ( в шаговой доступности от метро); Режим работы- 5х2 с 9.00 до 18.00; Условия обсуждаются непосредственно с финальным кандидатом. \n"
     ]
    }
   ],
   "source": [
    "print BeautifulSoup(v['description']).text"
   ]
  },
  {
   "cell_type": "code",
   "execution_count": 29,
   "metadata": {
    "collapsed": true
   },
   "outputs": [],
   "source": [
    "url1='https://api.hh.ru/vacancies?specialization=17.256&per_page=100'"
   ]
  },
  {
   "cell_type": "code",
   "execution_count": 30,
   "metadata": {
    "collapsed": true
   },
   "outputs": [],
   "source": [
    "url2='https://api.hh.ru/vacancies?specialization=1.211&per_page=100'"
   ]
  },
  {
   "cell_type": "code",
   "execution_count": 34,
   "metadata": {
    "collapsed": false
   },
   "outputs": [
    {
     "data": {
      "text/plain": [
       "u'https://api.hh.ru/vacancies/14985106?host=career.ru'"
      ]
     },
     "execution_count": 34,
     "metadata": {},
     "output_type": "execute_result"
    }
   ],
   "source": [
    "requests.get(url1).json()['items'][0]['url']"
   ]
  },
  {
   "cell_type": "code",
   "execution_count": 36,
   "metadata": {
    "collapsed": false,
    "scrolled": true
   },
   "outputs": [
    {
     "data": {
      "text/plain": [
       "[u'https://api.hh.ru/vacancies/14392673?host=career.ru',\n",
       " u'https://api.hh.ru/vacancies/15020351?host=career.ru',\n",
       " u'https://api.hh.ru/vacancies/15020646?host=career.ru',\n",
       " u'https://api.hh.ru/vacancies/14582236?host=hh.ru',\n",
       " u'https://api.hh.ru/vacancies/15020132?host=career.ru',\n",
       " u'https://api.hh.ru/vacancies/14985106?host=career.ru',\n",
       " u'https://api.hh.ru/vacancies/15088362?host=hh.ru',\n",
       " u'https://api.hh.ru/vacancies/15088363?host=hh.ru',\n",
       " u'https://api.hh.ru/vacancies/14883522?host=hh.ru',\n",
       " u'https://api.hh.ru/vacancies/14963476?host=hh.ru',\n",
       " u'https://api.hh.ru/vacancies/14885574?host=career.ru',\n",
       " u'https://api.hh.ru/vacancies/14892833?host=hh.ru',\n",
       " u'https://api.hh.ru/vacancies/14855595?host=hh.ru',\n",
       " u'https://api.hh.ru/vacancies/15088249?host=hh.ru',\n",
       " u'https://api.hh.ru/vacancies/15088232?host=hh.ru',\n",
       " u'https://api.hh.ru/vacancies/14892803?host=hh.ru',\n",
       " u'https://api.hh.ru/vacancies/15058095?host=hh.ru',\n",
       " u'https://api.hh.ru/vacancies/14380108?host=hh.ru',\n",
       " u'https://api.hh.ru/vacancies/14380116?host=hh.ru',\n",
       " u'https://api.hh.ru/vacancies/14380138?host=hh.ru',\n",
       " u'https://api.hh.ru/vacancies/14380127?host=hh.ru',\n",
       " u'https://api.hh.ru/vacancies/14836076?host=hh.ru',\n",
       " u'https://api.hh.ru/vacancies/15088211?host=hh.ru',\n",
       " u'https://api.hh.ru/vacancies/14946169?host=hh.ru',\n",
       " u'https://api.hh.ru/vacancies/15088205?host=career.ru',\n",
       " u'https://api.hh.ru/vacancies/15088203?host=hh.ru',\n",
       " u'https://api.hh.ru/vacancies/15088185?host=hh.ru',\n",
       " u'https://api.hh.ru/vacancies/14192704?host=hh.ru',\n",
       " u'https://api.hh.ru/vacancies/15010356?host=hh.ru',\n",
       " u'https://api.hh.ru/vacancies/15038498?host=hh.ru',\n",
       " u'https://api.hh.ru/vacancies/15088176?host=hh.ru',\n",
       " u'https://api.hh.ru/vacancies/15088161?host=hh.ru',\n",
       " u'https://api.hh.ru/vacancies/15088159?host=hh.ru',\n",
       " u'https://api.hh.ru/vacancies/15088152?host=hh.ru',\n",
       " u'https://api.hh.ru/vacancies/15088151?host=hh.ru',\n",
       " u'https://api.hh.ru/vacancies/15088146?host=hh.ru',\n",
       " u'https://api.hh.ru/vacancies/15088145?host=hh.ru',\n",
       " u'https://api.hh.ru/vacancies/15088141?host=hh.ru',\n",
       " u'https://api.hh.ru/vacancies/15088139?host=hh.ru',\n",
       " u'https://api.hh.ru/vacancies/15088135?host=hh.ru',\n",
       " u'https://api.hh.ru/vacancies/15088133?host=hh.ru',\n",
       " u'https://api.hh.ru/vacancies/15088127?host=hh.ru',\n",
       " u'https://api.hh.ru/vacancies/15088126?host=hh.ru',\n",
       " u'https://api.hh.ru/vacancies/14855383?host=hh.ru',\n",
       " u'https://api.hh.ru/vacancies/15088116?host=hh.ru',\n",
       " u'https://api.hh.ru/vacancies/15088114?host=hh.ru',\n",
       " u'https://api.hh.ru/vacancies/15088107?host=hh.ru',\n",
       " u'https://api.hh.ru/vacancies/15052677?host=hh.ru',\n",
       " u'https://api.hh.ru/vacancies/15052811?host=hh.ru',\n",
       " u'https://api.hh.ru/vacancies/15052931?host=hh.ru',\n",
       " u'https://api.hh.ru/vacancies/14747207?host=hh.ru',\n",
       " u'https://api.hh.ru/vacancies/15088096?host=hh.ru',\n",
       " u'https://api.hh.ru/vacancies/15088095?host=hh.ru',\n",
       " u'https://api.hh.ru/vacancies/15088086?host=hh.ru',\n",
       " u'https://api.hh.ru/vacancies/14835959?host=hh.ru',\n",
       " u'https://api.hh.ru/vacancies/14913901?host=hh.ru',\n",
       " u'https://api.hh.ru/vacancies/15049682?host=hh.ru',\n",
       " u'https://api.hh.ru/vacancies/14659404?host=hh.ru',\n",
       " u'https://api.hh.ru/vacancies/15088072?host=hh.ru',\n",
       " u'https://api.hh.ru/vacancies/15088071?host=hh.ru',\n",
       " u'https://api.hh.ru/vacancies/14835950?host=career.ru',\n",
       " u'https://api.hh.ru/vacancies/15088056?host=hh.ru',\n",
       " u'https://api.hh.ru/vacancies/15088052?host=hh.ru',\n",
       " u'https://api.hh.ru/vacancies/14986011?host=hh.ru',\n",
       " u'https://api.hh.ru/vacancies/15054229?host=hh.ru',\n",
       " u'https://api.hh.ru/vacancies/14328558?host=career.ru',\n",
       " u'https://api.hh.ru/vacancies/15055810?host=hh.ru',\n",
       " u'https://api.hh.ru/vacancies/14328536?host=career.ru',\n",
       " u'https://api.hh.ru/vacancies/14258973?host=hh.ru',\n",
       " u'https://api.hh.ru/vacancies/14258626?host=hh.ru',\n",
       " u'https://api.hh.ru/vacancies/15088038?host=career.ru',\n",
       " u'https://api.hh.ru/vacancies/15088037?host=hh.ru',\n",
       " u'https://api.hh.ru/vacancies/15088022?host=hh.ru',\n",
       " u'https://api.hh.ru/vacancies/15088016?host=hh.ru',\n",
       " u'https://api.hh.ru/vacancies/15088009?host=hh.ru',\n",
       " u'https://api.hh.ru/vacancies/15087993?host=hh.ru',\n",
       " u'https://api.hh.ru/vacancies/14873664?host=hh.ru',\n",
       " u'https://api.hh.ru/vacancies/15087992?host=hh.ru',\n",
       " u'https://api.hh.ru/vacancies/15087989?host=hh.ru',\n",
       " u'https://api.hh.ru/vacancies/15087974?host=hh.ru',\n",
       " u'https://api.hh.ru/vacancies/15002121?host=hh.ru',\n",
       " u'https://api.hh.ru/vacancies/15087968?host=hh.ru',\n",
       " u'https://api.hh.ru/vacancies/15087961?host=hh.ru',\n",
       " u'https://api.hh.ru/vacancies/15087960?host=career.ru',\n",
       " u'https://api.hh.ru/vacancies/15057719?host=hh.ru',\n",
       " u'https://api.hh.ru/vacancies/15087958?host=hh.ru',\n",
       " u'https://api.hh.ru/vacancies/13176548?host=hh.ru',\n",
       " u'https://api.hh.ru/vacancies/15087955?host=hh.ru',\n",
       " u'https://api.hh.ru/vacancies/15087949?host=hh.ru',\n",
       " u'https://api.hh.ru/vacancies/15087936?host=hh.ru',\n",
       " u'https://api.hh.ru/vacancies/15087934?host=hh.ru',\n",
       " u'https://api.hh.ru/vacancies/15015196?host=hh.ru',\n",
       " u'https://api.hh.ru/vacancies/14931971?host=career.ru',\n",
       " u'https://api.hh.ru/vacancies/13847248?host=career.ru',\n",
       " u'https://api.hh.ru/vacancies/15087912?host=hh.ru',\n",
       " u'https://api.hh.ru/vacancies/15087907?host=hh.ru',\n",
       " u'https://api.hh.ru/vacancies/15087898?host=hh.ru',\n",
       " u'https://api.hh.ru/vacancies/14907557?host=hh.ru',\n",
       " u'https://api.hh.ru/vacancies/15087888?host=hh.ru',\n",
       " u'https://api.hh.ru/vacancies/15087883?host=hh.ru']"
      ]
     },
     "execution_count": 36,
     "metadata": {},
     "output_type": "execute_result"
    }
   ],
   "source": [
    "[x['url'] for x in requests.get(url1).json()['items']]"
   ]
  },
  {
   "cell_type": "code",
   "execution_count": 37,
   "metadata": {
    "collapsed": true
   },
   "outputs": [],
   "source": [
    "urls = []\n",
    "urls += [x['url'] for x in requests.get(url1).json()['items']]"
   ]
  },
  {
   "cell_type": "code",
   "execution_count": 40,
   "metadata": {
    "collapsed": false
   },
   "outputs": [],
   "source": [
    "urls = []\n",
    "for i in xrange(0,20):\n",
    "    urls += [x['url'] for x in requests.get(url1+'&page='+str(i)).json()['items']]"
   ]
  },
  {
   "cell_type": "code",
   "execution_count": 41,
   "metadata": {
    "collapsed": false
   },
   "outputs": [
    {
     "data": {
      "text/plain": [
       "2000"
      ]
     },
     "execution_count": 41,
     "metadata": {},
     "output_type": "execute_result"
    }
   ],
   "source": [
    "len(urls)"
   ]
  },
  {
   "cell_type": "code",
   "execution_count": 42,
   "metadata": {
    "collapsed": false
   },
   "outputs": [
    {
     "name": "stdout",
     "output_type": "stream",
     "text": [
      "CPU times: user 313 ms, sys: 17.4 ms, total: 331 ms\n",
      "Wall time: 18.4 s\n"
     ]
    }
   ],
   "source": [
    "%%time\n",
    "for i in xrange(0,20):\n",
    "    urls += [x['url'] for x in requests.get(url2+'&page='+str(i)).json()['items']]"
   ]
  },
  {
   "cell_type": "code",
   "execution_count": 45,
   "metadata": {
    "collapsed": false
   },
   "outputs": [
    {
     "data": {
      "text/plain": [
       "[u'https://api.hh.ru/vacancies/14850737?host=hh.ru',\n",
       " u'https://api.hh.ru/vacancies/14852424?host=hh.ru',\n",
       " u'https://api.hh.ru/vacancies/14392673?host=career.ru']"
      ]
     },
     "execution_count": 45,
     "metadata": {},
     "output_type": "execute_result"
    }
   ],
   "source": [
    "urls[:3]"
   ]
  },
  {
   "cell_type": "code",
   "execution_count": 46,
   "metadata": {
    "collapsed": false
   },
   "outputs": [
    {
     "name": "stdout",
     "output_type": "stream",
     "text": [
      "CPU times: user 3.55 s, sys: 76 ms, total: 3.63 s\n",
      "Wall time: 1min 24s\n"
     ]
    }
   ],
   "source": [
    "%%time\n",
    "texts = []\n",
    "for i in urls:\n",
    "    texts.append( BeautifulSoup(requests.get(i).json()['description']).text )"
   ]
  },
  {
   "cell_type": "code",
   "execution_count": 47,
   "metadata": {
    "collapsed": true
   },
   "outputs": [],
   "source": [
    "import codecs\n",
    "f = codecs.open('1text.txt', 'r', 'utf-8')"
   ]
  },
  {
   "cell_type": "code",
   "execution_count": 48,
   "metadata": {
    "collapsed": true
   },
   "outputs": [],
   "source": [
    "texts2 = f.readlines()"
   ]
  },
  {
   "cell_type": "code",
   "execution_count": 50,
   "metadata": {
    "collapsed": false
   },
   "outputs": [
    {
     "name": "stdout",
     "output_type": "stream",
     "text": [
      "Обязанности:  Прямые продажи Работа в 1С Погрузка-разгрузка товара Ведение заказов покупателя Заключение договоров  Требования:  Ответственность, коммуникабельность, нацеленность на результат Стрессоустойчивость, обучаемость, инициативность Желание работать и зарабатывать Умение убеждать, сообразительность    Условия:  Оформление по ТК РФ Испытательный срок: 2 мес Отпуск: 2 раза в год по 2 недели График работы 4/2 с 8-00 до 20-00 Заработная плата: оклад 15000 руб+ %   \n",
      "\n"
     ]
    }
   ],
   "source": [
    "print texts2[0]"
   ]
  },
  {
   "cell_type": "code",
   "execution_count": 51,
   "metadata": {
    "collapsed": true
   },
   "outputs": [],
   "source": [
    "f.close()"
   ]
  },
  {
   "cell_type": "code",
   "execution_count": 56,
   "metadata": {
    "collapsed": false
   },
   "outputs": [
    {
     "data": {
      "text/plain": [
       "4001"
      ]
     },
     "execution_count": 56,
     "metadata": {},
     "output_type": "execute_result"
    }
   ],
   "source": [
    "len(texts2)"
   ]
  },
  {
   "cell_type": "code",
   "execution_count": 58,
   "metadata": {
    "collapsed": true
   },
   "outputs": [],
   "source": [
    "texts = texts2"
   ]
  },
  {
   "cell_type": "code",
   "execution_count": 59,
   "metadata": {
    "collapsed": true
   },
   "outputs": [],
   "source": [
    "from sklearn.feature_extraction.text import CountVectorizer"
   ]
  },
  {
   "cell_type": "code",
   "execution_count": 133,
   "metadata": {
    "collapsed": false
   },
   "outputs": [],
   "source": [
    "count_vec = CountVectorizer(ngram_range=[1,2])\n",
    "matrix_count = count_vec.fit_transform(texts).toarray()"
   ]
  },
  {
   "cell_type": "code",
   "execution_count": 134,
   "metadata": {
    "collapsed": false
   },
   "outputs": [
    {
     "data": {
      "text/plain": [
       "(4001, 182031)"
      ]
     },
     "execution_count": 134,
     "metadata": {},
     "output_type": "execute_result"
    }
   ],
   "source": [
    "matrix_count.shape"
   ]
  },
  {
   "cell_type": "code",
   "execution_count": 63,
   "metadata": {
    "collapsed": true
   },
   "outputs": [],
   "source": [
    "import pandas as pd"
   ]
  },
  {
   "cell_type": "code",
   "execution_count": 64,
   "metadata": {
    "collapsed": false
   },
   "outputs": [
    {
     "data": {
      "text/html": [
       "<div style=\"max-height:1000px;max-width:1500px;overflow:auto;\">\n",
       "<table border=\"1\" class=\"dataframe\">\n",
       "  <thead>\n",
       "    <tr style=\"text-align: right;\">\n",
       "      <th></th>\n",
       "      <th>0</th>\n",
       "      <th>1</th>\n",
       "      <th>2</th>\n",
       "      <th>3</th>\n",
       "      <th>4</th>\n",
       "      <th>5</th>\n",
       "      <th>6</th>\n",
       "      <th>7</th>\n",
       "      <th>8</th>\n",
       "      <th>9</th>\n",
       "      <th>...</th>\n",
       "      <th>27351</th>\n",
       "      <th>27352</th>\n",
       "      <th>27353</th>\n",
       "      <th>27354</th>\n",
       "      <th>27355</th>\n",
       "      <th>27356</th>\n",
       "      <th>27357</th>\n",
       "      <th>27358</th>\n",
       "      <th>27359</th>\n",
       "      <th>27360</th>\n",
       "    </tr>\n",
       "  </thead>\n",
       "  <tbody>\n",
       "    <tr>\n",
       "      <th>0</th>\n",
       "      <td>2</td>\n",
       "      <td>0</td>\n",
       "      <td>0</td>\n",
       "      <td>0</td>\n",
       "      <td>0</td>\n",
       "      <td>0</td>\n",
       "      <td>0</td>\n",
       "      <td>0</td>\n",
       "      <td>0</td>\n",
       "      <td>0</td>\n",
       "      <td>...</td>\n",
       "      <td>0</td>\n",
       "      <td>0</td>\n",
       "      <td>0</td>\n",
       "      <td>0</td>\n",
       "      <td>0</td>\n",
       "      <td>0</td>\n",
       "      <td>0</td>\n",
       "      <td>0</td>\n",
       "      <td>0</td>\n",
       "      <td>0</td>\n",
       "    </tr>\n",
       "    <tr>\n",
       "      <th>1</th>\n",
       "      <td>0</td>\n",
       "      <td>2</td>\n",
       "      <td>0</td>\n",
       "      <td>0</td>\n",
       "      <td>0</td>\n",
       "      <td>0</td>\n",
       "      <td>0</td>\n",
       "      <td>0</td>\n",
       "      <td>0</td>\n",
       "      <td>0</td>\n",
       "      <td>...</td>\n",
       "      <td>0</td>\n",
       "      <td>0</td>\n",
       "      <td>0</td>\n",
       "      <td>0</td>\n",
       "      <td>0</td>\n",
       "      <td>0</td>\n",
       "      <td>0</td>\n",
       "      <td>0</td>\n",
       "      <td>0</td>\n",
       "      <td>0</td>\n",
       "    </tr>\n",
       "    <tr>\n",
       "      <th>2</th>\n",
       "      <td>0</td>\n",
       "      <td>1</td>\n",
       "      <td>0</td>\n",
       "      <td>0</td>\n",
       "      <td>0</td>\n",
       "      <td>0</td>\n",
       "      <td>0</td>\n",
       "      <td>0</td>\n",
       "      <td>0</td>\n",
       "      <td>0</td>\n",
       "      <td>...</td>\n",
       "      <td>0</td>\n",
       "      <td>0</td>\n",
       "      <td>0</td>\n",
       "      <td>0</td>\n",
       "      <td>0</td>\n",
       "      <td>0</td>\n",
       "      <td>0</td>\n",
       "      <td>0</td>\n",
       "      <td>0</td>\n",
       "      <td>0</td>\n",
       "    </tr>\n",
       "    <tr>\n",
       "      <th>3</th>\n",
       "      <td>2</td>\n",
       "      <td>0</td>\n",
       "      <td>0</td>\n",
       "      <td>0</td>\n",
       "      <td>0</td>\n",
       "      <td>0</td>\n",
       "      <td>0</td>\n",
       "      <td>0</td>\n",
       "      <td>0</td>\n",
       "      <td>0</td>\n",
       "      <td>...</td>\n",
       "      <td>0</td>\n",
       "      <td>0</td>\n",
       "      <td>0</td>\n",
       "      <td>0</td>\n",
       "      <td>0</td>\n",
       "      <td>0</td>\n",
       "      <td>0</td>\n",
       "      <td>0</td>\n",
       "      <td>0</td>\n",
       "      <td>0</td>\n",
       "    </tr>\n",
       "    <tr>\n",
       "      <th>4</th>\n",
       "      <td>0</td>\n",
       "      <td>0</td>\n",
       "      <td>0</td>\n",
       "      <td>0</td>\n",
       "      <td>0</td>\n",
       "      <td>0</td>\n",
       "      <td>0</td>\n",
       "      <td>0</td>\n",
       "      <td>0</td>\n",
       "      <td>0</td>\n",
       "      <td>...</td>\n",
       "      <td>0</td>\n",
       "      <td>0</td>\n",
       "      <td>0</td>\n",
       "      <td>0</td>\n",
       "      <td>0</td>\n",
       "      <td>0</td>\n",
       "      <td>0</td>\n",
       "      <td>0</td>\n",
       "      <td>0</td>\n",
       "      <td>0</td>\n",
       "    </tr>\n",
       "  </tbody>\n",
       "</table>\n",
       "<p>5 rows × 27361 columns</p>\n",
       "</div>"
      ],
      "text/plain": [
       "   0      1      2      3      4      5      6      7      8      9      \\\n",
       "0      2      0      0      0      0      0      0      0      0      0   \n",
       "1      0      2      0      0      0      0      0      0      0      0   \n",
       "2      0      1      0      0      0      0      0      0      0      0   \n",
       "3      2      0      0      0      0      0      0      0      0      0   \n",
       "4      0      0      0      0      0      0      0      0      0      0   \n",
       "\n",
       "   ...    27351  27352  27353  27354  27355  27356  27357  27358  27359  27360  \n",
       "0  ...        0      0      0      0      0      0      0      0      0      0  \n",
       "1  ...        0      0      0      0      0      0      0      0      0      0  \n",
       "2  ...        0      0      0      0      0      0      0      0      0      0  \n",
       "3  ...        0      0      0      0      0      0      0      0      0      0  \n",
       "4  ...        0      0      0      0      0      0      0      0      0      0  \n",
       "\n",
       "[5 rows x 27361 columns]"
      ]
     },
     "execution_count": 64,
     "metadata": {},
     "output_type": "execute_result"
    }
   ],
   "source": [
    "pd.DataFrame(matrix_count).head()"
   ]
  },
  {
   "cell_type": "code",
   "execution_count": 69,
   "metadata": {
    "collapsed": false
   },
   "outputs": [],
   "source": [
    "words = [i[0] for i in sorted(count_vec.vocabulary_.items(), key=lambda x: x[1])]"
   ]
  },
  {
   "cell_type": "code",
   "execution_count": 70,
   "metadata": {
    "collapsed": false
   },
   "outputs": [
    {
     "data": {
      "text/html": [
       "<div style=\"max-height:1000px;max-width:1500px;overflow:auto;\">\n",
       "<table border=\"1\" class=\"dataframe\">\n",
       "  <thead>\n",
       "    <tr style=\"text-align: right;\">\n",
       "      <th></th>\n",
       "      <th>00</th>\n",
       "      <th>000</th>\n",
       "      <th>0000</th>\n",
       "      <th>000р</th>\n",
       "      <th>000руб</th>\n",
       "      <th>00ч</th>\n",
       "      <th>01</th>\n",
       "      <th>02</th>\n",
       "      <th>06</th>\n",
       "      <th>0676352737</th>\n",
       "      <th>...</th>\n",
       "      <th>єктів</th>\n",
       "      <th>інтеграції</th>\n",
       "      <th>інформаційних</th>\n",
       "      <th>іншим</th>\n",
       "      <th>іншими</th>\n",
       "      <th>іншого</th>\n",
       "      <th>існуючих</th>\n",
       "      <th>існуючого</th>\n",
       "      <th>існуючої</th>\n",
       "      <th>іт</th>\n",
       "    </tr>\n",
       "  </thead>\n",
       "  <tbody>\n",
       "    <tr>\n",
       "      <th>0</th>\n",
       "      <td>2</td>\n",
       "      <td>0</td>\n",
       "      <td>0</td>\n",
       "      <td>0</td>\n",
       "      <td>0</td>\n",
       "      <td>0</td>\n",
       "      <td>0</td>\n",
       "      <td>0</td>\n",
       "      <td>0</td>\n",
       "      <td>0</td>\n",
       "      <td>...</td>\n",
       "      <td>0</td>\n",
       "      <td>0</td>\n",
       "      <td>0</td>\n",
       "      <td>0</td>\n",
       "      <td>0</td>\n",
       "      <td>0</td>\n",
       "      <td>0</td>\n",
       "      <td>0</td>\n",
       "      <td>0</td>\n",
       "      <td>0</td>\n",
       "    </tr>\n",
       "    <tr>\n",
       "      <th>1</th>\n",
       "      <td>0</td>\n",
       "      <td>2</td>\n",
       "      <td>0</td>\n",
       "      <td>0</td>\n",
       "      <td>0</td>\n",
       "      <td>0</td>\n",
       "      <td>0</td>\n",
       "      <td>0</td>\n",
       "      <td>0</td>\n",
       "      <td>0</td>\n",
       "      <td>...</td>\n",
       "      <td>0</td>\n",
       "      <td>0</td>\n",
       "      <td>0</td>\n",
       "      <td>0</td>\n",
       "      <td>0</td>\n",
       "      <td>0</td>\n",
       "      <td>0</td>\n",
       "      <td>0</td>\n",
       "      <td>0</td>\n",
       "      <td>0</td>\n",
       "    </tr>\n",
       "    <tr>\n",
       "      <th>2</th>\n",
       "      <td>0</td>\n",
       "      <td>1</td>\n",
       "      <td>0</td>\n",
       "      <td>0</td>\n",
       "      <td>0</td>\n",
       "      <td>0</td>\n",
       "      <td>0</td>\n",
       "      <td>0</td>\n",
       "      <td>0</td>\n",
       "      <td>0</td>\n",
       "      <td>...</td>\n",
       "      <td>0</td>\n",
       "      <td>0</td>\n",
       "      <td>0</td>\n",
       "      <td>0</td>\n",
       "      <td>0</td>\n",
       "      <td>0</td>\n",
       "      <td>0</td>\n",
       "      <td>0</td>\n",
       "      <td>0</td>\n",
       "      <td>0</td>\n",
       "    </tr>\n",
       "    <tr>\n",
       "      <th>3</th>\n",
       "      <td>2</td>\n",
       "      <td>0</td>\n",
       "      <td>0</td>\n",
       "      <td>0</td>\n",
       "      <td>0</td>\n",
       "      <td>0</td>\n",
       "      <td>0</td>\n",
       "      <td>0</td>\n",
       "      <td>0</td>\n",
       "      <td>0</td>\n",
       "      <td>...</td>\n",
       "      <td>0</td>\n",
       "      <td>0</td>\n",
       "      <td>0</td>\n",
       "      <td>0</td>\n",
       "      <td>0</td>\n",
       "      <td>0</td>\n",
       "      <td>0</td>\n",
       "      <td>0</td>\n",
       "      <td>0</td>\n",
       "      <td>0</td>\n",
       "    </tr>\n",
       "    <tr>\n",
       "      <th>4</th>\n",
       "      <td>0</td>\n",
       "      <td>0</td>\n",
       "      <td>0</td>\n",
       "      <td>0</td>\n",
       "      <td>0</td>\n",
       "      <td>0</td>\n",
       "      <td>0</td>\n",
       "      <td>0</td>\n",
       "      <td>0</td>\n",
       "      <td>0</td>\n",
       "      <td>...</td>\n",
       "      <td>0</td>\n",
       "      <td>0</td>\n",
       "      <td>0</td>\n",
       "      <td>0</td>\n",
       "      <td>0</td>\n",
       "      <td>0</td>\n",
       "      <td>0</td>\n",
       "      <td>0</td>\n",
       "      <td>0</td>\n",
       "      <td>0</td>\n",
       "    </tr>\n",
       "  </tbody>\n",
       "</table>\n",
       "<p>5 rows × 27361 columns</p>\n",
       "</div>"
      ],
      "text/plain": [
       "   00  000  0000  000��  000������  00��  01  02  06  0676352737 ...  ����������  \\\n",
       "0   2    0     0     0       0    0   0   0   0           0 ...      0   \n",
       "1   0    2     0     0       0    0   0   0   0           0 ...      0   \n",
       "2   0    1     0     0       0    0   0   0   0           0 ...      0   \n",
       "3   2    0     0     0       0    0   0   0   0           0 ...      0   \n",
       "4   0    0     0     0       0    0   0   0   0           0 ...      0   \n",
       "\n",
       "   ��������������������  ��������������������������  ����������  ������������  ������������  ����������������  ������������������  \\\n",
       "0           0              0      0       0       0         0          0   \n",
       "1           0              0      0       0       0         0          0   \n",
       "2           0              0      0       0       0         0          0   \n",
       "3           0              0      0       0       0         0          0   \n",
       "4           0              0      0       0       0         0          0   \n",
       "\n",
       "   ����������������  ����  \n",
       "0         0   0  \n",
       "1         0   0  \n",
       "2         0   0  \n",
       "3         0   0  \n",
       "4         0   0  \n",
       "\n",
       "[5 rows x 27361 columns]"
      ]
     },
     "execution_count": 70,
     "metadata": {},
     "output_type": "execute_result"
    }
   ],
   "source": [
    "pd.DataFrame(matrix_count, columns=words).head()"
   ]
  },
  {
   "cell_type": "code",
   "execution_count": 71,
   "metadata": {
    "collapsed": true
   },
   "outputs": [],
   "source": [
    "from sklearn.metrics.pairwise import cosine_similarity"
   ]
  },
  {
   "cell_type": "code",
   "execution_count": 76,
   "metadata": {
    "collapsed": true
   },
   "outputs": [],
   "source": [
    "def cos_m(x, y):\n",
    "    return abs(cosine_similarity(x, y)[0][0])"
   ]
  },
  {
   "cell_type": "code",
   "execution_count": 80,
   "metadata": {
    "collapsed": false
   },
   "outputs": [
    {
     "data": {
      "text/plain": [
       "0.47278131042553373"
      ]
     },
     "execution_count": 80,
     "metadata": {},
     "output_type": "execute_result"
    }
   ],
   "source": [
    "cos_m(matrix_count[0], matrix_count[1])"
   ]
  },
  {
   "cell_type": "code",
   "execution_count": 81,
   "metadata": {
    "collapsed": true
   },
   "outputs": [],
   "source": [
    "y = []\n",
    "for i in matrix_count[1:]:\n",
    "    y.append( cos_m(matrix_count[0], i) )"
   ]
  },
  {
   "cell_type": "code",
   "execution_count": 82,
   "metadata": {
    "collapsed": true
   },
   "outputs": [],
   "source": [
    "%matplotlib inline\n",
    "from matplotlib import pyplot as plt"
   ]
  },
  {
   "cell_type": "code",
   "execution_count": 84,
   "metadata": {
    "collapsed": false
   },
   "outputs": [
    {
     "data": {
      "text/plain": [
       "[<matplotlib.lines.Line2D at 0x7f8153598610>]"
      ]
     },
     "execution_count": 84,
     "metadata": {},
     "output_type": "execute_result"
    },
    {
     "data": {
      "image/png": "[encoded data removed]",
      "text/plain": [
       "<matplotlib.figure.Figure at 0x7f81a878c190>"
      ]
     },
     "metadata": {},
     "output_type": "display_data"
    }
   ],
   "source": [
    "plt.plot(y)"
   ]
  },
  {
   "cell_type": "code",
   "execution_count": 85,
   "metadata": {
    "collapsed": true
   },
   "outputs": [],
   "source": [
    "import seaborn"
   ]
  },
  {
   "cell_type": "code",
   "execution_count": 86,
   "metadata": {
    "collapsed": false
   },
   "outputs": [
    {
     "data": {
      "text/plain": [
       "[<matplotlib.lines.Line2D at 0x7f81515bff50>]"
      ]
     },
     "execution_count": 86,
     "metadata": {},
     "output_type": "execute_result"
    },
    {
     "data": {
      "image/png": "[encoded data removed]",
      "text/plain": [
       "<matplotlib.figure.Figure at 0x7f8151852e90>"
      ]
     },
     "metadata": {},
     "output_type": "display_data"
    }
   ],
   "source": [
    "plt.plot(y)"
   ]
  },
  {
   "cell_type": "code",
   "execution_count": 88,
   "metadata": {
    "collapsed": false
   },
   "outputs": [],
   "source": [
    "from sklearn.feature_extraction.text import TfidfVectorizer\n",
    "\n",
    "tfidf_vec = TfidfVectorizer()\n",
    "matrix_tfidf = tfidf_vec.fit_transform(texts).toarray()"
   ]
  },
  {
   "cell_type": "code",
   "execution_count": 90,
   "metadata": {
    "collapsed": false,
    "scrolled": true
   },
   "outputs": [
    {
     "data": {
      "text/html": [
       "<div style=\"max-height:1000px;max-width:1500px;overflow:auto;\">\n",
       "<table border=\"1\" class=\"dataframe\">\n",
       "  <thead>\n",
       "    <tr style=\"text-align: right;\">\n",
       "      <th></th>\n",
       "      <th>0</th>\n",
       "      <th>1</th>\n",
       "      <th>2</th>\n",
       "      <th>3</th>\n",
       "      <th>4</th>\n",
       "      <th>5</th>\n",
       "      <th>6</th>\n",
       "      <th>7</th>\n",
       "      <th>8</th>\n",
       "      <th>9</th>\n",
       "      <th>...</th>\n",
       "      <th>27351</th>\n",
       "      <th>27352</th>\n",
       "      <th>27353</th>\n",
       "      <th>27354</th>\n",
       "      <th>27355</th>\n",
       "      <th>27356</th>\n",
       "      <th>27357</th>\n",
       "      <th>27358</th>\n",
       "      <th>27359</th>\n",
       "      <th>27360</th>\n",
       "    </tr>\n",
       "  </thead>\n",
       "  <tbody>\n",
       "    <tr>\n",
       "      <th>0</th>\n",
       "      <td>0.179434</td>\n",
       "      <td>0.000000</td>\n",
       "      <td>0</td>\n",
       "      <td>0</td>\n",
       "      <td>0</td>\n",
       "      <td>0</td>\n",
       "      <td>0</td>\n",
       "      <td>0</td>\n",
       "      <td>0</td>\n",
       "      <td>0</td>\n",
       "      <td>...</td>\n",
       "      <td>0</td>\n",
       "      <td>0</td>\n",
       "      <td>0</td>\n",
       "      <td>0</td>\n",
       "      <td>0</td>\n",
       "      <td>0</td>\n",
       "      <td>0</td>\n",
       "      <td>0</td>\n",
       "      <td>0</td>\n",
       "      <td>0</td>\n",
       "    </tr>\n",
       "    <tr>\n",
       "      <th>1</th>\n",
       "      <td>0.000000</td>\n",
       "      <td>0.183942</td>\n",
       "      <td>0</td>\n",
       "      <td>0</td>\n",
       "      <td>0</td>\n",
       "      <td>0</td>\n",
       "      <td>0</td>\n",
       "      <td>0</td>\n",
       "      <td>0</td>\n",
       "      <td>0</td>\n",
       "      <td>...</td>\n",
       "      <td>0</td>\n",
       "      <td>0</td>\n",
       "      <td>0</td>\n",
       "      <td>0</td>\n",
       "      <td>0</td>\n",
       "      <td>0</td>\n",
       "      <td>0</td>\n",
       "      <td>0</td>\n",
       "      <td>0</td>\n",
       "      <td>0</td>\n",
       "    </tr>\n",
       "    <tr>\n",
       "      <th>2</th>\n",
       "      <td>0.000000</td>\n",
       "      <td>0.115148</td>\n",
       "      <td>0</td>\n",
       "      <td>0</td>\n",
       "      <td>0</td>\n",
       "      <td>0</td>\n",
       "      <td>0</td>\n",
       "      <td>0</td>\n",
       "      <td>0</td>\n",
       "      <td>0</td>\n",
       "      <td>...</td>\n",
       "      <td>0</td>\n",
       "      <td>0</td>\n",
       "      <td>0</td>\n",
       "      <td>0</td>\n",
       "      <td>0</td>\n",
       "      <td>0</td>\n",
       "      <td>0</td>\n",
       "      <td>0</td>\n",
       "      <td>0</td>\n",
       "      <td>0</td>\n",
       "    </tr>\n",
       "    <tr>\n",
       "      <th>3</th>\n",
       "      <td>0.208793</td>\n",
       "      <td>0.000000</td>\n",
       "      <td>0</td>\n",
       "      <td>0</td>\n",
       "      <td>0</td>\n",
       "      <td>0</td>\n",
       "      <td>0</td>\n",
       "      <td>0</td>\n",
       "      <td>0</td>\n",
       "      <td>0</td>\n",
       "      <td>...</td>\n",
       "      <td>0</td>\n",
       "      <td>0</td>\n",
       "      <td>0</td>\n",
       "      <td>0</td>\n",
       "      <td>0</td>\n",
       "      <td>0</td>\n",
       "      <td>0</td>\n",
       "      <td>0</td>\n",
       "      <td>0</td>\n",
       "      <td>0</td>\n",
       "    </tr>\n",
       "    <tr>\n",
       "      <th>4</th>\n",
       "      <td>0.000000</td>\n",
       "      <td>0.000000</td>\n",
       "      <td>0</td>\n",
       "      <td>0</td>\n",
       "      <td>0</td>\n",
       "      <td>0</td>\n",
       "      <td>0</td>\n",
       "      <td>0</td>\n",
       "      <td>0</td>\n",
       "      <td>0</td>\n",
       "      <td>...</td>\n",
       "      <td>0</td>\n",
       "      <td>0</td>\n",
       "      <td>0</td>\n",
       "      <td>0</td>\n",
       "      <td>0</td>\n",
       "      <td>0</td>\n",
       "      <td>0</td>\n",
       "      <td>0</td>\n",
       "      <td>0</td>\n",
       "      <td>0</td>\n",
       "    </tr>\n",
       "  </tbody>\n",
       "</table>\n",
       "<p>5 rows × 27361 columns</p>\n",
       "</div>"
      ],
      "text/plain": [
       "      0         1      2      3      4      5      6      7      8      9      \\\n",
       "0  0.179434  0.000000      0      0      0      0      0      0      0      0   \n",
       "1  0.000000  0.183942      0      0      0      0      0      0      0      0   \n",
       "2  0.000000  0.115148      0      0      0      0      0      0      0      0   \n",
       "3  0.208793  0.000000      0      0      0      0      0      0      0      0   \n",
       "4  0.000000  0.000000      0      0      0      0      0      0      0      0   \n",
       "\n",
       "   ...    27351  27352  27353  27354  27355  27356  27357  27358  27359  27360  \n",
       "0  ...        0      0      0      0      0      0      0      0      0      0  \n",
       "1  ...        0      0      0      0      0      0      0      0      0      0  \n",
       "2  ...        0      0      0      0      0      0      0      0      0      0  \n",
       "3  ...        0      0      0      0      0      0      0      0      0      0  \n",
       "4  ...        0      0      0      0      0      0      0      0      0      0  \n",
       "\n",
       "[5 rows x 27361 columns]"
      ]
     },
     "execution_count": 90,
     "metadata": {},
     "output_type": "execute_result"
    }
   ],
   "source": [
    "pd.DataFrame(matrix_tfidf).head()"
   ]
  },
  {
   "cell_type": "code",
   "execution_count": 91,
   "metadata": {
    "collapsed": false
   },
   "outputs": [
    {
     "data": {
      "text/plain": [
       "[<matplotlib.lines.Line2D at 0x7f81512c1510>]"
      ]
     },
     "execution_count": 91,
     "metadata": {},
     "output_type": "execute_result"
    },
    {
     "data": {
      "image/png": "[encoded data removed]",
      "text/plain": [
       "<matplotlib.figure.Figure at 0x7f815133abd0>"
      ]
     },
     "metadata": {},
     "output_type": "display_data"
    }
   ],
   "source": [
    "y = []\n",
    "for i in matrix_tfidf[1:]:\n",
    "    y.append( cos_m(matrix_tfidf[0], i) )\n",
    "plt.plot(y)"
   ]
  },
  {
   "cell_type": "code",
   "execution_count": 92,
   "metadata": {
    "collapsed": false
   },
   "outputs": [
    {
     "data": {
      "text/plain": [
       "[<matplotlib.lines.Line2D at 0x7f811ce74b50>]"
      ]
     },
     "execution_count": 92,
     "metadata": {},
     "output_type": "execute_result"
    },
    {
     "data": {
      "image/png": "[encoded data removed]",
      "text/plain": [
       "<matplotlib.figure.Figure at 0x7f81515d4150>"
      ]
     },
     "metadata": {},
     "output_type": "display_data"
    }
   ],
   "source": [
    "tfidf_vec = TfidfVectorizer(norm=None, smooth_idf=False)\n",
    "matrix_tfidf = tfidf_vec.fit_transform(texts).toarray()\n",
    "\n",
    "y = []\n",
    "for i in matrix_tfidf[1:]:\n",
    "    y.append( cos_m(matrix_tfidf[0], i) )\n",
    "plt.plot(y)"
   ]
  },
  {
   "cell_type": "code",
   "execution_count": 94,
   "metadata": {
    "collapsed": false
   },
   "outputs": [
    {
     "data": {
      "text/plain": [
       "[<matplotlib.lines.Line2D at 0x7f811cd59350>]"
      ]
     },
     "execution_count": 94,
     "metadata": {},
     "output_type": "execute_result"
    },
    {
     "data": {
      "image/png": "[encoded data removed]",
      "text/plain": [
       "<matplotlib.figure.Figure at 0x7f815161bb10>"
      ]
     },
     "metadata": {},
     "output_type": "display_data"
    }
   ],
   "source": [
    "tfidf_vec = TfidfVectorizer(norm=None, smooth_idf=False, token_pattern=u'[A-Za-zА-Яа-яёЁ]+')\n",
    "matrix_tfidf = tfidf_vec.fit_transform(texts).toarray()\n",
    "\n",
    "y = []\n",
    "for i in matrix_tfidf[1:]:\n",
    "    y.append( cos_m(matrix_tfidf[0], i) )\n",
    "plt.plot(y)"
   ]
  },
  {
   "cell_type": "code",
   "execution_count": 95,
   "metadata": {
    "collapsed": true
   },
   "outputs": [],
   "source": [
    "stop_words = [\"еще\", \"него\", \"сказать\", \"а\", \"ж\", \"нее\", \"со\", \"без\", \"же\", \"ней\", \"совсем\", \"более\", \"жизнь\", \"нельзя\", \"так\", \"больше\", \"за\", \"нет\", \"такой\", \"будет\", \"зачем\", \"ни\", \"там\", \"будто\", \"здесь\", \"нибудь\", \"тебя\", \"бы\", \"и\", \"никогда\", \"тем\", \"был\", \"из\", \"ним\", \"теперь\", \"была\", \"из\", \"за\", \"них\", \"то\", \"были\", \"или\", \"ничего\", \"тогда\", \"было\", \"им\", \"но\", \"того\", \"быть\", \"иногда\", \"ну\", \"тоже\", \"в\", \"их\", \"о\", \"только\", \"вам\", \"к\", \"об\", \"том\", \"вас\", \"кажется\", \"один\", \"тот\", \"вдруг\", \"как\", \"он\", \"три\", \"ведь\", \"какая\", \"она\", \"тут\", \"во\", \"какой\", \"они\", \"ты\", \"вот\", \"когда\", \"опять\", \"у\", \"впрочем\", \"конечно\", \"от\", \"уж\", \"все\", \"которого\", \"перед\", \"уже\", \"всегда\", \"которые\", \"по\", \"хорошо\", \"всего\", \"кто\", \"под\", \"хоть\", \"всех\", \"куда\", \"после\", \"чего\", \"всю\", \"ли\", \"потом\", \"человек\", \"вы\", \"лучше\", \"потому\", \"чем\", \"г\", \"между\", \"почти\", \"через\", \"где\", \"меня\", \"при\", \"что\", \"говорил\", \"мне\", \"про\", \"чтоб\", \"да\", \"много\", \"раз\", \"чтобы\", \"даже\", \"может\", \"разве\", \"чуть\", \"два\", \"можно\", \"с\", \"эти\", \"для\", \"мой\", \"сам\", \"этого\", \"до\", \"моя\", \"свое\", \"этой\", \"другой\", \"мы\", \"свою\", \"этом\", \"его\", \"на\", \"себе\", \"этот\", \"ее\", \"над\", \"себя\", \"эту\", \"ей\", \"надо\", \"сегодня\", \"я\", \"ему\", \"наконец\", \"сейчас\", \"если\", \"нас\", \"сказал\", \"есть\", \"не\", \"сказала\"]"
   ]
  },
  {
   "cell_type": "code",
   "execution_count": null,
   "metadata": {
    "collapsed": false
   },
   "outputs": [],
   "source": [
    "tfidf_vec = TfidfVectorizer(norm=None, smooth_idf=False,\\\n",
    "                            token_pattern=u'[A-Za-zА-Яа-яёЁ]+', stop_words=stop_words)\n",
    "matrix_tfidf = tfidf_vec.fit_transform(texts).toarray()\n",
    "\n",
    "y = []\n",
    "for i in matrix_tfidf[1:]:\n",
    "    y.append( cos_m(matrix_tfidf[0], i) )\n",
    "plt.plot(y)"
   ]
  },
  {
   "cell_type": "code",
   "execution_count": 98,
   "metadata": {
    "collapsed": false
   },
   "outputs": [],
   "source": [
    "from pymystem3 import Mystem\n",
    "m = Mystem()\n"
   ]
  },
  {
   "cell_type": "code",
   "execution_count": 105,
   "metadata": {
    "collapsed": false
   },
   "outputs": [
    {
     "name": "stdout",
     "output_type": "stream",
     "text": [
      "выходить\n"
     ]
    }
   ],
   "source": [
    "print m.lemmatize('бигдатенько вышло')[2]"
   ]
  },
  {
   "cell_type": "code",
   "execution_count": 100,
   "metadata": {
    "collapsed": true
   },
   "outputs": [],
   "source": [
    "from nltk.tokenize import RegexpTokenizer\n",
    "tokenizer = RegexpTokenizer(u'[A-Za-zА-Яа-яёЁ]+')"
   ]
  },
  {
   "cell_type": "code",
   "execution_count": 102,
   "metadata": {
    "collapsed": false,
    "scrolled": true
   },
   "outputs": [
    {
     "name": "stdout",
     "output_type": "stream",
     "text": [
      "Обязанности\n",
      "Прямые\n",
      "продажи\n",
      "Работа\n",
      "в\n",
      "С\n",
      "Погрузка\n",
      "разгрузка\n",
      "товара\n",
      "Ведение\n",
      "заказов\n",
      "покупателя\n",
      "Заключение\n",
      "договоров\n",
      "Требования\n",
      "Ответственность\n",
      "коммуникабельность\n",
      "нацеленность\n",
      "на\n",
      "результат\n",
      "Стрессоустойчивость\n",
      "обучаемость\n",
      "инициативность\n",
      "Желание\n",
      "работать\n",
      "и\n",
      "зарабатывать\n",
      "Умение\n",
      "убеждать\n",
      "сообразительность\n",
      "Условия\n",
      "Оформление\n",
      "по\n",
      "ТК\n",
      "РФ\n",
      "Испытательный\n",
      "срок\n",
      "мес\n",
      "Отпуск\n",
      "раза\n",
      "в\n",
      "год\n",
      "по\n",
      "недели\n",
      "График\n",
      "работы\n",
      "с\n",
      "до\n",
      "Заработная\n",
      "плата\n",
      "оклад\n",
      "руб\n"
     ]
    }
   ],
   "source": [
    "for i in tokenizer.tokenize(texts[0]): print i"
   ]
  },
  {
   "cell_type": "code",
   "execution_count": 106,
   "metadata": {
    "collapsed": true
   },
   "outputs": [],
   "source": [
    "def tokenize(text):\n",
    "    tokens = tokenizer.tokenize(text)\n",
    "    lemms = []\n",
    "    for i in tokens:\n",
    "        if len(i)>2:\n",
    "            lemms.append(m.lemmatize(i)[0])\n",
    "    return lemms"
   ]
  },
  {
   "cell_type": "code",
   "execution_count": 107,
   "metadata": {
    "collapsed": false,
    "scrolled": true
   },
   "outputs": [
    {
     "name": "stdout",
     "output_type": "stream",
     "text": [
      "обязанность\n",
      "прямой\n",
      "продажа\n",
      "работа\n",
      "погрузка\n",
      "разгрузка\n",
      "товар\n",
      "ведение\n",
      "заказ\n",
      "покупатель\n",
      "заключение\n",
      "договор\n",
      "требование\n",
      "ответственность\n",
      "коммуникабельность\n",
      "нацеленность\n",
      "результат\n",
      "стрессоустойчивость\n",
      "обучаемость\n",
      "инициативность\n",
      "желание\n",
      "работать\n",
      "зарабатывать\n",
      "умение\n",
      "убеждать\n",
      "сообразительность\n",
      "условие\n",
      "оформление\n",
      "испытательный\n",
      "срок\n",
      "мес\n",
      "отпуск\n",
      "раз\n",
      "год\n",
      "неделя\n",
      "график\n",
      "работа\n",
      "заработный\n",
      "плата\n",
      "оклад\n",
      "руб\n"
     ]
    }
   ],
   "source": [
    "for i in tokenize(texts[0]): print i"
   ]
  },
  {
   "cell_type": "code",
   "execution_count": 110,
   "metadata": {
    "collapsed": false
   },
   "outputs": [
    {
     "ename": "KeyboardInterrupt",
     "evalue": "",
     "output_type": "error",
     "traceback": [
      "\u001b[1;31m---------------------------------------------------------------------------\u001b[0m",
      "\u001b[1;31mKeyboardInterrupt\u001b[0m                         Traceback (most recent call last)",
      "\u001b[1;32m<ipython-input-110-cd889d7c8174>\u001b[0m in \u001b[0;36m<module>\u001b[1;34m()\u001b[0m\n\u001b[0;32m      1\u001b[0m \u001b[0mtfidf_vec\u001b[0m \u001b[1;33m=\u001b[0m \u001b[0mTfidfVectorizer\u001b[0m\u001b[1;33m(\u001b[0m\u001b[0mnorm\u001b[0m\u001b[1;33m=\u001b[0m\u001b[0mNone\u001b[0m\u001b[1;33m,\u001b[0m \u001b[0msmooth_idf\u001b[0m\u001b[1;33m=\u001b[0m\u001b[0mFalse\u001b[0m\u001b[1;33m,\u001b[0m                             \u001b[0mtokenizer\u001b[0m\u001b[1;33m=\u001b[0m\u001b[0mtokenize\u001b[0m\u001b[1;33m,\u001b[0m \u001b[0mstop_words\u001b[0m\u001b[1;33m=\u001b[0m\u001b[0mstop_words\u001b[0m\u001b[1;33m)\u001b[0m\u001b[1;33m\u001b[0m\u001b[0m\n\u001b[1;32m----> 2\u001b[1;33m \u001b[0mmatrix_tfidf\u001b[0m \u001b[1;33m=\u001b[0m \u001b[0mtfidf_vec\u001b[0m\u001b[1;33m.\u001b[0m\u001b[0mfit_transform\u001b[0m\u001b[1;33m(\u001b[0m\u001b[0mtexts\u001b[0m\u001b[1;33m)\u001b[0m\u001b[1;33m.\u001b[0m\u001b[0mtoarray\u001b[0m\u001b[1;33m(\u001b[0m\u001b[1;33m)\u001b[0m\u001b[1;33m\u001b[0m\u001b[0m\n\u001b[0m\u001b[0;32m      3\u001b[0m \u001b[1;33m\u001b[0m\u001b[0m\n\u001b[0;32m      4\u001b[0m \u001b[0my\u001b[0m \u001b[1;33m=\u001b[0m \u001b[1;33m[\u001b[0m\u001b[1;33m]\u001b[0m\u001b[1;33m\u001b[0m\u001b[0m\n\u001b[0;32m      5\u001b[0m \u001b[1;32mfor\u001b[0m \u001b[0mi\u001b[0m \u001b[1;32min\u001b[0m \u001b[0mmatrix_tfidf\u001b[0m\u001b[1;33m[\u001b[0m\u001b[1;36m1\u001b[0m\u001b[1;33m:\u001b[0m\u001b[1;33m]\u001b[0m\u001b[1;33m:\u001b[0m\u001b[1;33m\u001b[0m\u001b[0m\n",
      "\u001b[1;32m/usr/local/lib/python2.7/dist-packages/sklearn/feature_extraction/text.pyc\u001b[0m in \u001b[0;36mfit_transform\u001b[1;34m(self, raw_documents, y)\u001b[0m\n\u001b[0;32m   1217\u001b[0m         \u001b[0mvectors\u001b[0m \u001b[1;33m:\u001b[0m \u001b[0marray\u001b[0m\u001b[1;33m,\u001b[0m \u001b[1;33m[\u001b[0m\u001b[0mn_samples\u001b[0m\u001b[1;33m,\u001b[0m \u001b[0mn_features\u001b[0m\u001b[1;33m]\u001b[0m\u001b[1;33m\u001b[0m\u001b[0m\n\u001b[0;32m   1218\u001b[0m         \"\"\"\n\u001b[1;32m-> 1219\u001b[1;33m         \u001b[0mX\u001b[0m \u001b[1;33m=\u001b[0m \u001b[0msuper\u001b[0m\u001b[1;33m(\u001b[0m\u001b[0mTfidfVectorizer\u001b[0m\u001b[1;33m,\u001b[0m \u001b[0mself\u001b[0m\u001b[1;33m)\u001b[0m\u001b[1;33m.\u001b[0m\u001b[0mfit_transform\u001b[0m\u001b[1;33m(\u001b[0m\u001b[0mraw_documents\u001b[0m\u001b[1;33m)\u001b[0m\u001b[1;33m\u001b[0m\u001b[0m\n\u001b[0m\u001b[0;32m   1220\u001b[0m         \u001b[0mself\u001b[0m\u001b[1;33m.\u001b[0m\u001b[0m_tfidf\u001b[0m\u001b[1;33m.\u001b[0m\u001b[0mfit\u001b[0m\u001b[1;33m(\u001b[0m\u001b[0mX\u001b[0m\u001b[1;33m)\u001b[0m\u001b[1;33m\u001b[0m\u001b[0m\n\u001b[0;32m   1221\u001b[0m         \u001b[1;31m# X is already a transformed view of raw_documents so\u001b[0m\u001b[1;33m\u001b[0m\u001b[1;33m\u001b[0m\u001b[0m\n",
      "\u001b[1;32m/usr/local/lib/python2.7/dist-packages/sklearn/feature_extraction/text.pyc\u001b[0m in \u001b[0;36mfit_transform\u001b[1;34m(self, raw_documents, y)\u001b[0m\n\u001b[0;32m    778\u001b[0m         \u001b[0mmax_features\u001b[0m \u001b[1;33m=\u001b[0m \u001b[0mself\u001b[0m\u001b[1;33m.\u001b[0m\u001b[0mmax_features\u001b[0m\u001b[1;33m\u001b[0m\u001b[0m\n\u001b[0;32m    779\u001b[0m \u001b[1;33m\u001b[0m\u001b[0m\n\u001b[1;32m--> 780\u001b[1;33m         \u001b[0mvocabulary\u001b[0m\u001b[1;33m,\u001b[0m \u001b[0mX\u001b[0m \u001b[1;33m=\u001b[0m \u001b[0mself\u001b[0m\u001b[1;33m.\u001b[0m\u001b[0m_count_vocab\u001b[0m\u001b[1;33m(\u001b[0m\u001b[0mraw_documents\u001b[0m\u001b[1;33m,\u001b[0m \u001b[0mself\u001b[0m\u001b[1;33m.\u001b[0m\u001b[0mfixed_vocabulary\u001b[0m\u001b[1;33m)\u001b[0m\u001b[1;33m\u001b[0m\u001b[0m\n\u001b[0m\u001b[0;32m    781\u001b[0m         \u001b[0mX\u001b[0m \u001b[1;33m=\u001b[0m \u001b[0mX\u001b[0m\u001b[1;33m.\u001b[0m\u001b[0mtocsc\u001b[0m\u001b[1;33m(\u001b[0m\u001b[1;33m)\u001b[0m\u001b[1;33m\u001b[0m\u001b[0m\n\u001b[0;32m    782\u001b[0m \u001b[1;33m\u001b[0m\u001b[0m\n",
      "\u001b[1;32m/usr/local/lib/python2.7/dist-packages/sklearn/feature_extraction/text.pyc\u001b[0m in \u001b[0;36m_count_vocab\u001b[1;34m(self, raw_documents, fixed_vocab)\u001b[0m\n\u001b[0;32m    713\u001b[0m         \u001b[0mindptr\u001b[0m\u001b[1;33m.\u001b[0m\u001b[0mappend\u001b[0m\u001b[1;33m(\u001b[0m\u001b[1;36m0\u001b[0m\u001b[1;33m)\u001b[0m\u001b[1;33m\u001b[0m\u001b[0m\n\u001b[0;32m    714\u001b[0m         \u001b[1;32mfor\u001b[0m \u001b[0mdoc\u001b[0m \u001b[1;32min\u001b[0m \u001b[0mraw_documents\u001b[0m\u001b[1;33m:\u001b[0m\u001b[1;33m\u001b[0m\u001b[0m\n\u001b[1;32m--> 715\u001b[1;33m             \u001b[1;32mfor\u001b[0m \u001b[0mfeature\u001b[0m \u001b[1;32min\u001b[0m \u001b[0manalyze\u001b[0m\u001b[1;33m(\u001b[0m\u001b[0mdoc\u001b[0m\u001b[1;33m)\u001b[0m\u001b[1;33m:\u001b[0m\u001b[1;33m\u001b[0m\u001b[0m\n\u001b[0m\u001b[0;32m    716\u001b[0m                 \u001b[1;32mtry\u001b[0m\u001b[1;33m:\u001b[0m\u001b[1;33m\u001b[0m\u001b[0m\n\u001b[0;32m    717\u001b[0m                     \u001b[0mj_indices\u001b[0m\u001b[1;33m.\u001b[0m\u001b[0mappend\u001b[0m\u001b[1;33m(\u001b[0m\u001b[0mvocabulary\u001b[0m\u001b[1;33m[\u001b[0m\u001b[0mfeature\u001b[0m\u001b[1;33m]\u001b[0m\u001b[1;33m)\u001b[0m\u001b[1;33m\u001b[0m\u001b[0m\n",
      "\u001b[1;32m/usr/local/lib/python2.7/dist-packages/sklearn/feature_extraction/text.pyc\u001b[0m in \u001b[0;36m<lambda>\u001b[1;34m(doc)\u001b[0m\n\u001b[0;32m    227\u001b[0m \u001b[1;33m\u001b[0m\u001b[0m\n\u001b[0;32m    228\u001b[0m             return lambda doc: self._word_ngrams(\n\u001b[1;32m--> 229\u001b[1;33m                 tokenize(preprocess(self.decode(doc))), stop_words)\n\u001b[0m\u001b[0;32m    230\u001b[0m \u001b[1;33m\u001b[0m\u001b[0m\n\u001b[0;32m    231\u001b[0m         \u001b[1;32melse\u001b[0m\u001b[1;33m:\u001b[0m\u001b[1;33m\u001b[0m\u001b[0m\n",
      "\u001b[1;32m/usr/local/lib/python2.7/dist-packages/sklearn/feature_extraction/text.pyc\u001b[0m in \u001b[0;36m_word_ngrams\u001b[1;34m(self, tokens, stop_words)\u001b[0m\n\u001b[0;32m    116\u001b[0m         \u001b[1;31m# handle stop words\u001b[0m\u001b[1;33m\u001b[0m\u001b[1;33m\u001b[0m\u001b[0m\n\u001b[0;32m    117\u001b[0m         \u001b[1;32mif\u001b[0m \u001b[0mstop_words\u001b[0m \u001b[1;32mis\u001b[0m \u001b[1;32mnot\u001b[0m \u001b[0mNone\u001b[0m\u001b[1;33m:\u001b[0m\u001b[1;33m\u001b[0m\u001b[0m\n\u001b[1;32m--> 118\u001b[1;33m             \u001b[0mtokens\u001b[0m \u001b[1;33m=\u001b[0m \u001b[1;33m[\u001b[0m\u001b[0mw\u001b[0m \u001b[1;32mfor\u001b[0m \u001b[0mw\u001b[0m \u001b[1;32min\u001b[0m \u001b[0mtokens\u001b[0m \u001b[1;32mif\u001b[0m \u001b[0mw\u001b[0m \u001b[1;32mnot\u001b[0m \u001b[1;32min\u001b[0m \u001b[0mstop_words\u001b[0m\u001b[1;33m]\u001b[0m\u001b[1;33m\u001b[0m\u001b[0m\n\u001b[0m\u001b[0;32m    119\u001b[0m \u001b[1;33m\u001b[0m\u001b[0m\n\u001b[0;32m    120\u001b[0m         \u001b[1;31m# handle token n-grams\u001b[0m\u001b[1;33m\u001b[0m\u001b[1;33m\u001b[0m\u001b[0m\n",
      "\u001b[1;31mKeyboardInterrupt\u001b[0m: "
     ]
    }
   ],
   "source": [
    "tfidf_vec = TfidfVectorizer(norm=None, smooth_idf=False, \\\n",
    "                            tokenizer=tokenize, stop_words=stop_words)\n",
    "matrix_tfidf = tfidf_vec.fit_transform(texts).toarray()\n",
    "\n",
    "y = []\n",
    "for i in matrix_tfidf[1:]:\n",
    "    y.append( cos_m(matrix_tfidf[0], i) )\n",
    "plt.plot(y)"
   ]
  },
  {
   "cell_type": "code",
   "execution_count": 119,
   "metadata": {
    "collapsed": false
   },
   "outputs": [
    {
     "data": {
      "text/plain": [
       "[<matplotlib.lines.Line2D at 0x7f811c6071d0>]"
      ]
     },
     "execution_count": 119,
     "metadata": {},
     "output_type": "execute_result"
    },
    {
     "data": {
      "image/png": "[encoded data removed]",
      "text/plain": [
       "<matplotlib.figure.Figure at 0x7f811cc34250>"
      ]
     },
     "metadata": {},
     "output_type": "display_data"
    }
   ],
   "source": [
    "tfidf_vec = TfidfVectorizer(norm=None, smooth_idf=False, token_pattern=u'[A-Za-zА-Яа-яёЁ]+')\n",
    "matrix_tfidf = tfidf_vec.fit_transform(texts).toarray()\n",
    "\n",
    "y = []\n",
    "for i in matrix_tfidf[1:]:\n",
    "    y.append( cos_m(matrix_tfidf[0], i) )\n",
    "plt.plot(y)"
   ]
  },
  {
   "cell_type": "code",
   "execution_count": 120,
   "metadata": {
    "collapsed": true
   },
   "outputs": [],
   "source": [
    "words = [i[0] for i in sorted(tfidf_vec.vocabulary_.items(), key=lambda x: x[1])]"
   ]
  },
  {
   "cell_type": "code",
   "execution_count": 121,
   "metadata": {
    "collapsed": false
   },
   "outputs": [
    {
     "data": {
      "text/plain": [
       "(4001, 26887)"
      ]
     },
     "execution_count": 121,
     "metadata": {},
     "output_type": "execute_result"
    }
   ],
   "source": [
    "matrix_tfidf.shape"
   ]
  },
  {
   "cell_type": "code",
   "execution_count": 122,
   "metadata": {
    "collapsed": false
   },
   "outputs": [
    {
     "data": {
      "text/plain": [
       "26887"
      ]
     },
     "execution_count": 122,
     "metadata": {},
     "output_type": "execute_result"
    }
   ],
   "source": [
    "len(words)"
   ]
  },
  {
   "cell_type": "code",
   "execution_count": 123,
   "metadata": {
    "collapsed": false
   },
   "outputs": [
    {
     "data": {
      "text/plain": [
       "(26887,)"
      ]
     },
     "execution_count": 123,
     "metadata": {},
     "output_type": "execute_result"
    }
   ],
   "source": [
    "tfidf_vec._tfidf.idf_.shape"
   ]
  },
  {
   "cell_type": "code",
   "execution_count": 124,
   "metadata": {
    "collapsed": false
   },
   "outputs": [
    {
     "data": {
      "text/plain": [
       "[(1, 'a'), (2, 'c'), (3, 'x')]"
      ]
     },
     "execution_count": 124,
     "metadata": {},
     "output_type": "execute_result"
    }
   ],
   "source": [
    "zip([1,2,3],['a','c','x'])"
   ]
  },
  {
   "cell_type": "code",
   "execution_count": 125,
   "metadata": {
    "collapsed": true
   },
   "outputs": [],
   "source": [
    "temp = zip(tfidf_vec._tfidf, words)"
   ]
  },
  {
   "cell_type": "code",
   "execution_count": 129,
   "metadata": {
    "collapsed": false
   },
   "outputs": [
    {
     "name": "stdout",
     "output_type": "stream",
     "text": [
      "в\n",
      "и\n",
      "работы\n",
      "с\n",
      "на\n",
      "обязанности\n",
      "по\n",
      "требования\n",
      "опыт\n",
      "условия\n",
      "от\n",
      "график\n",
      "для\n",
      "работа\n",
      "компании\n",
      "тк\n",
      "обучение\n",
      "знание\n",
      "оформление\n",
      "мы\n",
      "заработная\n",
      "рф\n",
      "возможность\n",
      "образование\n",
      "к\n",
      "плата\n",
      "не\n",
      "роста\n",
      "работать\n",
      "лет\n",
      "клиентов\n",
      "за\n",
      "карьерного\n",
      "работу\n",
      "консультирование\n",
      "до\n",
      "компания\n",
      "продаж\n",
      "предлагаем\n",
      "разработки\n",
      "профессионального\n",
      "разработка\n",
      "умение\n",
      "команде\n",
      "ведение\n",
      "оклад\n",
      "желание\n",
      "соответствии\n",
      "а\n",
      "из\n"
     ]
    }
   ],
   "source": [
    "for i in sorted(temp)[:50]: print i[1]"
   ]
  },
  {
   "cell_type": "code",
   "execution_count": 131,
   "metadata": {
    "collapsed": false
   },
   "outputs": [
    {
     "name": "stdout",
     "output_type": "stream",
     "text": [
      "в\n",
      "работы\n",
      "обязанности\n",
      "и\n",
      "с\n",
      "на\n",
      "по\n",
      "график\n",
      "требования\n",
      "от\n",
      "условия\n",
      "обучение\n",
      "опыт\n",
      "работа\n",
      "компании\n",
      "тк\n",
      "клиентов\n",
      "для\n",
      "оформление\n",
      "продаж\n",
      "консультирование\n",
      "заработная\n",
      "возможность\n",
      "образование\n",
      "мы\n",
      "ведение\n",
      "плата\n",
      "рф\n",
      "к\n",
      "не\n",
      "роста\n",
      "карьерного\n",
      "работу\n",
      "покупателей\n",
      "скидки\n",
      "оклад\n",
      "предлагаем\n",
      "работать\n",
      "продажа\n",
      "желание\n",
      "за\n",
      "соответствии\n",
      "кассой\n",
      "коммуникабельность\n",
      "зарабатывать\n",
      "компания\n",
      "бесплатное\n",
      "отчетности\n",
      "среднего\n",
      "это\n"
     ]
    }
   ],
   "source": [
    "tfidf_vec = TfidfVectorizer(norm=None, smooth_idf=False, token_pattern=u'[A-Za-zА-Яа-яёЁ]+')\n",
    "tfidf_vec.fit_transform(texts[:2000]).toarray()\n",
    "words = [i[0] for i in sorted(tfidf_vec.vocabulary_.items(), key=lambda x: x[1])]\n",
    "temp = zip(tfidf_vec._tfidf.idf_, words)\n",
    "for i in sorted(temp)[:50]: print i[1]"
   ]
  },
  {
   "cell_type": "code",
   "execution_count": 132,
   "metadata": {
    "collapsed": false
   },
   "outputs": [
    {
     "name": "stdout",
     "output_type": "stream",
     "text": [
      "и\n",
      "в\n",
      "с\n",
      "опыт\n",
      "работы\n",
      "на\n",
      "требования\n",
      "знание\n",
      "по\n",
      "условия\n",
      "обязанности\n",
      "от\n",
      "для\n",
      "разработки\n",
      "разработка\n",
      "работа\n",
      "компании\n",
      "тк\n",
      "график\n",
      "умение\n",
      "лет\n",
      "мы\n",
      "рф\n",
      "sql\n",
      "офис\n",
      "к\n",
      "плата\n",
      "заработная\n",
      "html\n",
      "до\n",
      "оформление\n",
      "не\n",
      "данных\n",
      "команде\n",
      "или\n",
      "работать\n",
      "систем\n",
      "c\n",
      "возможность\n",
      "образование\n",
      "javascript\n",
      "приложений\n",
      "участие\n",
      "понимание\n",
      "css\n",
      "роста\n",
      "высшее\n",
      "профессионального\n",
      "обучение\n",
      "будет\n"
     ]
    }
   ],
   "source": [
    "tfidf_vec = TfidfVectorizer(norm=None, smooth_idf=False, token_pattern=u'[A-Za-zА-Яа-яёЁ]+')\n",
    "tfidf_vec.fit_transform(texts[2000:]).toarray()\n",
    "words = [i[0] for i in sorted(tfidf_vec.vocabulary_.items(), key=lambda x: x[1])]\n",
    "temp = zip(tfidf_vec._tfidf.idf_, words)\n",
    "for i in sorted(temp)[:50]: print i[1]"
   ]
  },
  {
   "cell_type": "code",
   "execution_count": 159,
   "metadata": {
    "collapsed": false
   },
   "outputs": [
    {
     "data": {
      "text/plain": [
       "[<matplotlib.lines.Line2D at 0x7f811a642c90>]"
      ]
     },
     "execution_count": 159,
     "metadata": {},
     "output_type": "execute_result"
    },
    {
     "data": {
      "image/png": "[encoded data removed]",
      "text/plain": [
       "<matplotlib.figure.Figure at 0x7f811b022f90>"
      ]
     },
     "metadata": {},
     "output_type": "display_data"
    }
   ],
   "source": [
    "tfidf_vec = TfidfVectorizer(norm=None, smooth_idf=False, token_pattern=u'[A-Za-zА-Яа-яёЁ]+')\n",
    "matrix_tfidf = tfidf_vec.fit_transform(texts).toarray()\n",
    "\n",
    "y = []\n",
    "for i in matrix_tfidf[3123+20-1:3123+20+2]:\n",
    "    s = 0\n",
    "    for j in matrix_tfidf[:20]:\n",
    "        s +=  cos_m(j, i) \n",
    "    y.append( s )\n",
    "plt.plot(y)"
   ]
  },
  {
   "cell_type": "code",
   "execution_count": 150,
   "metadata": {
    "collapsed": false
   },
   "outputs": [
    {
     "data": {
      "text/plain": [
       "3981"
      ]
     },
     "execution_count": 150,
     "metadata": {},
     "output_type": "execute_result"
    }
   ],
   "source": [
    "len(y)"
   ]
  },
  {
   "cell_type": "code",
   "execution_count": 148,
   "metadata": {
    "collapsed": false
   },
   "outputs": [
    {
     "data": {
      "text/plain": [
       "[<matplotlib.lines.Line2D at 0x7f811ac40c90>]"
      ]
     },
     "execution_count": 148,
     "metadata": {},
     "output_type": "execute_result"
    },
    {
     "data": {
      "image/png": "[encoded data removed]",
      "text/plain": [
       "<matplotlib.figure.Figure at 0x7f811ac40e90>"
      ]
     },
     "metadata": {},
     "output_type": "display_data"
    }
   ],
   "source": [
    "plt.plot(range(1980), sorted(y[:1980]))\n",
    "plt.plot(range(1980, 3981), sorted(y[1980:]))"
   ]
  },
  {
   "cell_type": "code",
   "execution_count": 146,
   "metadata": {
    "collapsed": false
   },
   "outputs": [
    {
     "data": {
      "text/plain": [
       "(2001, 2001)"
      ]
     },
     "execution_count": 146,
     "metadata": {},
     "output_type": "execute_result"
    }
   ],
   "source": [
    "len(range(1980, 3981)),len(sorted(y[1980:]))"
   ]
  },
  {
   "cell_type": "code",
   "execution_count": 153,
   "metadata": {
    "collapsed": false
   },
   "outputs": [
    {
     "data": {
      "text/plain": [
       "1.6332599610940355"
      ]
     },
     "execution_count": 153,
     "metadata": {},
     "output_type": "execute_result"
    }
   ],
   "source": [
    "max(y[1980:])"
   ]
  },
  {
   "cell_type": "code",
   "execution_count": 154,
   "metadata": {
    "collapsed": false
   },
   "outputs": [
    {
     "data": {
      "text/plain": [
       "3123"
      ]
     },
     "execution_count": 154,
     "metadata": {},
     "output_type": "execute_result"
    }
   ],
   "source": [
    "y.index(max(y[1980:]))"
   ]
  },
  {
   "cell_type": "code",
   "execution_count": 157,
   "metadata": {
    "collapsed": false
   },
   "outputs": [
    {
     "name": "stdout",
     "output_type": "stream",
     "text": [
      "Обязанности:   Поддержка текущих и разработка новых устройств для систем автоматического снятия показаний с приборов учета энергоресурсов и оснастки к ним;   Написание прошивок для микроконтроллеров MSP430 и микроконтроллеров с ядрами Cortex;   Разработка программных утилит для PC;   Возможны проекты для мобильных устройств(Android) встраиваемых систем на основе Unix.   Требования:   Владение языками программирования(минимум С/С++);   Чтение и понимание принципиальных электрических схем;   Понимание принципов ООП;   Технический английский (письменный);   Опыт работы с микроконтроллерами.   Дополнительными плюсами будут:    Опыт работы с Git;   Знание языков программирования высокого уровня(C#, Java);   Опыт разработки низкопотребляющих устройств;   Опыт разработки мобильных и встраиваемых систем на основе Android, Unix;   Опыт работы с радиотранссиверами;   Разговорный английский;   Базовые знания метрологии.   Условия:   Белая заработная плата;   Полный рабочий день (9:00-18:00, пт. 9:00-17:10);   Оклад каждый месяц + премия каждый квартал.   Комфортный офис, место для парковки.  \n",
      "\n",
      "Должностные обязанности:  Участие в проектах по разработке ПО; Доработка и поддержка существующих бизнес приложений компании; Интеграция бизнес-приложений с внешними системами; Разработка отчетов и мониторингов.  Требования:  Подтвержденный опыт разработки на С# более 3-х лет; Знание принципов ООП и шаблонов проектирования; Уверенное знание Linq; Работа с БД через ORM; Знание T-SQL, опыт работы с СУБД MSSQL.  Мы предлагаем:  Заработная плата обсуждается по итогам собеседования; Место работы : м. Нагатинская; Оформление в соответствии с ТК РФ; Работа в крупной стабильной компании; Корпоративные скидки; Работа в команде профессионалов. \n",
      "\n",
      "Обязанности:  Разработка общей стратегии развития ЛС (35 машин) и контроль ее работоспособности, Обеспечение и поддержка работы мини АТС. Обеспечение и поддержка работы систем контроля доступа. Определение потребности, мониторинг и закупка компьютерной и организационной техники. Администрирование и реконструкция сайта. Настройка сетевых функций рабочих станций. Учет пользователей ЛС. Ремонт ПК, обслуживание и ремонт оргтехники.    Требования:  Опыт системного администрирования ЛВС от 30 машин Высшее образование (техническое) Желателен опыт по обучению пользователей Коммуникабельность, аналитическое мышление, нацеленность на решение возникающих вопросов Умение работать в команде, дисциплинированность, ответственность, желание обучаться Желателен личный автомобиль    Условия:  Оформление по ТК РФ График работы 09.00 – 18.00, понедельник – пятница Заработная плата, по итогам собеседования \n",
      "\n"
     ]
    }
   ],
   "source": [
    "for i in texts[3123+20-1:3123+20+2]: print i"
   ]
  },
  {
   "cell_type": "code",
   "execution_count": null,
   "metadata": {
    "collapsed": true
   },
   "outputs": [],
   "source": []
  }
 ],
 "metadata": {
  "kernelspec": {
   "display_name": "Python 2",
   "language": "python",
   "name": "python2"
  },
  "language_info": {
   "codemirror_mode": {
    "name": "ipython",
    "version": 2
   },
   "file_extension": ".py",
   "mimetype": "text/x-python",
   "name": "python",
   "nbconvert_exporter": "python",
   "pygments_lexer": "ipython2",
   "version": "2.7.11"
  }
 },
 "nbformat": 4,
 "nbformat_minor": 0
}
