{
 "cells": [
  {
   "cell_type": "code",
   "execution_count": 151,
   "metadata": {
    "collapsed": false
   },
   "outputs": [],
   "source": [
    "import pandas as pd\n",
    "from bs4 import BeautifulSoup\n",
    "from sklearn.feature_extraction.text import CountVectorizer\n",
    "from sklearn.linear_model import LogisticRegression\n",
    "from sklearn.grid_search import GridSearchCV\n",
    "from sklearn.tree import DecisionTreeClassifier\n",
    "from sklearn.ensemble import RandomForestClassifier\n",
    "from sklearn.linear_model import LogisticRegression\n",
    "from sklearn.metrics import roc_auc_score, roc_curve, precision_recall_curve\n",
    "from sklearn.cross_validation import train_test_split, StratifiedKFold, cross_val_score\n",
    "import nltk\n",
    "from nltk.corpus import stopwords\n",
    "import re"
   ]
  },
  {
   "cell_type": "code",
   "execution_count": null,
   "metadata": {
    "collapsed": true
   },
   "outputs": [],
   "source": [
    "labeled = pd.read_csv(\"labeledTrainData.tsv\", header=0, delimiter=\"\\t\", quoting=2)\n",
    "test = pd.read_csv(\"testData.tsv\", header=0, delimiter=\"\\t\", quoting=2)\n",
    "unlabeled = pd.read_csv(\"unlabeledTrainData.tsv\", header=0, delimiter=\"\\t\", quoting=3)"
   ]
  },
  {
   "cell_type": "code",
   "execution_count": 3,
   "metadata": {
    "collapsed": false
   },
   "outputs": [],
   "source": []
  },
  {
   "cell_type": "code",
   "execution_count": 112,
   "metadata": {
    "collapsed": false
   },
   "outputs": [],
   "source": [
    "from nltk.stem import WordNetLemmatizer\n",
    "stemmer = WordNetLemmatizer()\n",
    "\n",
    "def review_to_words( raw_review ):\n",
    "    review_text = BeautifulSoup(raw_review, \"lxml\").get_text() \n",
    "    letters_only = re.sub(\"[^a-zA-Z]\", \" \", review_text) \n",
    "    words = letters_only.lower().split()                             \n",
    "    meaningful_words = map(lambda x: stemmer.lemmatize(x), words)\n",
    "    return( \" \".join( meaningful_words ))   "
   ]
  },
  {
   "cell_type": "code",
   "execution_count": null,
   "metadata": {
    "collapsed": false
   },
   "outputs": [],
   "source": []
  },
  {
   "cell_type": "code",
   "execution_count": 113,
   "metadata": {
    "collapsed": false
   },
   "outputs": [],
   "source": [
    "labeled_reviews = []\n",
    "for review in labeled['review']:\n",
    "    labeled_reviews.append(review_to_words(review))"
   ]
  },
  {
   "cell_type": "code",
   "execution_count": 7,
   "metadata": {
    "collapsed": false
   },
   "outputs": [],
   "source": [
    "unlabeled_reviews = []\n",
    "for review in unlabeled['review']:\n",
    "    unlabeled_reviews.append(review_to_words(review))"
   ]
  },
  {
   "cell_type": "code",
   "execution_count": 115,
   "metadata": {
    "collapsed": false
   },
   "outputs": [],
   "source": [
    "test_reviews = []\n",
    "for review in test['review']:\n",
    "    test_reviews.append(review_to_words(review))"
   ]
  },
  {
   "cell_type": "code",
   "execution_count": null,
   "metadata": {
    "collapsed": false
   },
   "outputs": [],
   "source": []
  },
  {
   "cell_type": "code",
   "execution_count": 144,
   "metadata": {
    "collapsed": false
   },
   "outputs": [],
   "source": [
    "vectorizer = CountVectorizer(max_features = 5000)\n",
    "labeled_reviews_features = vectorizer.fit_transform(labeled_reviews).toarray()"
   ]
  },
  {
   "cell_type": "code",
   "execution_count": 146,
   "metadata": {
    "collapsed": false
   },
   "outputs": [],
   "source": [
    "vectorizer = CountVectorizer(max_features = 5000)\n",
    "test_reviews_features = vectorizer.fit_transform(test_reviews).toarray()"
   ]
  },
  {
   "cell_type": "code",
   "execution_count": 51,
   "metadata": {
    "collapsed": false
   },
   "outputs": [],
   "source": []
  },
  {
   "cell_type": "code",
   "execution_count": 148,
   "metadata": {
    "collapsed": false
   },
   "outputs": [],
   "source": [
    "lr_model = LogisticRegression()\n",
    "lr_model.fit(labeled_reviews_features, labeled[\"sentiment\"])\n",
    "pred = lr_model.predict(test_reviews_features)"
   ]
  },
  {
   "cell_type": "code",
   "execution_count": null,
   "metadata": {
    "collapsed": false
   },
   "outputs": [],
   "source": []
  },
  {
   "cell_type": "code",
   "execution_count": 149,
   "metadata": {
    "collapsed": false
   },
   "outputs": [],
   "source": [
    "result_data = zip(test['id'], pred)\n",
    "pd.DataFrame(result_data, columns=['id', 'sentiment']).to_csv('submit-log.csv', index=False)"
   ]
  },
  {
   "cell_type": "code",
   "execution_count": 95,
   "metadata": {
    "collapsed": true
   },
   "outputs": [],
   "source": []
  },
  {
   "cell_type": "code",
   "execution_count": 1,
   "metadata": {
    "collapsed": false
   },
   "outputs": [
    {
     "name": "stdout",
     "output_type": "stream",
     "text": [
      "['abstract-rendering==0.5.1', 'alabaster==0.7.7', 'anaconda-client==1.2.2', 'appnope==0.1.0', 'appscript==1.0.1', 'argcomplete==1.0.0', 'astropy==1.1.1', 'babel==2.2.0', 'backports-abc==0.4', 'backports.ssl-match-hostname==3.4.0.2', 'beautifulsoup4==4.4.1', 'bitarray==0.8.1', 'blaze==0.9.0', 'bokeh==0.11.0', 'boto==2.39.0', 'bottleneck==1.0.0', 'bz2file==0.98', 'cdecimal==2.3', 'cffi==1.2.1', 'clyent==1.2.0', 'colorama==0.3.6', 'conda-build==1.19.0', 'conda-env==2.4.5', 'conda==4.0.5', 'configobj==5.0.6', 'cryptography==1.0.2', 'cycler==0.9.0', 'cython==0.23.4', 'cytoolz==0.7.5', 'datashape==0.5.0', 'dawg-python==0.7.2', 'decorator==4.0.9', 'docopt==0.6.2', 'docutils==0.12', 'dynd==f641248', 'enum34==1.1.2', 'et-xmlfile==1.0.1', 'fastcache==1.0.2', 'flask==0.10.1', 'funcsigs==0.4', 'futures==3.0.3', 'gensim==0.12.4', 'gevent-websocket==0.9.5', 'gevent==1.0.2', 'greenlet==0.4.9', 'grin==1.2.1', 'h5py==2.5.0', 'happybase==0.9', 'httpretty==0.8.14', 'idna==2.0', 'ipaddress==1.0.14', 'ipykernel==4.3.1', 'ipython-genutils==0.1.0', 'ipython==4.1.2', 'ipywidgets==4.1.1', 'itsdangerous==0.24', 'jdcal==1.2', 'jedi==0.9.0', 'jinja2==2.8', 'jsonschema==2.4.0', 'jupyter-client==4.2.1', 'jupyter-console==4.1.1', 'jupyter-core==4.0.6', 'jupyter==1.0.0', 'llvmlite==0.8.0', 'lxml==3.5.0', 'markupsafe==0.23', 'matplotlib==1.5.1', 'mistune==0.7.1', 'multipledispatch==0.4.8', 'nbconvert==4.1.0', 'nbformat==4.0.1', 'networkx==1.11', 'nltk==3.1', 'nose==1.3.7', 'notebook==4.1.0', 'numba==0.23.1', 'numexpr==2.4.6', 'numpy==1.10.4', 'odo==0.4.0', 'openpyxl==2.3.2', 'pandas==0.17.1', 'path.py==0.0.0', 'patsy==0.4.0', 'pbr==1.8.1', 'pep8==1.7.0', 'pexpect==3.3', 'pickleshare==0.5', 'pillow==3.1.0', 'pip==8.1.0', 'ply==3.8', 'psutil==3.4.2', 'ptyprocess==0.5', 'py==1.4.31', 'pyasn1==0.1.9', 'pyaudio==0.2.7', 'pycosat==0.6.1', 'pycparser==2.14', 'pycrypto==2.6.1', 'pycurl==7.19.5.3', 'pyflakes==1.0.0', 'pygments==2.1.1', 'pymorphy2-dicts==2.4.393442.3710985', 'pymorphy2==0.8', 'pymystem3==0.1.5', 'pyopenssl==0.15.1', 'pyparsing==2.0.3', 'pytest==2.8.5', 'python-dateutil==2.4.2', 'pytz==2015.7', 'pyyaml==3.11', 'pyzmq==15.2.0', 'qtconsole==4.1.1', 'redis==2.10.3', 'requests==2.9.1', 'rope==0.9.4', 'scikit-image==0.11.3', 'scikit-learn==0.17', 'scipy==0.17.0', 'setuptools==20.2.2', 'simplegeneric==0.8.1', 'singledispatch==3.4.0.3', 'six==1.10.0', 'sklearn==0.0', 'smart-open==1.3.2', 'snowballstemmer==1.2.1', 'sockjs-tornado==1.0.1', 'sphinx-rtd-theme==0.1.9', 'sphinx==1.3.5', 'spyder==2.3.8', 'sqlalchemy==1.0.11', 'statsmodels==0.6.1', 'stevedore==1.12.0', 'sympy==0.7.6.1', 'tables==3.2.2', 'terminado==0.5', 'thrift==0.9.3', 'toolz==0.7.4', 'tornado==4.3', 'traitlets==4.1.0', 'unicodecsv==0.14.1', 'virtualenv-clone==0.2.6', 'virtualenv==15.0.0', 'virtualenvwrapper==4.7.1', 'werkzeug==0.11.3', 'wheel==0.29.0', 'xlrd==0.9.4', 'xlsxwriter==0.8.4', 'xlwings==0.6.4', 'xlwt==1.0.0']\n"
     ]
    }
   ],
   "source": [
    "import pip\n",
    "installed_packages = pip.get_installed_distributions()\n",
    "installed_packages_list = sorted([\"%s==%s\" % (i.key, i.version)\n",
    "     for i in installed_packages])\n",
    "print(installed_packages_list)\n"
   ]
  },
  {
   "cell_type": "code",
   "execution_count": null,
   "metadata": {
    "collapsed": true
   },
   "outputs": [],
   "source": []
  },
  {
   "cell_type": "code",
   "execution_count": null,
   "metadata": {
    "collapsed": true
   },
   "outputs": [],
   "source": []
  },
  {
   "cell_type": "code",
   "execution_count": null,
   "metadata": {
    "collapsed": true
   },
   "outputs": [],
   "source": []
  },
  {
   "cell_type": "code",
   "execution_count": null,
   "metadata": {
    "collapsed": false
   },
   "outputs": [],
   "source": []
  },
  {
   "cell_type": "code",
   "execution_count": 45,
   "metadata": {
    "collapsed": true
   },
   "outputs": [],
   "source": [
    "forest = RandomForestClassifier(n_estimators = 100) \n",
    "forest = forest.fit( labeled_reviews_features, labeled[\"sentiment\"])\n",
    "result_forest = forest.predict(test_reviews_features)"
   ]
  },
  {
   "cell_type": "code",
   "execution_count": 81,
   "metadata": {
    "collapsed": false
   },
   "outputs": [],
   "source": [
    "result_data = zip(test['id'], result_forest)"
   ]
  },
  {
   "cell_type": "code",
   "execution_count": null,
   "metadata": {
    "collapsed": false
   },
   "outputs": [],
   "source": [
    "pd.DataFrame(result_data, columns=['id', 'sentiment']).to_csv('submit_forest.csv', index=False)"
   ]
  },
  {
   "cell_type": "code",
   "execution_count": 41,
   "metadata": {
    "collapsed": false
   },
   "outputs": [],
   "source": []
  },
  {
   "cell_type": "code",
   "execution_count": 46,
   "metadata": {
    "collapsed": false
   },
   "outputs": [],
   "source": [
    "from sklearn.linear_model import LogisticRegression\n",
    "lr = LogisticRegression()\n",
    "lr.fit(labeled_reviews_features, labeled[\"sentiment\"])\n",
    "result_lr = lr.predict(test_reviews_features)\n",
    "result_data = zip(test['id'], result_lr)\n",
    "pd.DataFrame(result_data, columns=['id', 'sentiment']).to_csv('submit_lr.csv', index=False)"
   ]
  },
  {
   "cell_type": "code",
   "execution_count": 43,
   "metadata": {
    "collapsed": true
   },
   "outputs": [],
   "source": []
  },
  {
   "cell_type": "code",
   "execution_count": 47,
   "metadata": {
    "collapsed": false
   },
   "outputs": [],
   "source": [
    "vectorizer = CountVectorizer(ngram_range=[1,3], max_features = 10000)\n",
    "labeled_reviews_dirty = vectorizer.fit_transform(labeled['review']).toarray()\n",
    "test_reviews_dirty = vectorizer.fit_transform(test['review']).toarray()"
   ]
  },
  {
   "cell_type": "code",
   "execution_count": 48,
   "metadata": {
    "collapsed": true
   },
   "outputs": [],
   "source": [
    "from sklearn.linear_model import LogisticRegression\n",
    "lr = LogisticRegression()\n",
    "lr.fit(labeled_reviews_dirty, labeled[\"sentiment\"])\n",
    "result_lr = lr.predict(test_reviews_dirty)\n",
    "result_data = zip(test['id'], result_lr)\n",
    "pd.DataFrame(result_data, columns=['id', 'sentiment']).to_csv('submit-lr-dirty.csv', index=False)"
   ]
  },
  {
   "cell_type": "code",
   "execution_count": null,
   "metadata": {
    "collapsed": true
   },
   "outputs": [],
   "source": [
    "\n",
    "\n",
    "\n",
    "\n",
    "\n",
    "\n",
    "\n",
    "\n",
    "\n",
    "\n"
   ]
  },
  {
   "cell_type": "code",
   "execution_count": null,
   "metadata": {
    "collapsed": true
   },
   "outputs": [],
   "source": []
  },
  {
   "cell_type": "code",
   "execution_count": null,
   "metadata": {
    "collapsed": true
   },
   "outputs": [],
   "source": []
  },
  {
   "cell_type": "code",
   "execution_count": null,
   "metadata": {
    "collapsed": true
   },
   "outputs": [],
   "source": []
  },
  {
   "cell_type": "code",
   "execution_count": null,
   "metadata": {
    "collapsed": true
   },
   "outputs": [],
   "source": []
  },
  {
   "cell_type": "code",
   "execution_count": null,
   "metadata": {
    "collapsed": true
   },
   "outputs": [],
   "source": []
  },
  {
   "cell_type": "code",
   "execution_count": 49,
   "metadata": {
    "collapsed": true
   },
   "outputs": [],
   "source": [
    "tokenizer = nltk.data.load('tokenizers/punkt/english.pickle')\n",
    "\n",
    "# Define a function to split a review into parsed sentences\n",
    "def review_to_sentences( review, tokenizer, remove_stopwords=False ):\n",
    "    # Function to split a review into parsed sentences. Returns a \n",
    "    # list of sentences, where each sentence is a list of words\n",
    "    #\n",
    "    # 1. Use the NLTK tokenizer to split the paragraph into sentences\n",
    "    raw_sentences = tokenizer.tokenize(review.strip())\n",
    "    #\n",
    "    # 2. Loop over each sentence\n",
    "    sentences = []\n",
    "    for raw_sentence in raw_sentences:\n",
    "        # If a sentence is empty, skip it\n",
    "        if len(raw_sentence) > 0:\n",
    "            # Otherwise, call review_to_wordlist to get a list of words\n",
    "            sentences.append( review_to_wordlist( raw_sentence, \\\n",
    "              remove_stopwords ))\n",
    "    #\n",
    "    # Return the list of sentences (each sentence is a list of words,\n",
    "    # so this returns a list of lists\n",
    "    return sentences\n"
   ]
  },
  {
   "cell_type": "code",
   "execution_count": 50,
   "metadata": {
    "collapsed": false
   },
   "outputs": [
    {
     "data": {
      "text/plain": [
       "(25000, 2)"
      ]
     },
     "execution_count": 50,
     "metadata": {},
     "output_type": "execute_result"
    }
   ],
   "source": [
    "test.shape"
   ]
  },
  {
   "cell_type": "code",
   "execution_count": null,
   "metadata": {
    "collapsed": true
   },
   "outputs": [],
   "source": []
  }
 ],
 "metadata": {
  "kernelspec": {
   "display_name": "Python 2",
   "language": "python",
   "name": "python2"
  },
  "language_info": {
   "codemirror_mode": {
    "name": "ipython",
    "version": 2
   },
   "file_extension": ".py",
   "mimetype": "text/x-python",
   "name": "python",
   "nbconvert_exporter": "python",
   "pygments_lexer": "ipython2",
   "version": "2.7.11"
  }
 },
 "nbformat": 4,
 "nbformat_minor": 0
}
